{
  "nbformat": 4,
  "nbformat_minor": 0,
  "metadata": {
    "colab": {
      "provenance": [],
      "authorship_tag": "ABX9TyPNdC0+uDbd/3iaTQP7HqsB"
    },
    "kernelspec": {
      "name": "ir",
      "display_name": "R"
    },
    "language_info": {
      "name": "R"
    }
  },
  "cells": [
    {
      "cell_type": "markdown",
      "source": [
        "# 0. Install BiocManager Biostrings\n",
        "\n",
        "- [Install Biostrings](https://bioconductor.org/packages/release/bioc/html/Biostrings.html)\n",
        "\n"
      ],
      "metadata": {
        "id": "RCFP0o12GD4r"
      }
    },
    {
      "cell_type": "code",
      "execution_count": null,
      "metadata": {
        "id": "u-onhfiQFOgu"
      },
      "outputs": [],
      "source": [
        "if (!require(\"BiocManager\", quietly = TRUE))\n",
        "    install.packages(\"BiocManager\")\n",
        "\n",
        "BiocManager::install(\"Biostrings\")"
      ]
    },
    {
      "cell_type": "markdown",
      "source": [
        "# 1. Upload the files to Colab\n",
        "\n",
        "- Note: the uploaded files will be deleted when the runtime is finished"
      ],
      "metadata": {
        "id": "CyZToZxpHoqd"
      }
    },
    {
      "cell_type": "markdown",
      "source": [
        "# 2. Load the installed package Biostrings"
      ],
      "metadata": {
        "id": "jwJpMM5iInRW"
      }
    },
    {
      "cell_type": "code",
      "source": [
        "library(Biostrings)"
      ],
      "metadata": {
        "id": "u7r6ol-4GDgn"
      },
      "execution_count": null,
      "outputs": []
    },
    {
      "cell_type": "markdown",
      "source": [
        "# 3. Read the fasta file containing the selected sequences"
      ],
      "metadata": {
        "id": "jPQ-x7GFJeyQ"
      }
    },
    {
      "cell_type": "code",
      "source": [
        "seqs <- readDNAStringSet(\"/content/selected_seqs.fasta\") # replace the path with the path to the link to the fasta file if you are using the online runtime"
      ],
      "metadata": {
        "id": "Phyw1SLeJG-J"
      },
      "execution_count": 4,
      "outputs": []
    },
    {
      "cell_type": "markdown",
      "source": [
        "# 4. DATA CLEANING\n",
        "\n",
        "1. Load the provided SARS-CoV-2 FASTA file (20 sequences, each 29,903 bp) into the Colab notebook.\n",
        "\n",
        "2. Keep sequences with coverage over 90% (counting only A, C, T, and G bases)."
      ],
      "metadata": {
        "id": "SMIJrqpdJtlC"
      }
    },
    {
      "cell_type": "markdown",
      "source": [
        "## Manually calculate the proportion of A, C, T, G in the sequences"
      ],
      "metadata": {
        "id": "dNE6bnmjMKw_"
      }
    },
    {
      "cell_type": "code",
      "source": [
        "### Try to extract one sequence and print it\n",
        "seq1 <- seqs[[1]]\n",
        "print(seq1)"
      ],
      "metadata": {
        "id": "J93vwqKdJrPm"
      },
      "execution_count": null,
      "outputs": []
    },
    {
      "cell_type": "code",
      "source": [
        "### Try to change to a character vector\n",
        "seq1_char <- as.character(seq1)\n",
        "print(seq1_char)"
      ],
      "metadata": {
        "id": "tHFoSMP7KBxt"
      },
      "execution_count": null,
      "outputs": []
    },
    {
      "cell_type": "code",
      "source": [
        "### Split the sequence into a list of characters\n",
        "seq1_char_list <- strsplit(seq1_char, \"\")\n",
        "print(seq1_char_list)"
      ],
      "metadata": {
        "id": "Ud-LW1JFKD67"
      },
      "execution_count": null,
      "outputs": []
    },
    {
      "cell_type": "code",
      "source": [
        "### Count the number of each character\n",
        "seq1_char_table <- table(seq1_char_list)\n",
        "print(seq1_char_table)"
      ],
      "metadata": {
        "id": "6lbkX8UiKGoX"
      },
      "execution_count": null,
      "outputs": []
    },
    {
      "cell_type": "markdown",
      "source": [
        "### Repeat the above steps for all the sequences\n",
        "\n",
        "1. Change to a character vector\n",
        "\n",
        "2. Split the sequence into a list of characters\n",
        "\n",
        "3. Count the number of each character\n"
      ],
      "metadata": {
        "id": "C7KFbKTGM4kG"
      }
    },
    {
      "cell_type": "code",
      "source": [
        "seqs_char <- lapply(seqs, as.character)\n",
        "seqs_char_list <- lapply(seqs_char, strsplit, \"\")\n",
        "seqs_char_table <- lapply(seqs_char_list, table)\n",
        "print(seqs_char_table)"
      ],
      "metadata": {
        "id": "ZsZdrr9dKI_m"
      },
      "execution_count": null,
      "outputs": []
    },
    {
      "cell_type": "markdown",
      "source": [
        "### Calculate the proportion of A, C, T, G in each sequence"
      ],
      "metadata": {
        "id": "rgPKVpzvODTp"
      }
    },
    {
      "cell_type": "code",
      "source": [
        "seqs_char_table_prop <- lapply(seqs_char_table, function(x) x/sum(x))\n",
        "print(seqs_char_table_prop)"
      ],
      "metadata": {
        "colab": {
          "base_uri": "https://localhost:8080/"
        },
        "id": "UuW15qW7KMya",
        "outputId": "28a4bb12-59b0-4929-a092-2433880a00dc"
      },
      "execution_count": 10,
      "outputs": [
        {
          "output_type": "stream",
          "name": "stdout",
          "text": [
            "$`WHP10644-AV41_RC860962`\n",
            "\n",
            "           -            A            C            G            N            T \n",
            "0.0017723974 0.2987660101 0.1823228439 0.1952312477 0.0009029194 0.3210045815 \n",
            "\n",
            "$`WHP7426-H2-iseq_1019418`\n",
            "\n",
            "          -           A           C           G           N           T \n",
            "0.001939605 0.297060496 0.181720898 0.194863392 0.004247066 0.320168545 \n",
            "\n",
            "$WHP3916_10681\n",
            "\n",
            "          A           C           G           N           T \n",
            "0.298966659 0.183058556 0.195565662 0.001805839 0.320603284 \n",
            "\n",
            "$WHP1939_3582\n",
            "\n",
            "           A            C            G            N            T \n",
            "0.2994013979 0.1834264121 0.1960004013 0.0001337658 0.3210380229 \n",
            "\n",
            "$`GSR4-S14-iseq_NA`\n",
            "\n",
            "          A           N \n",
            "0.001103568 0.998896432 \n",
            "\n",
            "$WHP3977_10906\n",
            "\n",
            "           A            C            G            K            M            N \n",
            "2.985654e-01 1.828245e-01 1.954319e-01 3.344146e-05 3.344146e-05 2.842524e-03 \n",
            "           T \n",
            "3.202689e-01 \n",
            "\n",
            "$`VOC195-P1D3_NA`\n",
            "\n",
            "          -           A           C           G           N           T \n",
            "0.001304217 0.260408655 0.159950507 0.172123198 0.131725914 0.274487510 \n",
            "\n",
            "$`WHP10921-A4v1_377_054`\n",
            "\n",
            "           A            C            G            N            T \n",
            "1.605190e-03 6.688292e-05 3.344146e-04 9.977594e-01 2.340902e-04 \n",
            "\n",
            "$`WHP8107-A4v1_1082351`\n",
            "\n",
            "           -            A            C            G            N            T \n",
            "0.0022740193 0.2986322443 0.1822559609 0.1952312477 0.0009029194 0.3207036083 \n",
            "\n",
            "$`WHP9945-A4v1_1354269`\n",
            "\n",
            "          -           A           C           G           N           T \n",
            "0.001872722 0.298732569 0.182289402 0.195030599 0.001504866 0.320569842 \n",
            "\n",
            "$`WHP10903-H2-iseq_379_017`\n",
            "\n",
            "          -           A           C           G           N           T \n",
            "0.001772397 0.296960171 0.181787780 0.194930275 0.004046417 0.320502960 \n",
            "\n",
            "$`VOC1729-A4v1_NA`\n",
            "\n",
            "          -           A           C           G           N           T \n",
            "0.001872722 0.298665686 0.182389727 0.195097482 0.001337658 0.320636725 \n",
            "\n",
            "$`WHP8633-H2-iseq_RC1260113`\n",
            "\n",
            "          -           A           C           G           N           T \n",
            "0.002039929 0.297328027 0.181821222 0.194863392 0.003411029 0.320536401 \n",
            "\n",
            "$`WHP9069-H2-iseq_1251349`\n",
            "\n",
            "           -            A            C            G            N            T \n",
            "0.0009363609 0.2354613250 0.1447680835 0.1548005217 0.2106477611 0.2533859479 \n",
            "\n",
            "$WHP1747_2771\n",
            "\n",
            "           A            C            G            N            T \n",
            "0.2993679564 0.1833929706 0.1959000769 0.0002340902 0.3211049059 \n",
            "\n",
            "$`VOC1980-H2-iseq_NA`\n",
            "\n",
            "          -           A           C           G           N           T \n",
            "0.001003244 0.297829649 0.181988429 0.194428653 0.004815570 0.319934455 \n",
            "\n",
            "$`WHP7692-A4v1_1024583`\n",
            "\n",
            "          -           A           C           G           N           T \n",
            "0.001772397 0.298665686 0.182255961 0.195264689 0.001304217 0.320737050 \n",
            "\n",
            "$`WHP9591-A4v1_1283879`\n",
            "\n",
            "          -           A           C           G           N           T \n",
            "0.001772397 0.298498478 0.181888105 0.195231248 0.001504866 0.321104906 \n",
            "\n",
            "$`WHP6749-H2-iseq_RC400601`\n",
            "\n",
            "           -            A            C            G            K            M \n",
            "1.738956e-03 2.980637e-01 1.819215e-01 1.949303e-01 3.344146e-05 3.344146e-05 \n",
            "           N            R            S            T            W            Y \n",
            "2.742200e-03 1.003244e-04 3.344146e-05 3.201017e-01 2.006488e-04 1.003244e-04 \n",
            "\n",
            "$WHP4969_12214\n",
            "\n",
            "          -           A           C           G           N           T \n",
            "0.000434739 0.298264388 0.182523493 0.195130923 0.003812327 0.319834130 \n",
            "\n"
          ]
        }
      ]
    },
    {
      "cell_type": "markdown",
      "source": [
        "### Calculate the summed proportion of A, C, T, G in all the sequences"
      ],
      "metadata": {
        "id": "_VYow9b9OJKJ"
      }
    },
    {
      "cell_type": "code",
      "source": [
        "seqs_char_table_prop_actg <- lapply(seqs_char_table_prop, function(x) sum(x[names(x) %in% c(\"A\", \"C\", \"T\", \"G\")]))\n",
        "print(seqs_char_table_prop_actg)"
      ],
      "metadata": {
        "colab": {
          "base_uri": "https://localhost:8080/"
        },
        "id": "H3A1Jp2mS4-i",
        "outputId": "e6c52240-1290-488d-aa96-06b37773121a"
      },
      "execution_count": 11,
      "outputs": [
        {
          "output_type": "stream",
          "name": "stdout",
          "text": [
            "$`WHP10644-AV41_RC860962`\n",
            "[1] 0.9973247\n",
            "\n",
            "$`WHP7426-H2-iseq_1019418`\n",
            "[1] 0.9938133\n",
            "\n",
            "$WHP3916_10681\n",
            "[1] 0.9981942\n",
            "\n",
            "$WHP1939_3582\n",
            "[1] 0.9998662\n",
            "\n",
            "$`GSR4-S14-iseq_NA`\n",
            "[1] 0.001103568\n",
            "\n",
            "$WHP3977_10906\n",
            "[1] 0.9970906\n",
            "\n",
            "$`VOC195-P1D3_NA`\n",
            "[1] 0.8669699\n",
            "\n",
            "$`WHP10921-A4v1_377_054`\n",
            "[1] 0.002240578\n",
            "\n",
            "$`WHP8107-A4v1_1082351`\n",
            "[1] 0.9968231\n",
            "\n",
            "$`WHP9945-A4v1_1354269`\n",
            "[1] 0.9966224\n",
            "\n",
            "$`WHP10903-H2-iseq_379_017`\n",
            "[1] 0.9941812\n",
            "\n",
            "$`VOC1729-A4v1_NA`\n",
            "[1] 0.9967896\n",
            "\n",
            "$`WHP8633-H2-iseq_RC1260113`\n",
            "[1] 0.994549\n",
            "\n",
            "$`WHP9069-H2-iseq_1251349`\n",
            "[1] 0.7884159\n",
            "\n",
            "$WHP1747_2771\n",
            "[1] 0.9997659\n",
            "\n",
            "$`VOC1980-H2-iseq_NA`\n",
            "[1] 0.9941812\n",
            "\n",
            "$`WHP7692-A4v1_1024583`\n",
            "[1] 0.9969234\n",
            "\n",
            "$`WHP9591-A4v1_1283879`\n",
            "[1] 0.9967227\n",
            "\n",
            "$`WHP6749-H2-iseq_RC400601`\n",
            "[1] 0.9950172\n",
            "\n",
            "$WHP4969_12214\n",
            "[1] 0.9957529\n",
            "\n"
          ]
        }
      ]
    },
    {
      "cell_type": "code",
      "source": [
        "print(seqs_char_table_prop_actg[seqs_char_table_prop_actg<0.9])"
      ],
      "metadata": {
        "colab": {
          "base_uri": "https://localhost:8080/"
        },
        "id": "U226K4WtKPEt",
        "outputId": "8f1d6e85-f93e-4c13-a390-106116f2d422"
      },
      "execution_count": 12,
      "outputs": [
        {
          "output_type": "stream",
          "name": "stdout",
          "text": [
            "$`GSR4-S14-iseq_NA`\n",
            "[1] 0.001103568\n",
            "\n",
            "$`VOC195-P1D3_NA`\n",
            "[1] 0.8669699\n",
            "\n",
            "$`WHP10921-A4v1_377_054`\n",
            "[1] 0.002240578\n",
            "\n",
            "$`WHP9069-H2-iseq_1251349`\n",
            "[1] 0.7884159\n",
            "\n"
          ]
        }
      ]
    },
    {
      "cell_type": "code",
      "source": [
        "print(seqs[seqs_char_table_prop_actg<0.9])"
      ],
      "metadata": {
        "colab": {
          "base_uri": "https://localhost:8080/"
        },
        "id": "EVf3eXa5StL4",
        "outputId": "2583bf44-4acc-4079-93a8-b75094d8aad5"
      },
      "execution_count": 13,
      "outputs": [
        {
          "output_type": "stream",
          "name": "stdout",
          "text": [
            "DNAStringSet object of length 4:\n",
            "    width seq                                               names               \n",
            "[1] 29903 \u001b[47m\u001b[37mN\u001b[39m\u001b[49m\u001b[47m\u001b[37mN\u001b[39m\u001b[49m\u001b[47m\u001b[37mN\u001b[39m\u001b[49m\u001b[47m\u001b[37mN\u001b[39m\u001b[49m\u001b[47m\u001b[37mN\u001b[39m\u001b[49m\u001b[47m\u001b[37mN\u001b[39m\u001b[49m\u001b[47m\u001b[37mN\u001b[39m\u001b[49m\u001b[47m\u001b[37mN\u001b[39m\u001b[49m\u001b[47m\u001b[37mN\u001b[39m\u001b[49m\u001b[47m\u001b[37mN\u001b[39m\u001b[49m\u001b[47m\u001b[37mN\u001b[39m\u001b[49m\u001b[47m\u001b[37mN\u001b[39m\u001b[49m\u001b[47m\u001b[37mN\u001b[39m\u001b[49m\u001b[47m\u001b[37mN\u001b[39m\u001b[49m\u001b[47m\u001b[37mN\u001b[39m\u001b[49m\u001b[47m\u001b[37mN\u001b[39m\u001b[49m\u001b[47m\u001b[37mN\u001b[39m\u001b[49m\u001b[47m\u001b[37mN\u001b[39m\u001b[49m\u001b[47m\u001b[37mN\u001b[39m\u001b[49m\u001b[47m\u001b[37mN\u001b[39m\u001b[49m\u001b[47m\u001b[37mN\u001b[39m\u001b[49m\u001b[47m\u001b[37mN\u001b[39m\u001b[49m\u001b[47m\u001b[37mN\u001b[39m\u001b[49m...\u001b[47m\u001b[30mA\u001b[39m\u001b[49m\u001b[47m\u001b[30mA\u001b[39m\u001b[49m\u001b[47m\u001b[30mA\u001b[39m\u001b[49m\u001b[47m\u001b[30mA\u001b[39m\u001b[49m\u001b[47m\u001b[30mA\u001b[39m\u001b[49m\u001b[47m\u001b[30mA\u001b[39m\u001b[49m\u001b[47m\u001b[30mA\u001b[39m\u001b[49m\u001b[47m\u001b[30mA\u001b[39m\u001b[49m\u001b[47m\u001b[30mA\u001b[39m\u001b[49m\u001b[47m\u001b[30mA\u001b[39m\u001b[49m\u001b[47m\u001b[30mA\u001b[39m\u001b[49m\u001b[47m\u001b[30mA\u001b[39m\u001b[49m\u001b[47m\u001b[30mA\u001b[39m\u001b[49m\u001b[47m\u001b[30mA\u001b[39m\u001b[49m\u001b[47m\u001b[30mA\u001b[39m\u001b[49m\u001b[47m\u001b[30mA\u001b[39m\u001b[49m\u001b[47m\u001b[30mA\u001b[39m\u001b[49m\u001b[47m\u001b[30mA\u001b[39m\u001b[49m\u001b[47m\u001b[30mA\u001b[39m\u001b[49m\u001b[47m\u001b[30mA\u001b[39m\u001b[49m\u001b[47m\u001b[30mA\u001b[39m\u001b[49m\u001b[47m\u001b[30mA\u001b[39m\u001b[49m\u001b[47m\u001b[30mA\u001b[39m\u001b[49m GSR4-S14-iseq_NA\n",
            "[2] 29903 \u001b[47m\u001b[37mN\u001b[39m\u001b[49m\u001b[47m\u001b[37mN\u001b[39m\u001b[49m\u001b[47m\u001b[37mN\u001b[39m\u001b[49m\u001b[47m\u001b[37mN\u001b[39m\u001b[49m\u001b[47m\u001b[37mN\u001b[39m\u001b[49m\u001b[47m\u001b[37mN\u001b[39m\u001b[49m\u001b[47m\u001b[37mN\u001b[39m\u001b[49m\u001b[47m\u001b[37mN\u001b[39m\u001b[49m\u001b[47m\u001b[37mN\u001b[39m\u001b[49m\u001b[47m\u001b[37mN\u001b[39m\u001b[49m\u001b[47m\u001b[37mN\u001b[39m\u001b[49m\u001b[47m\u001b[37mN\u001b[39m\u001b[49m\u001b[47m\u001b[30mT\u001b[39m\u001b[49m\u001b[47m\u001b[30mA\u001b[39m\u001b[49m\u001b[47m\u001b[30mC\u001b[39m\u001b[49m\u001b[47m\u001b[30mC\u001b[39m\u001b[49m\u001b[47m\u001b[30mT\u001b[39m\u001b[49m\u001b[47m\u001b[30mT\u001b[39m\u001b[49m\u001b[47m\u001b[30mC\u001b[39m\u001b[49m\u001b[47m\u001b[30mC\u001b[39m\u001b[49m\u001b[47m\u001b[30mC\u001b[39m\u001b[49m\u001b[47m\u001b[30mA\u001b[39m\u001b[49m\u001b[47m\u001b[30mG\u001b[39m\u001b[49m...\u001b[47m\u001b[30mA\u001b[39m\u001b[49m\u001b[47m\u001b[30mA\u001b[39m\u001b[49m\u001b[47m\u001b[30mA\u001b[39m\u001b[49m\u001b[47m\u001b[30mA\u001b[39m\u001b[49m\u001b[47m\u001b[30mA\u001b[39m\u001b[49m\u001b[47m\u001b[30mA\u001b[39m\u001b[49m\u001b[47m\u001b[30mA\u001b[39m\u001b[49m\u001b[47m\u001b[30mA\u001b[39m\u001b[49m\u001b[47m\u001b[30mA\u001b[39m\u001b[49m\u001b[47m\u001b[30mA\u001b[39m\u001b[49m\u001b[47m\u001b[30mA\u001b[39m\u001b[49m\u001b[47m\u001b[30mA\u001b[39m\u001b[49m\u001b[47m\u001b[30mA\u001b[39m\u001b[49m\u001b[47m\u001b[30mA\u001b[39m\u001b[49m\u001b[47m\u001b[30mA\u001b[39m\u001b[49m\u001b[47m\u001b[30mA\u001b[39m\u001b[49m\u001b[47m\u001b[30mA\u001b[39m\u001b[49m\u001b[47m\u001b[30mA\u001b[39m\u001b[49m\u001b[47m\u001b[30mA\u001b[39m\u001b[49m\u001b[47m\u001b[30mA\u001b[39m\u001b[49m\u001b[47m\u001b[30mA\u001b[39m\u001b[49m\u001b[47m\u001b[30mA\u001b[39m\u001b[49m\u001b[47m\u001b[30mA\u001b[39m\u001b[49m VOC195-P1D3_NA\n",
            "[3] 29903 \u001b[47m\u001b[37mN\u001b[39m\u001b[49m\u001b[47m\u001b[37mN\u001b[39m\u001b[49m\u001b[47m\u001b[37mN\u001b[39m\u001b[49m\u001b[47m\u001b[37mN\u001b[39m\u001b[49m\u001b[47m\u001b[37mN\u001b[39m\u001b[49m\u001b[47m\u001b[37mN\u001b[39m\u001b[49m\u001b[47m\u001b[37mN\u001b[39m\u001b[49m\u001b[47m\u001b[37mN\u001b[39m\u001b[49m\u001b[47m\u001b[37mN\u001b[39m\u001b[49m\u001b[47m\u001b[37mN\u001b[39m\u001b[49m\u001b[47m\u001b[37mN\u001b[39m\u001b[49m\u001b[47m\u001b[37mN\u001b[39m\u001b[49m\u001b[47m\u001b[37mN\u001b[39m\u001b[49m\u001b[47m\u001b[37mN\u001b[39m\u001b[49m\u001b[47m\u001b[37mN\u001b[39m\u001b[49m\u001b[47m\u001b[37mN\u001b[39m\u001b[49m\u001b[47m\u001b[37mN\u001b[39m\u001b[49m\u001b[47m\u001b[37mN\u001b[39m\u001b[49m\u001b[47m\u001b[37mN\u001b[39m\u001b[49m\u001b[47m\u001b[37mN\u001b[39m\u001b[49m\u001b[47m\u001b[37mN\u001b[39m\u001b[49m\u001b[47m\u001b[37mN\u001b[39m\u001b[49m\u001b[47m\u001b[37mN\u001b[39m\u001b[49m...\u001b[47m\u001b[30mA\u001b[39m\u001b[49m\u001b[47m\u001b[30mA\u001b[39m\u001b[49m\u001b[47m\u001b[30mA\u001b[39m\u001b[49m\u001b[47m\u001b[30mA\u001b[39m\u001b[49m\u001b[47m\u001b[30mA\u001b[39m\u001b[49m\u001b[47m\u001b[30mA\u001b[39m\u001b[49m\u001b[47m\u001b[30mA\u001b[39m\u001b[49m\u001b[47m\u001b[30mA\u001b[39m\u001b[49m\u001b[47m\u001b[30mA\u001b[39m\u001b[49m\u001b[47m\u001b[30mA\u001b[39m\u001b[49m\u001b[47m\u001b[30mA\u001b[39m\u001b[49m\u001b[47m\u001b[30mA\u001b[39m\u001b[49m\u001b[47m\u001b[30mA\u001b[39m\u001b[49m\u001b[47m\u001b[30mA\u001b[39m\u001b[49m\u001b[47m\u001b[30mA\u001b[39m\u001b[49m\u001b[47m\u001b[30mA\u001b[39m\u001b[49m\u001b[47m\u001b[30mA\u001b[39m\u001b[49m\u001b[47m\u001b[30mA\u001b[39m\u001b[49m\u001b[47m\u001b[30mA\u001b[39m\u001b[49m\u001b[47m\u001b[30mA\u001b[39m\u001b[49m\u001b[47m\u001b[30mA\u001b[39m\u001b[49m\u001b[47m\u001b[30mA\u001b[39m\u001b[49m\u001b[47m\u001b[30mA\u001b[39m\u001b[49m WHP10921-A4v1_377...\n",
            "[4] 29903 \u001b[47m\u001b[37mN\u001b[39m\u001b[49m\u001b[47m\u001b[37mN\u001b[39m\u001b[49m\u001b[47m\u001b[30mT\u001b[39m\u001b[49m\u001b[47m\u001b[30mA\u001b[39m\u001b[49m\u001b[47m\u001b[30mA\u001b[39m\u001b[49m\u001b[47m\u001b[30mA\u001b[39m\u001b[49m\u001b[47m\u001b[30mG\u001b[39m\u001b[49m\u001b[47m\u001b[30mG\u001b[39m\u001b[49m\u001b[47m\u001b[30mT\u001b[39m\u001b[49m\u001b[47m\u001b[30mT\u001b[39m\u001b[49m\u001b[47m\u001b[30mT\u001b[39m\u001b[49m\u001b[47m\u001b[30mA\u001b[39m\u001b[49m\u001b[47m\u001b[30mT\u001b[39m\u001b[49m\u001b[47m\u001b[30mA\u001b[39m\u001b[49m\u001b[47m\u001b[30mC\u001b[39m\u001b[49m\u001b[47m\u001b[30mC\u001b[39m\u001b[49m\u001b[47m\u001b[30mT\u001b[39m\u001b[49m\u001b[47m\u001b[30mT\u001b[39m\u001b[49m\u001b[47m\u001b[30mC\u001b[39m\u001b[49m\u001b[47m\u001b[30mC\u001b[39m\u001b[49m\u001b[47m\u001b[30mC\u001b[39m\u001b[49m\u001b[47m\u001b[30mA\u001b[39m\u001b[49m\u001b[47m\u001b[30mG\u001b[39m\u001b[49m...\u001b[47m\u001b[37mN\u001b[39m\u001b[49m\u001b[47m\u001b[37mN\u001b[39m\u001b[49m\u001b[47m\u001b[37mN\u001b[39m\u001b[49m\u001b[47m\u001b[37mN\u001b[39m\u001b[49m\u001b[47m\u001b[37mN\u001b[39m\u001b[49m\u001b[47m\u001b[37mN\u001b[39m\u001b[49m\u001b[47m\u001b[37mN\u001b[39m\u001b[49m\u001b[47m\u001b[37mN\u001b[39m\u001b[49m\u001b[47m\u001b[37mN\u001b[39m\u001b[49m\u001b[47m\u001b[37mN\u001b[39m\u001b[49m\u001b[47m\u001b[37mN\u001b[39m\u001b[49m\u001b[47m\u001b[37mN\u001b[39m\u001b[49m\u001b[47m\u001b[37mN\u001b[39m\u001b[49m\u001b[47m\u001b[37mN\u001b[39m\u001b[49m\u001b[47m\u001b[37mN\u001b[39m\u001b[49m\u001b[47m\u001b[37mN\u001b[39m\u001b[49m\u001b[47m\u001b[37mN\u001b[39m\u001b[49m\u001b[47m\u001b[37mN\u001b[39m\u001b[49m\u001b[47m\u001b[37mN\u001b[39m\u001b[49m\u001b[47m\u001b[37mN\u001b[39m\u001b[49m\u001b[47m\u001b[37mN\u001b[39m\u001b[49m\u001b[47m\u001b[37mN\u001b[39m\u001b[49m\u001b[47m\u001b[37mN\u001b[39m\u001b[49m WHP9069-H2-iseq_1...\n"
          ]
        }
      ]
    },
    {
      "cell_type": "markdown",
      "source": [
        "## Using a built-in function to calculate the proportion of A, C, T, G in the sequences\n"
      ],
      "metadata": {
        "id": "mYsORX1AOdVF"
      }
    },
    {
      "cell_type": "code",
      "source": [
        "seqs_nt_count <- alphabetFrequency(seqs)\n",
        "print(seqs_nt_count)"
      ],
      "metadata": {
        "id": "RJHV9iK_JZR-"
      },
      "execution_count": null,
      "outputs": []
    },
    {
      "cell_type": "code",
      "source": [
        "seqs_nt_prop <- seqs_nt_count/rowSums(seqs_nt_count)\n",
        "print(seqs_nt_prop)"
      ],
      "metadata": {
        "id": "dXw6GHsAKRri"
      },
      "execution_count": null,
      "outputs": []
    },
    {
      "cell_type": "markdown",
      "source": [
        "## Compare Manual calculation with Built-in function"
      ],
      "metadata": {
        "id": "H4UtwrpOOllK"
      }
    },
    {
      "cell_type": "code",
      "source": [
        "## Way 1\n",
        "seqs_nt_prop_actg_1 <- apply(seqs_nt_prop, 1, function(x) sum(x[names(x) %in% c(\"A\", \"C\", \"T\", \"G\")]))\n",
        "print(seqs_nt_prop_actg_1)"
      ],
      "metadata": {
        "colab": {
          "base_uri": "https://localhost:8080/"
        },
        "id": "v03jJ_gyKUGK",
        "outputId": "30f17b2c-fbea-401a-f08e-fad6da4f870c"
      },
      "execution_count": 16,
      "outputs": [
        {
          "output_type": "stream",
          "name": "stdout",
          "text": [
            " [1] 0.997324683 0.993813330 0.998194161 0.999866234 0.001103568 0.997090593\n",
            " [7] 0.866969869 0.002240578 0.996823061 0.996622412 0.994181186 0.996789620\n",
            "[13] 0.994549042 0.788415878 0.999765910 0.994181186 0.996923386 0.996722737\n",
            "[19] 0.995017222 0.995752934\n"
          ]
        }
      ]
    },
    {
      "cell_type": "code",
      "source": [
        "# Way 2\n",
        "seqs_nt_prop_df <- as.data.frame(seqs_nt_prop)\n",
        "seqs_nt_prop_actg_2 <- (seqs_nt_prop_df$A + seqs_nt_prop_df$C + seqs_nt_prop_df$T + seqs_nt_prop_df$G)\n",
        "print(seqs_nt_prop_actg_2)"
      ],
      "metadata": {
        "colab": {
          "base_uri": "https://localhost:8080/"
        },
        "id": "YYLezyT7Kp6L",
        "outputId": "579b9e07-8c2a-4d60-aa3b-898d47ad46df"
      },
      "execution_count": 17,
      "outputs": [
        {
          "output_type": "stream",
          "name": "stdout",
          "text": [
            " [1] 0.997324683 0.993813330 0.998194161 0.999866234 0.001103568 0.997090593\n",
            " [7] 0.866969869 0.002240578 0.996823061 0.996622412 0.994181186 0.996789620\n",
            "[13] 0.994549042 0.788415878 0.999765910 0.994181186 0.996923386 0.996722737\n",
            "[19] 0.995017222 0.995752934\n"
          ]
        }
      ]
    },
    {
      "cell_type": "code",
      "source": [
        "## Compare the two ways\n",
        "print(seqs_nt_prop_actg_1 - seqs_nt_prop_actg_2)\n",
        "(seqs_nt_prop_actg_1 - seqs_nt_prop_actg_2)<0.00000000001"
      ],
      "metadata": {
        "colab": {
          "base_uri": "https://localhost:8080/",
          "height": 104
        },
        "id": "A3ztNUAJKrqK",
        "outputId": "029b89b0-e8c9-4aa2-8740-bd236daf98aa"
      },
      "execution_count": 18,
      "outputs": [
        {
          "output_type": "stream",
          "name": "stdout",
          "text": [
            " [1] -1.110223e-16  0.000000e+00  0.000000e+00  0.000000e+00  0.000000e+00\n",
            " [6] -1.110223e-16 -1.110223e-16 -4.336809e-19  0.000000e+00  1.110223e-16\n",
            "[11] -1.110223e-16 -1.110223e-16  0.000000e+00  0.000000e+00  0.000000e+00\n",
            "[16]  0.000000e+00  0.000000e+00 -1.110223e-16  0.000000e+00  0.000000e+00\n"
          ]
        },
        {
          "output_type": "display_data",
          "data": {
            "text/html": [
              "<style>\n",
              ".list-inline {list-style: none; margin:0; padding: 0}\n",
              ".list-inline>li {display: inline-block}\n",
              ".list-inline>li:not(:last-child)::after {content: \"\\00b7\"; padding: 0 .5ex}\n",
              "</style>\n",
              "<ol class=list-inline><li>TRUE</li><li>TRUE</li><li>TRUE</li><li>TRUE</li><li>TRUE</li><li>TRUE</li><li>TRUE</li><li>TRUE</li><li>TRUE</li><li>TRUE</li><li>TRUE</li><li>TRUE</li><li>TRUE</li><li>TRUE</li><li>TRUE</li><li>TRUE</li><li>TRUE</li><li>TRUE</li><li>TRUE</li><li>TRUE</li></ol>\n"
            ],
            "text/markdown": "1. TRUE\n2. TRUE\n3. TRUE\n4. TRUE\n5. TRUE\n6. TRUE\n7. TRUE\n8. TRUE\n9. TRUE\n10. TRUE\n11. TRUE\n12. TRUE\n13. TRUE\n14. TRUE\n15. TRUE\n16. TRUE\n17. TRUE\n18. TRUE\n19. TRUE\n20. TRUE\n\n\n",
            "text/latex": "\\begin{enumerate*}\n\\item TRUE\n\\item TRUE\n\\item TRUE\n\\item TRUE\n\\item TRUE\n\\item TRUE\n\\item TRUE\n\\item TRUE\n\\item TRUE\n\\item TRUE\n\\item TRUE\n\\item TRUE\n\\item TRUE\n\\item TRUE\n\\item TRUE\n\\item TRUE\n\\item TRUE\n\\item TRUE\n\\item TRUE\n\\item TRUE\n\\end{enumerate*}\n",
            "text/plain": [
              " [1] TRUE TRUE TRUE TRUE TRUE TRUE TRUE TRUE TRUE TRUE TRUE TRUE TRUE TRUE TRUE\n",
              "[16] TRUE TRUE TRUE TRUE TRUE"
            ]
          },
          "metadata": {}
        }
      ]
    },
    {
      "cell_type": "markdown",
      "source": [
        "## Result: Filtered Sequences\n",
        "\n",
        "- 16 sequences left after filtering"
      ],
      "metadata": {
        "id": "yybc_9GAO9OM"
      }
    },
    {
      "cell_type": "code",
      "source": [
        "# keeping sequences with at least 90% of A, C, T, G\n",
        "seqs_filtered <- seqs[seqs_nt_prop_actg_1 >= 0.9]\n",
        "print(seqs_filtered) # how many sequences are left after filtering?"
      ],
      "metadata": {
        "colab": {
          "base_uri": "https://localhost:8080/"
        },
        "id": "vowvQ0aSKuA4",
        "outputId": "8845fed6-2bb9-45d2-82d4-7ff8bb132ce8"
      },
      "execution_count": 19,
      "outputs": [
        {
          "output_type": "stream",
          "name": "stdout",
          "text": [
            "DNAStringSet object of length 16:\n",
            "     width seq                                              names               \n",
            " [1] 29903 \u001b[47m\u001b[37mN\u001b[39m\u001b[49m\u001b[47m\u001b[37mN\u001b[39m\u001b[49m\u001b[47m\u001b[37mN\u001b[39m\u001b[49m\u001b[47m\u001b[37mN\u001b[39m\u001b[49m\u001b[47m\u001b[30mA\u001b[39m\u001b[49m\u001b[47m\u001b[30mA\u001b[39m\u001b[49m\u001b[47m\u001b[30mG\u001b[39m\u001b[49m\u001b[47m\u001b[30mG\u001b[39m\u001b[49m\u001b[47m\u001b[30mT\u001b[39m\u001b[49m\u001b[47m\u001b[30mT\u001b[39m\u001b[49m\u001b[47m\u001b[30mT\u001b[39m\u001b[49m\u001b[47m\u001b[30mA\u001b[39m\u001b[49m\u001b[47m\u001b[30mT\u001b[39m\u001b[49m\u001b[47m\u001b[30mA\u001b[39m\u001b[49m\u001b[47m\u001b[30mC\u001b[39m\u001b[49m\u001b[47m\u001b[30mC\u001b[39m\u001b[49m\u001b[47m\u001b[30mT\u001b[39m\u001b[49m\u001b[47m\u001b[30mT\u001b[39m\u001b[49m\u001b[47m\u001b[30mC\u001b[39m\u001b[49m\u001b[47m\u001b[30mC\u001b[39m\u001b[49m\u001b[47m\u001b[30mC\u001b[39m\u001b[49m\u001b[47m\u001b[30mA\u001b[39m\u001b[49m\u001b[47m\u001b[30mG\u001b[39m\u001b[49m...\u001b[47m\u001b[30mA\u001b[39m\u001b[49m\u001b[47m\u001b[30mA\u001b[39m\u001b[49m\u001b[47m\u001b[30mA\u001b[39m\u001b[49m\u001b[47m\u001b[30mA\u001b[39m\u001b[49m\u001b[47m\u001b[30mA\u001b[39m\u001b[49m\u001b[47m\u001b[30mA\u001b[39m\u001b[49m\u001b[47m\u001b[30mA\u001b[39m\u001b[49m\u001b[47m\u001b[30mA\u001b[39m\u001b[49m\u001b[47m\u001b[30mA\u001b[39m\u001b[49m\u001b[47m\u001b[30mA\u001b[39m\u001b[49m\u001b[47m\u001b[30mA\u001b[39m\u001b[49m\u001b[47m\u001b[30mA\u001b[39m\u001b[49m\u001b[47m\u001b[30mA\u001b[39m\u001b[49m\u001b[47m\u001b[30mA\u001b[39m\u001b[49m\u001b[47m\u001b[30mA\u001b[39m\u001b[49m\u001b[47m\u001b[30mA\u001b[39m\u001b[49m\u001b[47m\u001b[30mA\u001b[39m\u001b[49m\u001b[47m\u001b[30mA\u001b[39m\u001b[49m\u001b[47m\u001b[30mA\u001b[39m\u001b[49m\u001b[47m\u001b[30mA\u001b[39m\u001b[49m\u001b[47m\u001b[30mA\u001b[39m\u001b[49m\u001b[47m\u001b[30mA\u001b[39m\u001b[49m WHP10644-AV41_RC8...\n",
            " [2] 29903 \u001b[47m\u001b[37mN\u001b[39m\u001b[49m\u001b[47m\u001b[37mN\u001b[39m\u001b[49m\u001b[47m\u001b[37mN\u001b[39m\u001b[49m\u001b[47m\u001b[37mN\u001b[39m\u001b[49m\u001b[47m\u001b[37mN\u001b[39m\u001b[49m\u001b[47m\u001b[37mN\u001b[39m\u001b[49m\u001b[47m\u001b[37mN\u001b[39m\u001b[49m\u001b[47m\u001b[30mG\u001b[39m\u001b[49m\u001b[47m\u001b[30mT\u001b[39m\u001b[49m\u001b[47m\u001b[30mT\u001b[39m\u001b[49m\u001b[47m\u001b[30mT\u001b[39m\u001b[49m\u001b[47m\u001b[30mA\u001b[39m\u001b[49m\u001b[47m\u001b[30mT\u001b[39m\u001b[49m\u001b[47m\u001b[30mA\u001b[39m\u001b[49m\u001b[47m\u001b[30mC\u001b[39m\u001b[49m\u001b[47m\u001b[30mC\u001b[39m\u001b[49m\u001b[47m\u001b[30mT\u001b[39m\u001b[49m\u001b[47m\u001b[30mT\u001b[39m\u001b[49m\u001b[47m\u001b[30mC\u001b[39m\u001b[49m\u001b[47m\u001b[30mC\u001b[39m\u001b[49m\u001b[47m\u001b[30mC\u001b[39m\u001b[49m\u001b[47m\u001b[30mA\u001b[39m\u001b[49m\u001b[47m\u001b[30mG\u001b[39m\u001b[49m...\u001b[47m\u001b[37mN\u001b[39m\u001b[49m\u001b[47m\u001b[37mN\u001b[39m\u001b[49m\u001b[47m\u001b[37mN\u001b[39m\u001b[49m\u001b[47m\u001b[37mN\u001b[39m\u001b[49m\u001b[47m\u001b[37mN\u001b[39m\u001b[49m\u001b[47m\u001b[37mN\u001b[39m\u001b[49m\u001b[47m\u001b[37mN\u001b[39m\u001b[49m\u001b[47m\u001b[37mN\u001b[39m\u001b[49m\u001b[47m\u001b[37mN\u001b[39m\u001b[49m\u001b[47m\u001b[37mN\u001b[39m\u001b[49m\u001b[47m\u001b[37mN\u001b[39m\u001b[49m\u001b[47m\u001b[37mN\u001b[39m\u001b[49m\u001b[47m\u001b[37mN\u001b[39m\u001b[49m\u001b[47m\u001b[37mN\u001b[39m\u001b[49m\u001b[47m\u001b[37mN\u001b[39m\u001b[49m\u001b[47m\u001b[37mN\u001b[39m\u001b[49m\u001b[47m\u001b[37mN\u001b[39m\u001b[49m\u001b[47m\u001b[37mN\u001b[39m\u001b[49m\u001b[47m\u001b[37mN\u001b[39m\u001b[49m\u001b[47m\u001b[37mN\u001b[39m\u001b[49m\u001b[47m\u001b[37mN\u001b[39m\u001b[49m\u001b[47m\u001b[37mN\u001b[39m\u001b[49m WHP7426-H2-iseq_1...\n",
            " [3] 29903 \u001b[47m\u001b[37mN\u001b[39m\u001b[49m\u001b[47m\u001b[37mN\u001b[39m\u001b[49m\u001b[47m\u001b[37mN\u001b[39m\u001b[49m\u001b[47m\u001b[37mN\u001b[39m\u001b[49m\u001b[47m\u001b[37mN\u001b[39m\u001b[49m\u001b[47m\u001b[37mN\u001b[39m\u001b[49m\u001b[47m\u001b[37mN\u001b[39m\u001b[49m\u001b[47m\u001b[37mN\u001b[39m\u001b[49m\u001b[47m\u001b[37mN\u001b[39m\u001b[49m\u001b[47m\u001b[37mN\u001b[39m\u001b[49m\u001b[47m\u001b[37mN\u001b[39m\u001b[49m\u001b[47m\u001b[37mN\u001b[39m\u001b[49m\u001b[47m\u001b[37mN\u001b[39m\u001b[49m\u001b[47m\u001b[37mN\u001b[39m\u001b[49m\u001b[47m\u001b[37mN\u001b[39m\u001b[49m\u001b[47m\u001b[37mN\u001b[39m\u001b[49m\u001b[47m\u001b[37mN\u001b[39m\u001b[49m\u001b[47m\u001b[37mN\u001b[39m\u001b[49m\u001b[47m\u001b[37mN\u001b[39m\u001b[49m\u001b[47m\u001b[37mN\u001b[39m\u001b[49m\u001b[47m\u001b[37mN\u001b[39m\u001b[49m\u001b[47m\u001b[37mN\u001b[39m\u001b[49m\u001b[47m\u001b[37mN\u001b[39m\u001b[49m...\u001b[47m\u001b[30mA\u001b[39m\u001b[49m\u001b[47m\u001b[30mA\u001b[39m\u001b[49m\u001b[47m\u001b[30mA\u001b[39m\u001b[49m\u001b[47m\u001b[30mA\u001b[39m\u001b[49m\u001b[47m\u001b[30mA\u001b[39m\u001b[49m\u001b[47m\u001b[30mA\u001b[39m\u001b[49m\u001b[47m\u001b[30mA\u001b[39m\u001b[49m\u001b[47m\u001b[30mA\u001b[39m\u001b[49m\u001b[47m\u001b[30mA\u001b[39m\u001b[49m\u001b[47m\u001b[30mA\u001b[39m\u001b[49m\u001b[47m\u001b[30mA\u001b[39m\u001b[49m\u001b[47m\u001b[30mA\u001b[39m\u001b[49m\u001b[47m\u001b[30mA\u001b[39m\u001b[49m\u001b[47m\u001b[30mA\u001b[39m\u001b[49m\u001b[47m\u001b[30mA\u001b[39m\u001b[49m\u001b[47m\u001b[30mA\u001b[39m\u001b[49m\u001b[47m\u001b[30mA\u001b[39m\u001b[49m\u001b[47m\u001b[30mA\u001b[39m\u001b[49m\u001b[47m\u001b[30mA\u001b[39m\u001b[49m\u001b[47m\u001b[30mA\u001b[39m\u001b[49m\u001b[47m\u001b[30mA\u001b[39m\u001b[49m\u001b[47m\u001b[30mA\u001b[39m\u001b[49m WHP3916_10681\n",
            " [4] 29903 \u001b[47m\u001b[37mN\u001b[39m\u001b[49m\u001b[47m\u001b[37mN\u001b[39m\u001b[49m\u001b[47m\u001b[37mN\u001b[39m\u001b[49m\u001b[47m\u001b[37mN\u001b[39m\u001b[49m\u001b[47m\u001b[30mA\u001b[39m\u001b[49m\u001b[47m\u001b[30mA\u001b[39m\u001b[49m\u001b[47m\u001b[30mG\u001b[39m\u001b[49m\u001b[47m\u001b[30mG\u001b[39m\u001b[49m\u001b[47m\u001b[30mT\u001b[39m\u001b[49m\u001b[47m\u001b[30mT\u001b[39m\u001b[49m\u001b[47m\u001b[30mT\u001b[39m\u001b[49m\u001b[47m\u001b[30mA\u001b[39m\u001b[49m\u001b[47m\u001b[30mT\u001b[39m\u001b[49m\u001b[47m\u001b[30mA\u001b[39m\u001b[49m\u001b[47m\u001b[30mC\u001b[39m\u001b[49m\u001b[47m\u001b[30mC\u001b[39m\u001b[49m\u001b[47m\u001b[30mT\u001b[39m\u001b[49m\u001b[47m\u001b[30mT\u001b[39m\u001b[49m\u001b[47m\u001b[30mC\u001b[39m\u001b[49m\u001b[47m\u001b[30mC\u001b[39m\u001b[49m\u001b[47m\u001b[30mC\u001b[39m\u001b[49m\u001b[47m\u001b[30mA\u001b[39m\u001b[49m\u001b[47m\u001b[30mG\u001b[39m\u001b[49m...\u001b[47m\u001b[30mA\u001b[39m\u001b[49m\u001b[47m\u001b[30mA\u001b[39m\u001b[49m\u001b[47m\u001b[30mA\u001b[39m\u001b[49m\u001b[47m\u001b[30mA\u001b[39m\u001b[49m\u001b[47m\u001b[30mA\u001b[39m\u001b[49m\u001b[47m\u001b[30mA\u001b[39m\u001b[49m\u001b[47m\u001b[30mA\u001b[39m\u001b[49m\u001b[47m\u001b[30mA\u001b[39m\u001b[49m\u001b[47m\u001b[30mA\u001b[39m\u001b[49m\u001b[47m\u001b[30mA\u001b[39m\u001b[49m\u001b[47m\u001b[30mA\u001b[39m\u001b[49m\u001b[47m\u001b[30mA\u001b[39m\u001b[49m\u001b[47m\u001b[30mA\u001b[39m\u001b[49m\u001b[47m\u001b[30mA\u001b[39m\u001b[49m\u001b[47m\u001b[30mA\u001b[39m\u001b[49m\u001b[47m\u001b[30mA\u001b[39m\u001b[49m\u001b[47m\u001b[30mA\u001b[39m\u001b[49m\u001b[47m\u001b[30mA\u001b[39m\u001b[49m\u001b[47m\u001b[30mA\u001b[39m\u001b[49m\u001b[47m\u001b[30mA\u001b[39m\u001b[49m\u001b[47m\u001b[30mA\u001b[39m\u001b[49m\u001b[47m\u001b[30mA\u001b[39m\u001b[49m WHP1939_3582\n",
            " [5] 29903 \u001b[47m\u001b[37mN\u001b[39m\u001b[49m\u001b[47m\u001b[37mN\u001b[39m\u001b[49m\u001b[47m\u001b[37mN\u001b[39m\u001b[49m\u001b[47m\u001b[37mN\u001b[39m\u001b[49m\u001b[47m\u001b[37mN\u001b[39m\u001b[49m\u001b[47m\u001b[37mN\u001b[39m\u001b[49m\u001b[47m\u001b[37mN\u001b[39m\u001b[49m\u001b[47m\u001b[37mN\u001b[39m\u001b[49m\u001b[47m\u001b[37mN\u001b[39m\u001b[49m\u001b[47m\u001b[37mN\u001b[39m\u001b[49m\u001b[47m\u001b[37mN\u001b[39m\u001b[49m\u001b[47m\u001b[37mN\u001b[39m\u001b[49m\u001b[47m\u001b[37mN\u001b[39m\u001b[49m\u001b[47m\u001b[37mN\u001b[39m\u001b[49m\u001b[47m\u001b[37mN\u001b[39m\u001b[49m\u001b[47m\u001b[37mN\u001b[39m\u001b[49m\u001b[47m\u001b[37mN\u001b[39m\u001b[49m\u001b[47m\u001b[37mN\u001b[39m\u001b[49m\u001b[47m\u001b[37mN\u001b[39m\u001b[49m\u001b[47m\u001b[37mN\u001b[39m\u001b[49m\u001b[47m\u001b[37mN\u001b[39m\u001b[49m\u001b[47m\u001b[37mN\u001b[39m\u001b[49m\u001b[47m\u001b[37mN\u001b[39m\u001b[49m...\u001b[47m\u001b[30mA\u001b[39m\u001b[49m\u001b[47m\u001b[30mA\u001b[39m\u001b[49m\u001b[47m\u001b[30mA\u001b[39m\u001b[49m\u001b[47m\u001b[30mA\u001b[39m\u001b[49m\u001b[47m\u001b[30mA\u001b[39m\u001b[49m\u001b[47m\u001b[30mA\u001b[39m\u001b[49m\u001b[47m\u001b[30mA\u001b[39m\u001b[49m\u001b[47m\u001b[30mA\u001b[39m\u001b[49m\u001b[47m\u001b[30mA\u001b[39m\u001b[49m\u001b[47m\u001b[30mA\u001b[39m\u001b[49m\u001b[47m\u001b[30mA\u001b[39m\u001b[49m\u001b[47m\u001b[30mA\u001b[39m\u001b[49m\u001b[47m\u001b[30mA\u001b[39m\u001b[49m\u001b[47m\u001b[30mA\u001b[39m\u001b[49m\u001b[47m\u001b[30mA\u001b[39m\u001b[49m\u001b[47m\u001b[30mA\u001b[39m\u001b[49m\u001b[47m\u001b[30mA\u001b[39m\u001b[49m\u001b[47m\u001b[30mA\u001b[39m\u001b[49m\u001b[47m\u001b[30mA\u001b[39m\u001b[49m\u001b[47m\u001b[30mA\u001b[39m\u001b[49m\u001b[47m\u001b[30mA\u001b[39m\u001b[49m\u001b[47m\u001b[30mA\u001b[39m\u001b[49m WHP3977_10906\n",
            " ...   ... ...\n",
            "[12] 29903 \u001b[47m\u001b[37mN\u001b[39m\u001b[49m\u001b[47m\u001b[37mN\u001b[39m\u001b[49m\u001b[47m\u001b[37mN\u001b[39m\u001b[49m\u001b[47m\u001b[37mN\u001b[39m\u001b[49m\u001b[47m\u001b[37mN\u001b[39m\u001b[49m\u001b[47m\u001b[37mN\u001b[39m\u001b[49m\u001b[47m\u001b[37mN\u001b[39m\u001b[49m\u001b[47m\u001b[30mG\u001b[39m\u001b[49m\u001b[47m\u001b[30mT\u001b[39m\u001b[49m\u001b[47m\u001b[30mT\u001b[39m\u001b[49m\u001b[47m\u001b[30mT\u001b[39m\u001b[49m\u001b[47m\u001b[30mA\u001b[39m\u001b[49m\u001b[47m\u001b[30mT\u001b[39m\u001b[49m\u001b[47m\u001b[30mA\u001b[39m\u001b[49m\u001b[47m\u001b[30mC\u001b[39m\u001b[49m\u001b[47m\u001b[30mC\u001b[39m\u001b[49m\u001b[47m\u001b[30mT\u001b[39m\u001b[49m\u001b[47m\u001b[30mT\u001b[39m\u001b[49m\u001b[47m\u001b[30mC\u001b[39m\u001b[49m\u001b[47m\u001b[30mC\u001b[39m\u001b[49m\u001b[47m\u001b[30mC\u001b[39m\u001b[49m\u001b[47m\u001b[30mA\u001b[39m\u001b[49m\u001b[47m\u001b[30mG\u001b[39m\u001b[49m...\u001b[47m\u001b[30mA\u001b[39m\u001b[49m\u001b[47m\u001b[30mA\u001b[39m\u001b[49m\u001b[47m\u001b[30mA\u001b[39m\u001b[49m\u001b[47m\u001b[30mA\u001b[39m\u001b[49m\u001b[47m\u001b[30mA\u001b[39m\u001b[49m\u001b[47m\u001b[30mA\u001b[39m\u001b[49m\u001b[47m\u001b[30mA\u001b[39m\u001b[49m\u001b[47m\u001b[30mA\u001b[39m\u001b[49m\u001b[47m\u001b[30mA\u001b[39m\u001b[49m\u001b[47m\u001b[30mA\u001b[39m\u001b[49m\u001b[47m\u001b[30mA\u001b[39m\u001b[49m\u001b[47m\u001b[30mA\u001b[39m\u001b[49m\u001b[47m\u001b[30mA\u001b[39m\u001b[49m\u001b[47m\u001b[30mA\u001b[39m\u001b[49m\u001b[47m\u001b[30mA\u001b[39m\u001b[49m\u001b[47m\u001b[30mA\u001b[39m\u001b[49m\u001b[47m\u001b[30mA\u001b[39m\u001b[49m\u001b[47m\u001b[30mA\u001b[39m\u001b[49m\u001b[47m\u001b[30mA\u001b[39m\u001b[49m\u001b[47m\u001b[30mA\u001b[39m\u001b[49m\u001b[47m\u001b[30mA\u001b[39m\u001b[49m\u001b[47m\u001b[30mA\u001b[39m\u001b[49m VOC1980-H2-iseq_NA\n",
            "[13] 29903 \u001b[47m\u001b[37mN\u001b[39m\u001b[49m\u001b[47m\u001b[37mN\u001b[39m\u001b[49m\u001b[47m\u001b[37mN\u001b[39m\u001b[49m\u001b[47m\u001b[37mN\u001b[39m\u001b[49m\u001b[47m\u001b[30mA\u001b[39m\u001b[49m\u001b[47m\u001b[30mA\u001b[39m\u001b[49m\u001b[47m\u001b[30mG\u001b[39m\u001b[49m\u001b[47m\u001b[30mG\u001b[39m\u001b[49m\u001b[47m\u001b[30mT\u001b[39m\u001b[49m\u001b[47m\u001b[30mT\u001b[39m\u001b[49m\u001b[47m\u001b[30mT\u001b[39m\u001b[49m\u001b[47m\u001b[30mA\u001b[39m\u001b[49m\u001b[47m\u001b[30mT\u001b[39m\u001b[49m\u001b[47m\u001b[30mA\u001b[39m\u001b[49m\u001b[47m\u001b[30mC\u001b[39m\u001b[49m\u001b[47m\u001b[30mC\u001b[39m\u001b[49m\u001b[47m\u001b[30mT\u001b[39m\u001b[49m\u001b[47m\u001b[30mT\u001b[39m\u001b[49m\u001b[47m\u001b[30mC\u001b[39m\u001b[49m\u001b[47m\u001b[30mC\u001b[39m\u001b[49m\u001b[47m\u001b[30mC\u001b[39m\u001b[49m\u001b[47m\u001b[30mA\u001b[39m\u001b[49m\u001b[47m\u001b[30mG\u001b[39m\u001b[49m...\u001b[47m\u001b[30mA\u001b[39m\u001b[49m\u001b[47m\u001b[30mA\u001b[39m\u001b[49m\u001b[47m\u001b[30mA\u001b[39m\u001b[49m\u001b[47m\u001b[30mA\u001b[39m\u001b[49m\u001b[47m\u001b[30mA\u001b[39m\u001b[49m\u001b[47m\u001b[30mA\u001b[39m\u001b[49m\u001b[47m\u001b[30mA\u001b[39m\u001b[49m\u001b[47m\u001b[30mA\u001b[39m\u001b[49m\u001b[47m\u001b[30mA\u001b[39m\u001b[49m\u001b[47m\u001b[30mA\u001b[39m\u001b[49m\u001b[47m\u001b[30mA\u001b[39m\u001b[49m\u001b[47m\u001b[30mA\u001b[39m\u001b[49m\u001b[47m\u001b[30mA\u001b[39m\u001b[49m\u001b[47m\u001b[30mA\u001b[39m\u001b[49m\u001b[47m\u001b[30mA\u001b[39m\u001b[49m\u001b[47m\u001b[30mA\u001b[39m\u001b[49m\u001b[47m\u001b[30mA\u001b[39m\u001b[49m\u001b[47m\u001b[30mA\u001b[39m\u001b[49m\u001b[47m\u001b[30mA\u001b[39m\u001b[49m\u001b[47m\u001b[30mA\u001b[39m\u001b[49m\u001b[47m\u001b[30mA\u001b[39m\u001b[49m\u001b[47m\u001b[30mA\u001b[39m\u001b[49m WHP7692-A4v1_1024583\n",
            "[14] 29903 \u001b[47m\u001b[37mN\u001b[39m\u001b[49m\u001b[47m\u001b[37mN\u001b[39m\u001b[49m\u001b[47m\u001b[37mN\u001b[39m\u001b[49m\u001b[47m\u001b[37mN\u001b[39m\u001b[49m\u001b[47m\u001b[37mN\u001b[39m\u001b[49m\u001b[47m\u001b[30mA\u001b[39m\u001b[49m\u001b[47m\u001b[30mG\u001b[39m\u001b[49m\u001b[47m\u001b[30mG\u001b[39m\u001b[49m\u001b[47m\u001b[30mT\u001b[39m\u001b[49m\u001b[47m\u001b[30mT\u001b[39m\u001b[49m\u001b[47m\u001b[30mT\u001b[39m\u001b[49m\u001b[47m\u001b[30mA\u001b[39m\u001b[49m\u001b[47m\u001b[30mT\u001b[39m\u001b[49m\u001b[47m\u001b[30mA\u001b[39m\u001b[49m\u001b[47m\u001b[30mC\u001b[39m\u001b[49m\u001b[47m\u001b[30mC\u001b[39m\u001b[49m\u001b[47m\u001b[30mT\u001b[39m\u001b[49m\u001b[47m\u001b[30mT\u001b[39m\u001b[49m\u001b[47m\u001b[30mC\u001b[39m\u001b[49m\u001b[47m\u001b[30mC\u001b[39m\u001b[49m\u001b[47m\u001b[30mC\u001b[39m\u001b[49m\u001b[47m\u001b[30mA\u001b[39m\u001b[49m\u001b[47m\u001b[30mG\u001b[39m\u001b[49m...\u001b[47m\u001b[30mA\u001b[39m\u001b[49m\u001b[47m\u001b[30mA\u001b[39m\u001b[49m\u001b[47m\u001b[30mA\u001b[39m\u001b[49m\u001b[47m\u001b[30mA\u001b[39m\u001b[49m\u001b[47m\u001b[30mA\u001b[39m\u001b[49m\u001b[47m\u001b[30mA\u001b[39m\u001b[49m\u001b[47m\u001b[30mA\u001b[39m\u001b[49m\u001b[47m\u001b[30mA\u001b[39m\u001b[49m\u001b[47m\u001b[30mA\u001b[39m\u001b[49m\u001b[47m\u001b[30mA\u001b[39m\u001b[49m\u001b[47m\u001b[30mA\u001b[39m\u001b[49m\u001b[47m\u001b[30mA\u001b[39m\u001b[49m\u001b[47m\u001b[30mA\u001b[39m\u001b[49m\u001b[47m\u001b[30mA\u001b[39m\u001b[49m\u001b[47m\u001b[30mA\u001b[39m\u001b[49m\u001b[47m\u001b[30mA\u001b[39m\u001b[49m\u001b[47m\u001b[30mA\u001b[39m\u001b[49m\u001b[47m\u001b[30mA\u001b[39m\u001b[49m\u001b[47m\u001b[30mA\u001b[39m\u001b[49m\u001b[47m\u001b[30mA\u001b[39m\u001b[49m\u001b[47m\u001b[30mA\u001b[39m\u001b[49m\u001b[47m\u001b[30mA\u001b[39m\u001b[49m WHP9591-A4v1_1283879\n",
            "[15] 29903 \u001b[47m\u001b[30mA\u001b[39m\u001b[49m\u001b[47m\u001b[37mY\u001b[39m\u001b[49m\u001b[47m\u001b[30mT\u001b[39m\u001b[49m\u001b[47m\u001b[30mA\u001b[39m\u001b[49m\u001b[47m\u001b[30mA\u001b[39m\u001b[49m\u001b[47m\u001b[30mA\u001b[39m\u001b[49m\u001b[47m\u001b[30mG\u001b[39m\u001b[49m\u001b[47m\u001b[30mG\u001b[39m\u001b[49m\u001b[47m\u001b[30mT\u001b[39m\u001b[49m\u001b[47m\u001b[30mT\u001b[39m\u001b[49m\u001b[47m\u001b[30mT\u001b[39m\u001b[49m\u001b[47m\u001b[30mA\u001b[39m\u001b[49m\u001b[47m\u001b[30mT\u001b[39m\u001b[49m\u001b[47m\u001b[30mA\u001b[39m\u001b[49m\u001b[47m\u001b[30mC\u001b[39m\u001b[49m\u001b[47m\u001b[30mC\u001b[39m\u001b[49m\u001b[47m\u001b[30mT\u001b[39m\u001b[49m\u001b[47m\u001b[30mT\u001b[39m\u001b[49m\u001b[47m\u001b[30mC\u001b[39m\u001b[49m\u001b[47m\u001b[30mC\u001b[39m\u001b[49m\u001b[47m\u001b[30mC\u001b[39m\u001b[49m\u001b[47m\u001b[30mA\u001b[39m\u001b[49m\u001b[47m\u001b[30mG\u001b[39m\u001b[49m...\u001b[47m\u001b[30mA\u001b[39m\u001b[49m\u001b[47m\u001b[30mA\u001b[39m\u001b[49m\u001b[47m\u001b[30mA\u001b[39m\u001b[49m\u001b[47m\u001b[30mA\u001b[39m\u001b[49m\u001b[47m\u001b[30mA\u001b[39m\u001b[49m\u001b[47m\u001b[30mA\u001b[39m\u001b[49m\u001b[47m\u001b[30mA\u001b[39m\u001b[49m\u001b[47m\u001b[30mA\u001b[39m\u001b[49m\u001b[47m\u001b[30mA\u001b[39m\u001b[49m\u001b[47m\u001b[30mA\u001b[39m\u001b[49m\u001b[47m\u001b[30mA\u001b[39m\u001b[49m\u001b[47m\u001b[30mA\u001b[39m\u001b[49m\u001b[47m\u001b[30mA\u001b[39m\u001b[49m\u001b[47m\u001b[30mA\u001b[39m\u001b[49m\u001b[47m\u001b[30mA\u001b[39m\u001b[49m\u001b[47m\u001b[30mA\u001b[39m\u001b[49m\u001b[47m\u001b[30mA\u001b[39m\u001b[49m\u001b[47m\u001b[30mA\u001b[39m\u001b[49m\u001b[47m\u001b[30mA\u001b[39m\u001b[49m\u001b[47m\u001b[30mA\u001b[39m\u001b[49m\u001b[47m\u001b[30mA\u001b[39m\u001b[49m\u001b[47m\u001b[30mA\u001b[39m\u001b[49m WHP6749-H2-iseq_R...\n",
            "[16] 29903 \u001b[47m\u001b[37mN\u001b[39m\u001b[49m\u001b[47m\u001b[37mN\u001b[39m\u001b[49m\u001b[47m\u001b[37mN\u001b[39m\u001b[49m\u001b[47m\u001b[37mN\u001b[39m\u001b[49m\u001b[47m\u001b[37mN\u001b[39m\u001b[49m\u001b[47m\u001b[37mN\u001b[39m\u001b[49m\u001b[47m\u001b[37mN\u001b[39m\u001b[49m\u001b[47m\u001b[37mN\u001b[39m\u001b[49m\u001b[47m\u001b[37mN\u001b[39m\u001b[49m\u001b[47m\u001b[37mN\u001b[39m\u001b[49m\u001b[47m\u001b[37mN\u001b[39m\u001b[49m\u001b[47m\u001b[37mN\u001b[39m\u001b[49m\u001b[47m\u001b[37mN\u001b[39m\u001b[49m\u001b[47m\u001b[37mN\u001b[39m\u001b[49m\u001b[47m\u001b[37mN\u001b[39m\u001b[49m\u001b[47m\u001b[37mN\u001b[39m\u001b[49m\u001b[47m\u001b[37mN\u001b[39m\u001b[49m\u001b[47m\u001b[37mN\u001b[39m\u001b[49m\u001b[47m\u001b[37mN\u001b[39m\u001b[49m\u001b[47m\u001b[37mN\u001b[39m\u001b[49m\u001b[47m\u001b[37mN\u001b[39m\u001b[49m\u001b[47m\u001b[37mN\u001b[39m\u001b[49m\u001b[47m\u001b[37mN\u001b[39m\u001b[49m...\u001b[47m\u001b[30mA\u001b[39m\u001b[49m\u001b[47m\u001b[30mA\u001b[39m\u001b[49m\u001b[47m\u001b[30mA\u001b[39m\u001b[49m\u001b[47m\u001b[30mA\u001b[39m\u001b[49m\u001b[47m\u001b[30mA\u001b[39m\u001b[49m\u001b[47m\u001b[30mA\u001b[39m\u001b[49m\u001b[47m\u001b[30mA\u001b[39m\u001b[49m\u001b[47m\u001b[30mA\u001b[39m\u001b[49m\u001b[47m\u001b[30mA\u001b[39m\u001b[49m\u001b[47m\u001b[30mA\u001b[39m\u001b[49m\u001b[47m\u001b[30mA\u001b[39m\u001b[49m\u001b[47m\u001b[30mA\u001b[39m\u001b[49m\u001b[47m\u001b[30mA\u001b[39m\u001b[49m\u001b[47m\u001b[30mA\u001b[39m\u001b[49m\u001b[47m\u001b[30mA\u001b[39m\u001b[49m\u001b[47m\u001b[30mA\u001b[39m\u001b[49m\u001b[47m\u001b[30mA\u001b[39m\u001b[49m\u001b[47m\u001b[30mA\u001b[39m\u001b[49m\u001b[47m\u001b[30mA\u001b[39m\u001b[49m\u001b[47m\u001b[30mA\u001b[39m\u001b[49m\u001b[47m\u001b[30mA\u001b[39m\u001b[49m\u001b[47m\u001b[30mA\u001b[39m\u001b[49m WHP4969_12214\n"
          ]
        }
      ]
    },
    {
      "cell_type": "markdown",
      "source": [
        "# 5. SEQUENCE ANALYSIS\n",
        "\n",
        "1. Calculate GC content for each of two randomly selected sequences.\n",
        "\n",
        "2. Extract the spike gene region (positions 21,563 to 25,384) for both sequences.\n",
        "\n",
        "3. Calculate the codon usage for one of the extracted sequences."
      ],
      "metadata": {
        "id": "1xNwkRlWK2w9"
      }
    },
    {
      "cell_type": "markdown",
      "source": [
        "## Calculate GC content for each of two randomly selected sequences"
      ],
      "metadata": {
        "id": "OvER4ELUPg58"
      }
    },
    {
      "cell_type": "code",
      "source": [
        "set.seed(2024) # set seed for reproducibility, in this way you will get the same random numbers as me every time\n",
        "seqs_sample <- sample(seqs_filtered, 2)\n",
        "seqs_sample_nt_count <- alphabetFrequency(seqs_sample)\n",
        "print(seqs_sample_nt_count)"
      ],
      "metadata": {
        "colab": {
          "base_uri": "https://localhost:8080/"
        },
        "id": "jpGCFNiRKw-t",
        "outputId": "7147323b-cd0b-4ae6-8c93-a56f3d36f6ca"
      },
      "execution_count": 20,
      "outputs": [
        {
          "output_type": "stream",
          "name": "stdout",
          "text": [
            "        A    C    G    T M R W S Y K V H D B   N  - + .\n",
            "[1,] 8883 5434 5827 9574 0 0 0 0 0 0 0 0 0 0 127 58 0 0\n",
            "[2,] 8928 5467 5844 9577 1 0 0 0 0 1 0 0 0 0  85  0 0 0\n"
          ]
        }
      ]
    },
    {
      "cell_type": "code",
      "source": [
        "seqs_sample_nt_count_df <- as.data.frame(seqs_sample_nt_count)\n",
        "seqs_sample_nt_count_df$length <- rowSums(seqs_sample_nt_count)\n",
        "seqs_sample_nt_count_df$GC <- seqs_sample_nt_count_df$G + seqs_sample_nt_count_df$C\n",
        "seqs_sample_nt_count_df$GC_content <- seqs_sample_nt_count_df$GC/seqs_sample_nt_count_df$length"
      ],
      "metadata": {
        "id": "zP9i28LYLG2t"
      },
      "execution_count": 21,
      "outputs": []
    },
    {
      "cell_type": "code",
      "source": [
        "print(names(seqs_sample))"
      ],
      "metadata": {
        "colab": {
          "base_uri": "https://localhost:8080/"
        },
        "id": "Hmj1cylCLKYo",
        "outputId": "6e04db90-1756-49de-9f53-20312465f745"
      },
      "execution_count": 22,
      "outputs": [
        {
          "output_type": "stream",
          "name": "stdout",
          "text": [
            "[1] \"WHP7426-H2-iseq_1019418\" \"WHP3977_10906\"          \n"
          ]
        }
      ]
    },
    {
      "cell_type": "code",
      "source": [
        "print(seqs_sample_nt_count_df$GC_content)"
      ],
      "metadata": {
        "colab": {
          "base_uri": "https://localhost:8080/"
        },
        "id": "uflsrDzdLKd8",
        "outputId": "311b1e72-b8a7-40b6-f27a-ad592f5717a9"
      },
      "execution_count": 23,
      "outputs": [
        {
          "output_type": "stream",
          "name": "stdout",
          "text": [
            "[1] 0.3765843 0.3782564\n"
          ]
        }
      ]
    },
    {
      "cell_type": "code",
      "source": [
        "print(paste0(\"GC content of sequence \", names(seqs_sample)[1], \": \", seqs_sample_nt_count_df$GC_content[1]))"
      ],
      "metadata": {
        "colab": {
          "base_uri": "https://localhost:8080/"
        },
        "id": "o-cUhZMELKlP",
        "outputId": "610d8d7f-a60d-46bb-ac3b-73994d2ae9f0"
      },
      "execution_count": 24,
      "outputs": [
        {
          "output_type": "stream",
          "name": "stdout",
          "text": [
            "[1] \"GC content of sequence WHP7426-H2-iseq_1019418: 0.376584289201752\"\n"
          ]
        }
      ]
    },
    {
      "cell_type": "code",
      "source": [
        "print(paste0(\"GC content of sequence \", names(seqs_sample)[2], \": \", seqs_sample_nt_count_df$GC_content[2]))"
      ],
      "metadata": {
        "colab": {
          "base_uri": "https://localhost:8080/"
        },
        "id": "g9mfEU7RLIy_",
        "outputId": "e6bb4a25-33c4-4a7d-b298-b3d565e3aebe"
      },
      "execution_count": 25,
      "outputs": [
        {
          "output_type": "stream",
          "name": "stdout",
          "text": [
            "[1] \"GC content of sequence WHP3977_10906: 0.378256362237903\"\n"
          ]
        }
      ]
    },
    {
      "cell_type": "markdown",
      "source": [
        "## Extract the spike gene region (positions 21,563 to 25,384) for both sequences\n",
        "\n",
        "- Visit https://codon2nucleotide.theo.io for positions and annotations of the SARS-CoV-2 genome"
      ],
      "metadata": {
        "id": "B1xgAu_9Pk9H"
      }
    },
    {
      "cell_type": "code",
      "source": [
        "spike_gene <- subseq(seqs_sample, start=21563, end=25384)\n",
        "print(spike_gene)"
      ],
      "metadata": {
        "colab": {
          "base_uri": "https://localhost:8080/"
        },
        "id": "ynETR9dbLK8F",
        "outputId": "3bdae098-68d8-4ca5-f367-4de93ea85d2b"
      },
      "execution_count": 26,
      "outputs": [
        {
          "output_type": "stream",
          "name": "stdout",
          "text": [
            "DNAStringSet object of length 2:\n",
            "    width seq                                               names               \n",
            "[1]  3822 \u001b[47m\u001b[30mA\u001b[39m\u001b[49m\u001b[47m\u001b[30mT\u001b[39m\u001b[49m\u001b[47m\u001b[30mG\u001b[39m\u001b[49m\u001b[47m\u001b[30mT\u001b[39m\u001b[49m\u001b[47m\u001b[30mT\u001b[39m\u001b[49m\u001b[47m\u001b[30mT\u001b[39m\u001b[49m\u001b[47m\u001b[30mG\u001b[39m\u001b[49m\u001b[47m\u001b[30mT\u001b[39m\u001b[49m\u001b[47m\u001b[30mT\u001b[39m\u001b[49m\u001b[47m\u001b[30mT\u001b[39m\u001b[49m\u001b[47m\u001b[30mT\u001b[39m\u001b[49m\u001b[47m\u001b[30mT\u001b[39m\u001b[49m\u001b[47m\u001b[30mC\u001b[39m\u001b[49m\u001b[47m\u001b[30mT\u001b[39m\u001b[49m\u001b[47m\u001b[30mT\u001b[39m\u001b[49m\u001b[47m\u001b[30mG\u001b[39m\u001b[49m\u001b[47m\u001b[30mT\u001b[39m\u001b[49m\u001b[47m\u001b[30mT\u001b[39m\u001b[49m\u001b[47m\u001b[30mT\u001b[39m\u001b[49m\u001b[47m\u001b[30mT\u001b[39m\u001b[49m\u001b[47m\u001b[30mA\u001b[39m\u001b[49m\u001b[47m\u001b[30mT\u001b[39m\u001b[49m\u001b[47m\u001b[30mT\u001b[39m\u001b[49m...\u001b[47m\u001b[30mG\u001b[39m\u001b[49m\u001b[47m\u001b[30mA\u001b[39m\u001b[49m\u001b[47m\u001b[30mG\u001b[39m\u001b[49m\u001b[47m\u001b[30mT\u001b[39m\u001b[49m\u001b[47m\u001b[30mC\u001b[39m\u001b[49m\u001b[47m\u001b[30mA\u001b[39m\u001b[49m\u001b[47m\u001b[30mA\u001b[39m\u001b[49m\u001b[47m\u001b[30mA\u001b[39m\u001b[49m\u001b[47m\u001b[30mT\u001b[39m\u001b[49m\u001b[47m\u001b[30mT\u001b[39m\u001b[49m\u001b[47m\u001b[30mA\u001b[39m\u001b[49m\u001b[47m\u001b[30mC\u001b[39m\u001b[49m\u001b[47m\u001b[30mA\u001b[39m\u001b[49m\u001b[47m\u001b[30mT\u001b[39m\u001b[49m\u001b[47m\u001b[30mT\u001b[39m\u001b[49m\u001b[47m\u001b[30mA\u001b[39m\u001b[49m\u001b[47m\u001b[30mC\u001b[39m\u001b[49m\u001b[47m\u001b[30mA\u001b[39m\u001b[49m\u001b[47m\u001b[30mC\u001b[39m\u001b[49m\u001b[47m\u001b[30mA\u001b[39m\u001b[49m\u001b[47m\u001b[30mT\u001b[39m\u001b[49m\u001b[47m\u001b[30mA\u001b[39m\u001b[49m\u001b[47m\u001b[30mA\u001b[39m\u001b[49m WHP7426-H2-iseq_1...\n",
            "[2]  3822 \u001b[47m\u001b[30mA\u001b[39m\u001b[49m\u001b[47m\u001b[30mT\u001b[39m\u001b[49m\u001b[47m\u001b[30mG\u001b[39m\u001b[49m\u001b[47m\u001b[30mT\u001b[39m\u001b[49m\u001b[47m\u001b[30mT\u001b[39m\u001b[49m\u001b[47m\u001b[30mT\u001b[39m\u001b[49m\u001b[47m\u001b[30mG\u001b[39m\u001b[49m\u001b[47m\u001b[30mT\u001b[39m\u001b[49m\u001b[47m\u001b[30mT\u001b[39m\u001b[49m\u001b[47m\u001b[30mT\u001b[39m\u001b[49m\u001b[47m\u001b[30mT\u001b[39m\u001b[49m\u001b[47m\u001b[30mT\u001b[39m\u001b[49m\u001b[47m\u001b[30mC\u001b[39m\u001b[49m\u001b[47m\u001b[30mT\u001b[39m\u001b[49m\u001b[47m\u001b[30mT\u001b[39m\u001b[49m\u001b[47m\u001b[30mG\u001b[39m\u001b[49m\u001b[47m\u001b[30mT\u001b[39m\u001b[49m\u001b[47m\u001b[30mT\u001b[39m\u001b[49m\u001b[47m\u001b[30mT\u001b[39m\u001b[49m\u001b[47m\u001b[30mT\u001b[39m\u001b[49m\u001b[47m\u001b[30mA\u001b[39m\u001b[49m\u001b[47m\u001b[30mT\u001b[39m\u001b[49m\u001b[47m\u001b[30mT\u001b[39m\u001b[49m...\u001b[47m\u001b[30mG\u001b[39m\u001b[49m\u001b[47m\u001b[30mA\u001b[39m\u001b[49m\u001b[47m\u001b[30mG\u001b[39m\u001b[49m\u001b[47m\u001b[30mT\u001b[39m\u001b[49m\u001b[47m\u001b[30mC\u001b[39m\u001b[49m\u001b[47m\u001b[30mA\u001b[39m\u001b[49m\u001b[47m\u001b[30mA\u001b[39m\u001b[49m\u001b[47m\u001b[30mA\u001b[39m\u001b[49m\u001b[47m\u001b[30mT\u001b[39m\u001b[49m\u001b[47m\u001b[30mT\u001b[39m\u001b[49m\u001b[47m\u001b[30mA\u001b[39m\u001b[49m\u001b[47m\u001b[30mC\u001b[39m\u001b[49m\u001b[47m\u001b[30mA\u001b[39m\u001b[49m\u001b[47m\u001b[30mT\u001b[39m\u001b[49m\u001b[47m\u001b[30mT\u001b[39m\u001b[49m\u001b[47m\u001b[30mA\u001b[39m\u001b[49m\u001b[47m\u001b[30mC\u001b[39m\u001b[49m\u001b[47m\u001b[30mA\u001b[39m\u001b[49m\u001b[47m\u001b[30mC\u001b[39m\u001b[49m\u001b[47m\u001b[37mM\u001b[39m\u001b[49m\u001b[47m\u001b[30mT\u001b[39m\u001b[49m\u001b[47m\u001b[30mA\u001b[39m\u001b[49m\u001b[47m\u001b[30mA\u001b[39m\u001b[49m WHP3977_10906\n"
          ]
        }
      ]
    },
    {
      "cell_type": "markdown",
      "source": [
        "## Calculate the codon usage for one of the extracted sequences"
      ],
      "metadata": {
        "id": "toz0TXGLPy9N"
      }
    },
    {
      "cell_type": "code",
      "source": [
        "set.seed(20241107)\n",
        "spike_gene_selected <- spike_gene[sample(1:2, 1)]\n",
        "length(spike_gene_selected)\n",
        "width(spike_gene_selected)"
      ],
      "metadata": {
        "colab": {
          "base_uri": "https://localhost:8080/",
          "height": 52
        },
        "id": "NYAtfVtwLNy_",
        "outputId": "66596ad9-2666-4cc1-aa56-eb6b231ecae7"
      },
      "execution_count": 27,
      "outputs": [
        {
          "output_type": "display_data",
          "data": {
            "text/html": [
              "1"
            ],
            "text/markdown": "1",
            "text/latex": "1",
            "text/plain": [
              "[1] 1"
            ]
          },
          "metadata": {}
        },
        {
          "output_type": "display_data",
          "data": {
            "text/html": [
              "3822"
            ],
            "text/markdown": "3822",
            "text/latex": "3822",
            "text/plain": [
              "[1] 3822"
            ]
          },
          "metadata": {}
        }
      ]
    },
    {
      "cell_type": "markdown",
      "source": [
        "## Manually calculate the codon usage"
      ],
      "metadata": {
        "id": "XyAcn67sP376"
      }
    },
    {
      "cell_type": "code",
      "source": [
        "spike_gene_selected_char <- as.character(spike_gene_selected)  # WHP3977_10906\n",
        "print(spike_gene_selected_char)"
      ],
      "metadata": {
        "id": "EnNoEiR5LP2o"
      },
      "execution_count": null,
      "outputs": []
    },
    {
      "cell_type": "code",
      "source": [
        "spike_gene_selected_char_list <- strsplit(spike_gene_selected_char, \"\")[[1]]\n",
        "print(spike_gene_selected_char_list)"
      ],
      "metadata": {
        "id": "-pzKj0R9LUDF"
      },
      "execution_count": null,
      "outputs": []
    },
    {
      "cell_type": "code",
      "source": [
        "spike_gene_selected_codons <- lapply(seq(1, length(spike_gene_selected_char_list), by=3), function(x) paste(spike_gene_selected_char_list[x:(x+2)], collapse=\"\"))\n",
        "print(spike_gene_selected_codons)"
      ],
      "metadata": {
        "id": "TFgKXQhfLVrg"
      },
      "execution_count": null,
      "outputs": []
    },
    {
      "cell_type": "code",
      "source": [
        "codon_usage_manual <- table(unlist(spike_gene_selected_codons))\n",
        "print(codon_usage_manual)"
      ],
      "metadata": {
        "colab": {
          "base_uri": "https://localhost:8080/"
        },
        "id": "ytvuzBmTLZOc",
        "outputId": "18f7c79e-ed05-4fd4-f7e4-149716702459"
      },
      "execution_count": 31,
      "outputs": [
        {
          "output_type": "stream",
          "name": "stdout",
          "text": [
            "\n",
            "AAA AAC AAG AAT ACA ACC ACG ACM ACT AGA AGC AGG AGT ATA ATC ATG ATT CAA CAC CAG \n",
            " 38  34  23  54  39  10   3   1  44  20   5  10  17  18  14  14  44  46   4  16 \n",
            "CAT CCA CCC CCT CGC CGG CGT CTA CTC CTG CTT GAA GAC GAG GAT GCA GCC GCG GCT GGA \n",
            " 13  25   4  29   1   2   9   9  12   3  36  34  18  14  43  27   9   2  41  17 \n",
            "GGC GGG GGT GTA GTC GTG GTT TAA TAC TAT TCA TCC TCG TCT TGC TGG TGT TTA TTC TTG \n",
            " 15   3  48  15  21  13  48   1  14  40  26  12   2  37  12  12  28  28  18  20 \n",
            "TTT \n",
            " 59 \n"
          ]
        }
      ]
    },
    {
      "cell_type": "markdown",
      "source": [
        "## Using a built-in function to calculate the codon usage"
      ],
      "metadata": {
        "id": "FV263-dkP9JQ"
      }
    },
    {
      "cell_type": "code",
      "source": [
        "codon_usage_auto <- trinucleotideFrequency(spike_gene_selected, step = 3)\n",
        "print(codon_usage_auto)"
      ],
      "metadata": {
        "colab": {
          "base_uri": "https://localhost:8080/"
        },
        "id": "HS7NVwybLebv",
        "outputId": "c02be84a-8acb-4968-8325-9b978932f979"
      },
      "execution_count": 32,
      "outputs": [
        {
          "output_type": "stream",
          "name": "stdout",
          "text": [
            "     AAA AAC AAG AAT ACA ACC ACG ACT AGA AGC AGG AGT ATA ATC ATG ATT CAA CAC\n",
            "[1,]  38  34  23  54  39  10   3  44  20   5  10  17  18  14  14  44  46   4\n",
            "     CAG CAT CCA CCC CCG CCT CGA CGC CGG CGT CTA CTC CTG CTT GAA GAC GAG GAT\n",
            "[1,]  16  13  25   4   0  29   0   1   2   9   9  12   3  36  34  18  14  43\n",
            "     GCA GCC GCG GCT GGA GGC GGG GGT GTA GTC GTG GTT TAA TAC TAG TAT TCA TCC\n",
            "[1,]  27   9   2  41  17  15   3  48  15  21  13  48   1  14   0  40  26  12\n",
            "     TCG TCT TGA TGC TGG TGT TTA TTC TTG TTT\n",
            "[1,]   2  37   0  12  12  28  28  18  20  59\n"
          ]
        }
      ]
    },
    {
      "cell_type": "markdown",
      "source": [
        "## Check the reverse complement of the spike gene"
      ],
      "metadata": {
        "id": "aSSMMgSvQ84b"
      }
    },
    {
      "cell_type": "code",
      "source": [
        "spike_gene_selected_revcomp <- reverseComplement(spike_gene_selected)\n",
        "print(spike_gene_selected_revcomp)"
      ],
      "metadata": {
        "colab": {
          "base_uri": "https://localhost:8080/"
        },
        "id": "Sd0UKl9ELglG",
        "outputId": "48fd1fd8-3e38-484c-e3ba-bfe69c51ee16"
      },
      "execution_count": 33,
      "outputs": [
        {
          "output_type": "stream",
          "name": "stdout",
          "text": [
            "DNAStringSet object of length 1:\n",
            "    width seq                                               names               \n",
            "[1]  3822 \u001b[47m\u001b[30mT\u001b[39m\u001b[49m\u001b[47m\u001b[30mT\u001b[39m\u001b[49m\u001b[47m\u001b[30mA\u001b[39m\u001b[49m\u001b[47m\u001b[37mK\u001b[39m\u001b[49m\u001b[47m\u001b[30mG\u001b[39m\u001b[49m\u001b[47m\u001b[30mT\u001b[39m\u001b[49m\u001b[47m\u001b[30mG\u001b[39m\u001b[49m\u001b[47m\u001b[30mT\u001b[39m\u001b[49m\u001b[47m\u001b[30mA\u001b[39m\u001b[49m\u001b[47m\u001b[30mA\u001b[39m\u001b[49m\u001b[47m\u001b[30mT\u001b[39m\u001b[49m\u001b[47m\u001b[30mG\u001b[39m\u001b[49m\u001b[47m\u001b[30mT\u001b[39m\u001b[49m\u001b[47m\u001b[30mA\u001b[39m\u001b[49m\u001b[47m\u001b[30mA\u001b[39m\u001b[49m\u001b[47m\u001b[30mT\u001b[39m\u001b[49m\u001b[47m\u001b[30mT\u001b[39m\u001b[49m\u001b[47m\u001b[30mT\u001b[39m\u001b[49m\u001b[47m\u001b[30mG\u001b[39m\u001b[49m\u001b[47m\u001b[30mA\u001b[39m\u001b[49m\u001b[47m\u001b[30mC\u001b[39m\u001b[49m\u001b[47m\u001b[30mT\u001b[39m\u001b[49m\u001b[47m\u001b[30mC\u001b[39m\u001b[49m...\u001b[47m\u001b[30mA\u001b[39m\u001b[49m\u001b[47m\u001b[30mA\u001b[39m\u001b[49m\u001b[47m\u001b[30mT\u001b[39m\u001b[49m\u001b[47m\u001b[30mA\u001b[39m\u001b[49m\u001b[47m\u001b[30mA\u001b[39m\u001b[49m\u001b[47m\u001b[30mA\u001b[39m\u001b[49m\u001b[47m\u001b[30mA\u001b[39m\u001b[49m\u001b[47m\u001b[30mC\u001b[39m\u001b[49m\u001b[47m\u001b[30mA\u001b[39m\u001b[49m\u001b[47m\u001b[30mA\u001b[39m\u001b[49m\u001b[47m\u001b[30mG\u001b[39m\u001b[49m\u001b[47m\u001b[30mA\u001b[39m\u001b[49m\u001b[47m\u001b[30mA\u001b[39m\u001b[49m\u001b[47m\u001b[30mA\u001b[39m\u001b[49m\u001b[47m\u001b[30mA\u001b[39m\u001b[49m\u001b[47m\u001b[30mA\u001b[39m\u001b[49m\u001b[47m\u001b[30mC\u001b[39m\u001b[49m\u001b[47m\u001b[30mA\u001b[39m\u001b[49m\u001b[47m\u001b[30mA\u001b[39m\u001b[49m\u001b[47m\u001b[30mA\u001b[39m\u001b[49m\u001b[47m\u001b[30mC\u001b[39m\u001b[49m\u001b[47m\u001b[30mA\u001b[39m\u001b[49m\u001b[47m\u001b[30mT\u001b[39m\u001b[49m WHP3977_10906\n"
          ]
        }
      ]
    },
    {
      "cell_type": "markdown",
      "source": [
        "## Translate the spike gene"
      ],
      "metadata": {
        "id": "2rbeCWU6Q_aj"
      }
    },
    {
      "cell_type": "code",
      "source": [
        "spike_gene_selected_aa <- translate(spike_gene_selected, if.fuzzy.codon=\"solve\")\n",
        "print(spike_gene_selected_aa)"
      ],
      "metadata": {
        "colab": {
          "base_uri": "https://localhost:8080/"
        },
        "id": "BGqNqo2kLiVm",
        "outputId": "1184be56-88e3-41b1-8a9e-40f66e3bcb59"
      },
      "execution_count": 34,
      "outputs": [
        {
          "output_type": "stream",
          "name": "stdout",
          "text": [
            "AAStringSet object of length 1:\n",
            "    width seq                                               names               \n",
            "[1]  1274 \u001b[47m\u001b[30mM\u001b[39m\u001b[49m\u001b[47m\u001b[30mF\u001b[39m\u001b[49m\u001b[47m\u001b[30mV\u001b[39m\u001b[49m\u001b[47m\u001b[30mF\u001b[39m\u001b[49m\u001b[47m\u001b[30mL\u001b[39m\u001b[49m\u001b[47m\u001b[30mV\u001b[39m\u001b[49m\u001b[47m\u001b[30mL\u001b[39m\u001b[49m\u001b[47m\u001b[30mL\u001b[39m\u001b[49m\u001b[47m\u001b[30mP\u001b[39m\u001b[49m\u001b[47m\u001b[30mL\u001b[39m\u001b[49m\u001b[47m\u001b[30mV\u001b[39m\u001b[49m\u001b[47m\u001b[30mS\u001b[39m\u001b[49m\u001b[47m\u001b[30mS\u001b[39m\u001b[49m\u001b[47m\u001b[30mQ\u001b[39m\u001b[49m\u001b[47m\u001b[30mC\u001b[39m\u001b[49m\u001b[47m\u001b[30mV\u001b[39m\u001b[49m\u001b[47m\u001b[30mN\u001b[39m\u001b[49m\u001b[47m\u001b[30mL\u001b[39m\u001b[49m\u001b[47m\u001b[30mT\u001b[39m\u001b[49m\u001b[47m\u001b[30mT\u001b[39m\u001b[49m\u001b[47m\u001b[30mR\u001b[39m\u001b[49m\u001b[47m\u001b[30mT\u001b[39m\u001b[49m\u001b[47m\u001b[30mQ\u001b[39m\u001b[49m...\u001b[47m\u001b[30mS\u001b[39m\u001b[49m\u001b[47m\u001b[30mC\u001b[39m\u001b[49m\u001b[47m\u001b[30mC\u001b[39m\u001b[49m\u001b[47m\u001b[30mK\u001b[39m\u001b[49m\u001b[47m\u001b[30mF\u001b[39m\u001b[49m\u001b[47m\u001b[30mD\u001b[39m\u001b[49m\u001b[47m\u001b[30mE\u001b[39m\u001b[49m\u001b[47m\u001b[30mD\u001b[39m\u001b[49m\u001b[47m\u001b[30mD\u001b[39m\u001b[49m\u001b[47m\u001b[30mS\u001b[39m\u001b[49m\u001b[47m\u001b[30mE\u001b[39m\u001b[49m\u001b[47m\u001b[30mP\u001b[39m\u001b[49m\u001b[47m\u001b[30mV\u001b[39m\u001b[49m\u001b[47m\u001b[30mL\u001b[39m\u001b[49m\u001b[47m\u001b[30mK\u001b[39m\u001b[49m\u001b[47m\u001b[30mG\u001b[39m\u001b[49m\u001b[47m\u001b[30mV\u001b[39m\u001b[49m\u001b[47m\u001b[30mK\u001b[39m\u001b[49m\u001b[47m\u001b[30mL\u001b[39m\u001b[49m\u001b[47m\u001b[30mH\u001b[39m\u001b[49m\u001b[47m\u001b[30mY\u001b[39m\u001b[49m\u001b[47m\u001b[30mT\u001b[39m\u001b[49m* WHP3977_10906\n"
          ]
        }
      ]
    },
    {
      "cell_type": "markdown",
      "source": [
        "## Write the spike gene to a fasta file"
      ],
      "metadata": {
        "id": "4MCQrTe0RE0N"
      }
    },
    {
      "cell_type": "code",
      "source": [
        "writeXStringSet(spike_gene_selected, \"/content/spike_gene_nt.fasta\")\n",
        "writeXStringSet(spike_gene_selected_aa, \"/content/spike_gene_aa.fasta\")"
      ],
      "metadata": {
        "id": "mdJc8UIyLj51"
      },
      "execution_count": 36,
      "outputs": []
    },
    {
      "cell_type": "code",
      "source": [],
      "metadata": {
        "id": "g3n2Dy0YLl4L"
      },
      "execution_count": null,
      "outputs": []
    }
  ]
}