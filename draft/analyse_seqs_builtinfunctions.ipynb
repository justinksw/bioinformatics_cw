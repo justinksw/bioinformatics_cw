{
  "nbformat": 4,
  "nbformat_minor": 0,
  "metadata": {
    "colab": {
      "provenance": [],
      "authorship_tag": "ABX9TyOGSJiUaDj04zKu0+ZxxvBy"
    },
    "kernelspec": {
      "name": "ir",
      "display_name": "R"
    },
    "language_info": {
      "name": "R"
    }
  },
  "cells": [
    {
      "cell_type": "markdown",
      "source": [
        "# 0. Install BiocManager Biostrings\n",
        "\n",
        "- [Install Biostrings](https://bioconductor.org/packages/release/bioc/html/Biostrings.html)\n",
        "\n"
      ],
      "metadata": {
        "id": "RCFP0o12GD4r"
      }
    },
    {
      "cell_type": "code",
      "execution_count": 1,
      "metadata": {
        "id": "u-onhfiQFOgu",
        "colab": {
          "base_uri": "https://localhost:8080/"
        },
        "outputId": "23383778-9af4-4bc5-eb93-6f175fa199da"
      },
      "outputs": [
        {
          "output_type": "stream",
          "name": "stderr",
          "text": [
            "Installing package into ‘/usr/local/lib/R/site-library’\n",
            "(as ‘lib’ is unspecified)\n",
            "\n",
            "'getOption(\"repos\")' replaces Bioconductor standard repositories, see\n",
            "'help(\"repositories\", package = \"BiocManager\")' for details.\n",
            "Replacement repositories:\n",
            "    CRAN: https://cran.rstudio.com\n",
            "\n",
            "Bioconductor version 3.20 (BiocManager 1.30.25), R 4.4.2 (2024-10-31)\n",
            "\n",
            "Installing package(s) 'BiocVersion', 'Biostrings'\n",
            "\n",
            "also installing the dependencies ‘zlibbioc’, ‘UCSC.utils’, ‘GenomeInfoDbData’, ‘BiocGenerics’, ‘S4Vectors’, ‘IRanges’, ‘XVector’, ‘GenomeInfoDb’\n",
            "\n",
            "\n",
            "Old packages: 'bit', 'cpp11'\n",
            "\n"
          ]
        }
      ],
      "source": [
        "if (!require(\"BiocManager\", quietly = TRUE))\n",
        "    install.packages(\"BiocManager\")\n",
        "\n",
        "BiocManager::install(\"Biostrings\")"
      ]
    },
    {
      "cell_type": "markdown",
      "source": [
        "# 1. Upload the files to Colab\n",
        "\n",
        "- Note: the uploaded files will be deleted when the runtime is finished"
      ],
      "metadata": {
        "id": "CyZToZxpHoqd"
      }
    },
    {
      "cell_type": "markdown",
      "source": [
        "# 2. Load the installed package Biostrings"
      ],
      "metadata": {
        "id": "jwJpMM5iInRW"
      }
    },
    {
      "cell_type": "code",
      "source": [
        "library(Biostrings)"
      ],
      "metadata": {
        "id": "u7r6ol-4GDgn",
        "colab": {
          "base_uri": "https://localhost:8080/"
        },
        "outputId": "2fa68f2c-9f0f-45da-8ba0-17f6f7b186d4"
      },
      "execution_count": 2,
      "outputs": [
        {
          "output_type": "stream",
          "name": "stderr",
          "text": [
            "Loading required package: BiocGenerics\n",
            "\n",
            "\n",
            "Attaching package: ‘BiocGenerics’\n",
            "\n",
            "\n",
            "The following objects are masked from ‘package:stats’:\n",
            "\n",
            "    IQR, mad, sd, var, xtabs\n",
            "\n",
            "\n",
            "The following objects are masked from ‘package:base’:\n",
            "\n",
            "    anyDuplicated, aperm, append, as.data.frame, basename, cbind,\n",
            "    colnames, dirname, do.call, duplicated, eval, evalq, Filter, Find,\n",
            "    get, grep, grepl, intersect, is.unsorted, lapply, Map, mapply,\n",
            "    match, mget, order, paste, pmax, pmax.int, pmin, pmin.int,\n",
            "    Position, rank, rbind, Reduce, rownames, sapply, saveRDS, setdiff,\n",
            "    table, tapply, union, unique, unsplit, which.max, which.min\n",
            "\n",
            "\n",
            "Loading required package: S4Vectors\n",
            "\n",
            "Loading required package: stats4\n",
            "\n",
            "\n",
            "Attaching package: ‘S4Vectors’\n",
            "\n",
            "\n",
            "The following object is masked from ‘package:utils’:\n",
            "\n",
            "    findMatches\n",
            "\n",
            "\n",
            "The following objects are masked from ‘package:base’:\n",
            "\n",
            "    expand.grid, I, unname\n",
            "\n",
            "\n",
            "Loading required package: IRanges\n",
            "\n",
            "Loading required package: XVector\n",
            "\n",
            "Loading required package: GenomeInfoDb\n",
            "\n",
            "\n",
            "Attaching package: ‘Biostrings’\n",
            "\n",
            "\n",
            "The following object is masked from ‘package:base’:\n",
            "\n",
            "    strsplit\n",
            "\n",
            "\n"
          ]
        }
      ]
    },
    {
      "cell_type": "markdown",
      "source": [
        "# 3. Read the fasta file containing the selected sequences"
      ],
      "metadata": {
        "id": "jPQ-x7GFJeyQ"
      }
    },
    {
      "cell_type": "code",
      "source": [
        "seqs <- readDNAStringSet(\"/content/selected_seqs.fasta\") # replace the path with the path to the link to the fasta file if you are using the online runtime"
      ],
      "metadata": {
        "id": "Phyw1SLeJG-J"
      },
      "execution_count": 3,
      "outputs": []
    },
    {
      "cell_type": "markdown",
      "source": [
        "# 4. DATA CLEANING\n",
        "\n",
        "1. Load the provided SARS-CoV-2 FASTA file `selected_seqs.fasta` (20 sequences, each 29,903 bp) into the Colab notebook.\n",
        "\n",
        "2. Keep sequences with coverage over 85% (counting only A, C, T, and G bases)."
      ],
      "metadata": {
        "id": "SMIJrqpdJtlC"
      }
    },
    {
      "cell_type": "markdown",
      "source": [
        "## Using a built-in function to calculate the proportion of A, C, T, G in the sequences\n"
      ],
      "metadata": {
        "id": "mYsORX1AOdVF"
      }
    },
    {
      "cell_type": "code",
      "source": [
        "seqs_nt_count <- alphabetFrequency(seqs)\n",
        "print(seqs_nt_count)"
      ],
      "metadata": {
        "id": "RJHV9iK_JZR-",
        "colab": {
          "base_uri": "https://localhost:8080/"
        },
        "outputId": "2849f8fe-8aae-4380-e81d-dee8df2944ca"
      },
      "execution_count": 4,
      "outputs": [
        {
          "output_type": "stream",
          "name": "stdout",
          "text": [
            "         A    C    G    T M R W S Y K V H D B     N  - + .\n",
            " [1,] 8934 5452 5838 9599 0 0 0 0 0 0 0 0 0 0    27 53 0 0\n",
            " [2,] 8883 5434 5827 9574 0 0 0 0 0 0 0 0 0 0   127 58 0 0\n",
            " [3,] 8940 5474 5848 9587 0 0 0 0 0 0 0 0 0 0    54  0 0 0\n",
            " [4,] 8953 5485 5861 9600 0 0 0 0 0 0 0 0 0 0     4  0 0 0\n",
            " [5,]   33    0    0    0 0 0 0 0 0 0 0 0 0 0 29870  0 0 0\n",
            " [6,] 8928 5467 5844 9577 1 0 0 0 0 1 0 0 0 0    85  0 0 0\n",
            " [7,] 7787 4783 5147 8208 0 0 0 0 0 0 0 0 0 0  3939 39 0 0\n",
            " [8,]   48    2   10    7 0 0 0 0 0 0 0 0 0 0 29836  0 0 0\n",
            " [9,] 8930 5450 5838 9590 0 0 0 0 0 0 0 0 0 0    27 68 0 0\n",
            "[10,] 8933 5451 5832 9586 0 0 0 0 0 0 0 0 0 0    45 56 0 0\n",
            "[11,] 8880 5436 5829 9584 0 0 0 0 0 0 0 0 0 0   121 53 0 0\n",
            "[12,] 8931 5454 5834 9588 0 0 0 0 0 0 0 0 0 0    40 56 0 0\n",
            "[13,] 8891 5437 5827 9585 0 0 0 0 0 0 0 0 0 0   102 61 0 0\n",
            "[14,] 7041 4329 4629 7577 0 0 0 0 0 0 0 0 0 0  6299 28 0 0\n",
            "[15,] 8952 5484 5858 9602 0 0 0 0 0 0 0 0 0 0     7  0 0 0\n",
            "[16,] 8906 5442 5814 9567 0 0 0 0 0 0 0 0 0 0   144 30 0 0\n",
            "[17,] 8931 5450 5839 9591 0 0 0 0 0 0 0 0 0 0    39 53 0 0\n",
            "[18,] 8926 5439 5838 9602 0 0 0 0 0 0 0 0 0 0    45 53 0 0\n",
            "[19,] 8913 5440 5829 9572 1 3 6 1 3 1 0 0 0 0    82 52 0 0\n",
            "[20,] 8919 5458 5835 9564 0 0 0 0 0 0 0 0 0 0   114 13 0 0\n"
          ]
        }
      ]
    },
    {
      "cell_type": "code",
      "source": [
        "seqs_nt_prop <- seqs_nt_count/rowSums(seqs_nt_count)\n",
        "print(seqs_nt_prop)"
      ],
      "metadata": {
        "id": "dXw6GHsAKRri",
        "colab": {
          "base_uri": "https://localhost:8080/"
        },
        "outputId": "596c12f4-0852-4f7b-8d5c-4575398913e2"
      },
      "execution_count": 5,
      "outputs": [
        {
          "output_type": "stream",
          "name": "stdout",
          "text": [
            "                A            C            G            T            M\n",
            " [1,] 0.298766010 1.823228e-01 0.1952312477 0.3210045815 0.000000e+00\n",
            " [2,] 0.297060496 1.817209e-01 0.1948633916 0.3201685450 0.000000e+00\n",
            " [3,] 0.298966659 1.830586e-01 0.1955656623 0.3206032840 0.000000e+00\n",
            " [4,] 0.299401398 1.834264e-01 0.1960004013 0.3210380229 0.000000e+00\n",
            " [5,] 0.001103568 0.000000e+00 0.0000000000 0.0000000000 0.000000e+00\n",
            " [6,] 0.298565361 1.828245e-01 0.1954318965 0.3202688693 3.344146e-05\n",
            " [7,] 0.260408655 1.599505e-01 0.1721231983 0.2744875096 0.000000e+00\n",
            " [8,] 0.001605190 6.688292e-05 0.0003344146 0.0002340902 0.000000e+00\n",
            " [9,] 0.298632244 1.822560e-01 0.1952312477 0.3207036083 0.000000e+00\n",
            "[10,] 0.298732569 1.822894e-01 0.1950305989 0.3205698425 0.000000e+00\n",
            "[11,] 0.296960171 1.817878e-01 0.1949302746 0.3205029596 0.000000e+00\n",
            "[12,] 0.298665686 1.823897e-01 0.1950974819 0.3206367254 0.000000e+00\n",
            "[13,] 0.297328027 1.818212e-01 0.1948633916 0.3205364010 0.000000e+00\n",
            "[14,] 0.235461325 1.447681e-01 0.1548005217 0.2533859479 0.000000e+00\n",
            "[15,] 0.299367956 1.833930e-01 0.1959000769 0.3211049059 0.000000e+00\n",
            "[16,] 0.297829649 1.819884e-01 0.1944286526 0.3199344547 0.000000e+00\n",
            "[17,] 0.298665686 1.822560e-01 0.1952646892 0.3207370498 0.000000e+00\n",
            "[18,] 0.298498478 1.818881e-01 0.1952312477 0.3211049059 0.000000e+00\n",
            "[19,] 0.298063739 1.819215e-01 0.1949302746 0.3201016620 3.344146e-05\n",
            "[20,] 0.298264388 1.825235e-01 0.1951309233 0.3198341304 0.000000e+00\n",
            "                 R            W            S            Y            K V H D B\n",
            " [1,] 0.0000000000 0.0000000000 0.000000e+00 0.0000000000 0.000000e+00 0 0 0 0\n",
            " [2,] 0.0000000000 0.0000000000 0.000000e+00 0.0000000000 0.000000e+00 0 0 0 0\n",
            " [3,] 0.0000000000 0.0000000000 0.000000e+00 0.0000000000 0.000000e+00 0 0 0 0\n",
            " [4,] 0.0000000000 0.0000000000 0.000000e+00 0.0000000000 0.000000e+00 0 0 0 0\n",
            " [5,] 0.0000000000 0.0000000000 0.000000e+00 0.0000000000 0.000000e+00 0 0 0 0\n",
            " [6,] 0.0000000000 0.0000000000 0.000000e+00 0.0000000000 3.344146e-05 0 0 0 0\n",
            " [7,] 0.0000000000 0.0000000000 0.000000e+00 0.0000000000 0.000000e+00 0 0 0 0\n",
            " [8,] 0.0000000000 0.0000000000 0.000000e+00 0.0000000000 0.000000e+00 0 0 0 0\n",
            " [9,] 0.0000000000 0.0000000000 0.000000e+00 0.0000000000 0.000000e+00 0 0 0 0\n",
            "[10,] 0.0000000000 0.0000000000 0.000000e+00 0.0000000000 0.000000e+00 0 0 0 0\n",
            "[11,] 0.0000000000 0.0000000000 0.000000e+00 0.0000000000 0.000000e+00 0 0 0 0\n",
            "[12,] 0.0000000000 0.0000000000 0.000000e+00 0.0000000000 0.000000e+00 0 0 0 0\n",
            "[13,] 0.0000000000 0.0000000000 0.000000e+00 0.0000000000 0.000000e+00 0 0 0 0\n",
            "[14,] 0.0000000000 0.0000000000 0.000000e+00 0.0000000000 0.000000e+00 0 0 0 0\n",
            "[15,] 0.0000000000 0.0000000000 0.000000e+00 0.0000000000 0.000000e+00 0 0 0 0\n",
            "[16,] 0.0000000000 0.0000000000 0.000000e+00 0.0000000000 0.000000e+00 0 0 0 0\n",
            "[17,] 0.0000000000 0.0000000000 0.000000e+00 0.0000000000 0.000000e+00 0 0 0 0\n",
            "[18,] 0.0000000000 0.0000000000 0.000000e+00 0.0000000000 0.000000e+00 0 0 0 0\n",
            "[19,] 0.0001003244 0.0002006488 3.344146e-05 0.0001003244 3.344146e-05 0 0 0 0\n",
            "[20,] 0.0000000000 0.0000000000 0.000000e+00 0.0000000000 0.000000e+00 0 0 0 0\n",
            "                 N            - + .\n",
            " [1,] 0.0009029194 0.0017723974 0 0\n",
            " [2,] 0.0042470655 0.0019396047 0 0\n",
            " [3,] 0.0018058389 0.0000000000 0 0\n",
            " [4,] 0.0001337658 0.0000000000 0 0\n",
            " [5,] 0.9988964318 0.0000000000 0 0\n",
            " [6,] 0.0028425242 0.0000000000 0 0\n",
            " [7,] 0.1317259138 0.0013042170 0 0\n",
            " [8,] 0.9977594221 0.0000000000 0 0\n",
            " [9,] 0.0009029194 0.0022740193 0 0\n",
            "[10,] 0.0015048657 0.0018727218 0 0\n",
            "[11,] 0.0040464167 0.0017723974 0 0\n",
            "[12,] 0.0013376584 0.0018727218 0 0\n",
            "[13,] 0.0034110290 0.0020399291 0 0\n",
            "[14,] 0.2106477611 0.0009363609 0 0\n",
            "[15,] 0.0002340902 0.0000000000 0 0\n",
            "[16,] 0.0048155703 0.0010032438 0 0\n",
            "[17,] 0.0013042170 0.0017723974 0 0\n",
            "[18,] 0.0015048657 0.0017723974 0 0\n",
            "[19,] 0.0027421998 0.0017389560 0 0\n",
            "[20,] 0.0038123265 0.0004347390 0 0\n"
          ]
        }
      ]
    },
    {
      "cell_type": "code",
      "source": [
        "seqs_nt_prop_actg <- apply(seqs_nt_prop, 1, function(x) sum(x[names(x) %in% c(\"A\", \"C\", \"T\", \"G\")]))\n",
        "print(seqs_nt_prop_actg)"
      ],
      "metadata": {
        "colab": {
          "base_uri": "https://localhost:8080/"
        },
        "id": "v03jJ_gyKUGK",
        "outputId": "4f9bb0e1-24fc-4552-c6cc-2e574d61df1c"
      },
      "execution_count": 6,
      "outputs": [
        {
          "output_type": "stream",
          "name": "stdout",
          "text": [
            " [1] 0.997324683 0.993813330 0.998194161 0.999866234 0.001103568 0.997090593\n",
            " [7] 0.866969869 0.002240578 0.996823061 0.996622412 0.994181186 0.996789620\n",
            "[13] 0.994549042 0.788415878 0.999765910 0.994181186 0.996923386 0.996722737\n",
            "[19] 0.995017222 0.995752934\n"
          ]
        }
      ]
    },
    {
      "cell_type": "markdown",
      "source": [
        "## Result: Filtered Sequences\n",
        "\n",
        "- 17 sequences left after filtering"
      ],
      "metadata": {
        "id": "yybc_9GAO9OM"
      }
    },
    {
      "cell_type": "code",
      "source": [
        "# keeping sequences with at least 85% of A, C, T, G\n",
        "seqs_filtered <- seqs[seqs_nt_prop_actg >= 0.85]\n",
        "print(seqs_filtered)"
      ],
      "metadata": {
        "colab": {
          "base_uri": "https://localhost:8080/"
        },
        "id": "vowvQ0aSKuA4",
        "outputId": "ec25f50c-e721-4627-8f79-fad83b8476c1"
      },
      "execution_count": 7,
      "outputs": [
        {
          "output_type": "stream",
          "name": "stdout",
          "text": [
            "DNAStringSet object of length 17:\n",
            "     width seq                                              names               \n",
            " [1] 29903 \u001b[47m\u001b[37mN\u001b[39m\u001b[49m\u001b[47m\u001b[37mN\u001b[39m\u001b[49m\u001b[47m\u001b[37mN\u001b[39m\u001b[49m\u001b[47m\u001b[37mN\u001b[39m\u001b[49m\u001b[47m\u001b[30mA\u001b[39m\u001b[49m\u001b[47m\u001b[30mA\u001b[39m\u001b[49m\u001b[47m\u001b[30mG\u001b[39m\u001b[49m\u001b[47m\u001b[30mG\u001b[39m\u001b[49m\u001b[47m\u001b[30mT\u001b[39m\u001b[49m\u001b[47m\u001b[30mT\u001b[39m\u001b[49m\u001b[47m\u001b[30mT\u001b[39m\u001b[49m\u001b[47m\u001b[30mA\u001b[39m\u001b[49m\u001b[47m\u001b[30mT\u001b[39m\u001b[49m\u001b[47m\u001b[30mA\u001b[39m\u001b[49m\u001b[47m\u001b[30mC\u001b[39m\u001b[49m\u001b[47m\u001b[30mC\u001b[39m\u001b[49m\u001b[47m\u001b[30mT\u001b[39m\u001b[49m\u001b[47m\u001b[30mT\u001b[39m\u001b[49m\u001b[47m\u001b[30mC\u001b[39m\u001b[49m\u001b[47m\u001b[30mC\u001b[39m\u001b[49m\u001b[47m\u001b[30mC\u001b[39m\u001b[49m\u001b[47m\u001b[30mA\u001b[39m\u001b[49m\u001b[47m\u001b[30mG\u001b[39m\u001b[49m...\u001b[47m\u001b[30mA\u001b[39m\u001b[49m\u001b[47m\u001b[30mA\u001b[39m\u001b[49m\u001b[47m\u001b[30mA\u001b[39m\u001b[49m\u001b[47m\u001b[30mA\u001b[39m\u001b[49m\u001b[47m\u001b[30mA\u001b[39m\u001b[49m\u001b[47m\u001b[30mA\u001b[39m\u001b[49m\u001b[47m\u001b[30mA\u001b[39m\u001b[49m\u001b[47m\u001b[30mA\u001b[39m\u001b[49m\u001b[47m\u001b[30mA\u001b[39m\u001b[49m\u001b[47m\u001b[30mA\u001b[39m\u001b[49m\u001b[47m\u001b[30mA\u001b[39m\u001b[49m\u001b[47m\u001b[30mA\u001b[39m\u001b[49m\u001b[47m\u001b[30mA\u001b[39m\u001b[49m\u001b[47m\u001b[30mA\u001b[39m\u001b[49m\u001b[47m\u001b[30mA\u001b[39m\u001b[49m\u001b[47m\u001b[30mA\u001b[39m\u001b[49m\u001b[47m\u001b[30mA\u001b[39m\u001b[49m\u001b[47m\u001b[30mA\u001b[39m\u001b[49m\u001b[47m\u001b[30mA\u001b[39m\u001b[49m\u001b[47m\u001b[30mA\u001b[39m\u001b[49m\u001b[47m\u001b[30mA\u001b[39m\u001b[49m\u001b[47m\u001b[30mA\u001b[39m\u001b[49m WHP10644-AV41_RC8...\n",
            " [2] 29903 \u001b[47m\u001b[37mN\u001b[39m\u001b[49m\u001b[47m\u001b[37mN\u001b[39m\u001b[49m\u001b[47m\u001b[37mN\u001b[39m\u001b[49m\u001b[47m\u001b[37mN\u001b[39m\u001b[49m\u001b[47m\u001b[37mN\u001b[39m\u001b[49m\u001b[47m\u001b[37mN\u001b[39m\u001b[49m\u001b[47m\u001b[37mN\u001b[39m\u001b[49m\u001b[47m\u001b[30mG\u001b[39m\u001b[49m\u001b[47m\u001b[30mT\u001b[39m\u001b[49m\u001b[47m\u001b[30mT\u001b[39m\u001b[49m\u001b[47m\u001b[30mT\u001b[39m\u001b[49m\u001b[47m\u001b[30mA\u001b[39m\u001b[49m\u001b[47m\u001b[30mT\u001b[39m\u001b[49m\u001b[47m\u001b[30mA\u001b[39m\u001b[49m\u001b[47m\u001b[30mC\u001b[39m\u001b[49m\u001b[47m\u001b[30mC\u001b[39m\u001b[49m\u001b[47m\u001b[30mT\u001b[39m\u001b[49m\u001b[47m\u001b[30mT\u001b[39m\u001b[49m\u001b[47m\u001b[30mC\u001b[39m\u001b[49m\u001b[47m\u001b[30mC\u001b[39m\u001b[49m\u001b[47m\u001b[30mC\u001b[39m\u001b[49m\u001b[47m\u001b[30mA\u001b[39m\u001b[49m\u001b[47m\u001b[30mG\u001b[39m\u001b[49m...\u001b[47m\u001b[37mN\u001b[39m\u001b[49m\u001b[47m\u001b[37mN\u001b[39m\u001b[49m\u001b[47m\u001b[37mN\u001b[39m\u001b[49m\u001b[47m\u001b[37mN\u001b[39m\u001b[49m\u001b[47m\u001b[37mN\u001b[39m\u001b[49m\u001b[47m\u001b[37mN\u001b[39m\u001b[49m\u001b[47m\u001b[37mN\u001b[39m\u001b[49m\u001b[47m\u001b[37mN\u001b[39m\u001b[49m\u001b[47m\u001b[37mN\u001b[39m\u001b[49m\u001b[47m\u001b[37mN\u001b[39m\u001b[49m\u001b[47m\u001b[37mN\u001b[39m\u001b[49m\u001b[47m\u001b[37mN\u001b[39m\u001b[49m\u001b[47m\u001b[37mN\u001b[39m\u001b[49m\u001b[47m\u001b[37mN\u001b[39m\u001b[49m\u001b[47m\u001b[37mN\u001b[39m\u001b[49m\u001b[47m\u001b[37mN\u001b[39m\u001b[49m\u001b[47m\u001b[37mN\u001b[39m\u001b[49m\u001b[47m\u001b[37mN\u001b[39m\u001b[49m\u001b[47m\u001b[37mN\u001b[39m\u001b[49m\u001b[47m\u001b[37mN\u001b[39m\u001b[49m\u001b[47m\u001b[37mN\u001b[39m\u001b[49m\u001b[47m\u001b[37mN\u001b[39m\u001b[49m WHP7426-H2-iseq_1...\n",
            " [3] 29903 \u001b[47m\u001b[37mN\u001b[39m\u001b[49m\u001b[47m\u001b[37mN\u001b[39m\u001b[49m\u001b[47m\u001b[37mN\u001b[39m\u001b[49m\u001b[47m\u001b[37mN\u001b[39m\u001b[49m\u001b[47m\u001b[37mN\u001b[39m\u001b[49m\u001b[47m\u001b[37mN\u001b[39m\u001b[49m\u001b[47m\u001b[37mN\u001b[39m\u001b[49m\u001b[47m\u001b[37mN\u001b[39m\u001b[49m\u001b[47m\u001b[37mN\u001b[39m\u001b[49m\u001b[47m\u001b[37mN\u001b[39m\u001b[49m\u001b[47m\u001b[37mN\u001b[39m\u001b[49m\u001b[47m\u001b[37mN\u001b[39m\u001b[49m\u001b[47m\u001b[37mN\u001b[39m\u001b[49m\u001b[47m\u001b[37mN\u001b[39m\u001b[49m\u001b[47m\u001b[37mN\u001b[39m\u001b[49m\u001b[47m\u001b[37mN\u001b[39m\u001b[49m\u001b[47m\u001b[37mN\u001b[39m\u001b[49m\u001b[47m\u001b[37mN\u001b[39m\u001b[49m\u001b[47m\u001b[37mN\u001b[39m\u001b[49m\u001b[47m\u001b[37mN\u001b[39m\u001b[49m\u001b[47m\u001b[37mN\u001b[39m\u001b[49m\u001b[47m\u001b[37mN\u001b[39m\u001b[49m\u001b[47m\u001b[37mN\u001b[39m\u001b[49m...\u001b[47m\u001b[30mA\u001b[39m\u001b[49m\u001b[47m\u001b[30mA\u001b[39m\u001b[49m\u001b[47m\u001b[30mA\u001b[39m\u001b[49m\u001b[47m\u001b[30mA\u001b[39m\u001b[49m\u001b[47m\u001b[30mA\u001b[39m\u001b[49m\u001b[47m\u001b[30mA\u001b[39m\u001b[49m\u001b[47m\u001b[30mA\u001b[39m\u001b[49m\u001b[47m\u001b[30mA\u001b[39m\u001b[49m\u001b[47m\u001b[30mA\u001b[39m\u001b[49m\u001b[47m\u001b[30mA\u001b[39m\u001b[49m\u001b[47m\u001b[30mA\u001b[39m\u001b[49m\u001b[47m\u001b[30mA\u001b[39m\u001b[49m\u001b[47m\u001b[30mA\u001b[39m\u001b[49m\u001b[47m\u001b[30mA\u001b[39m\u001b[49m\u001b[47m\u001b[30mA\u001b[39m\u001b[49m\u001b[47m\u001b[30mA\u001b[39m\u001b[49m\u001b[47m\u001b[30mA\u001b[39m\u001b[49m\u001b[47m\u001b[30mA\u001b[39m\u001b[49m\u001b[47m\u001b[30mA\u001b[39m\u001b[49m\u001b[47m\u001b[30mA\u001b[39m\u001b[49m\u001b[47m\u001b[30mA\u001b[39m\u001b[49m\u001b[47m\u001b[30mA\u001b[39m\u001b[49m WHP3916_10681\n",
            " [4] 29903 \u001b[47m\u001b[37mN\u001b[39m\u001b[49m\u001b[47m\u001b[37mN\u001b[39m\u001b[49m\u001b[47m\u001b[37mN\u001b[39m\u001b[49m\u001b[47m\u001b[37mN\u001b[39m\u001b[49m\u001b[47m\u001b[30mA\u001b[39m\u001b[49m\u001b[47m\u001b[30mA\u001b[39m\u001b[49m\u001b[47m\u001b[30mG\u001b[39m\u001b[49m\u001b[47m\u001b[30mG\u001b[39m\u001b[49m\u001b[47m\u001b[30mT\u001b[39m\u001b[49m\u001b[47m\u001b[30mT\u001b[39m\u001b[49m\u001b[47m\u001b[30mT\u001b[39m\u001b[49m\u001b[47m\u001b[30mA\u001b[39m\u001b[49m\u001b[47m\u001b[30mT\u001b[39m\u001b[49m\u001b[47m\u001b[30mA\u001b[39m\u001b[49m\u001b[47m\u001b[30mC\u001b[39m\u001b[49m\u001b[47m\u001b[30mC\u001b[39m\u001b[49m\u001b[47m\u001b[30mT\u001b[39m\u001b[49m\u001b[47m\u001b[30mT\u001b[39m\u001b[49m\u001b[47m\u001b[30mC\u001b[39m\u001b[49m\u001b[47m\u001b[30mC\u001b[39m\u001b[49m\u001b[47m\u001b[30mC\u001b[39m\u001b[49m\u001b[47m\u001b[30mA\u001b[39m\u001b[49m\u001b[47m\u001b[30mG\u001b[39m\u001b[49m...\u001b[47m\u001b[30mA\u001b[39m\u001b[49m\u001b[47m\u001b[30mA\u001b[39m\u001b[49m\u001b[47m\u001b[30mA\u001b[39m\u001b[49m\u001b[47m\u001b[30mA\u001b[39m\u001b[49m\u001b[47m\u001b[30mA\u001b[39m\u001b[49m\u001b[47m\u001b[30mA\u001b[39m\u001b[49m\u001b[47m\u001b[30mA\u001b[39m\u001b[49m\u001b[47m\u001b[30mA\u001b[39m\u001b[49m\u001b[47m\u001b[30mA\u001b[39m\u001b[49m\u001b[47m\u001b[30mA\u001b[39m\u001b[49m\u001b[47m\u001b[30mA\u001b[39m\u001b[49m\u001b[47m\u001b[30mA\u001b[39m\u001b[49m\u001b[47m\u001b[30mA\u001b[39m\u001b[49m\u001b[47m\u001b[30mA\u001b[39m\u001b[49m\u001b[47m\u001b[30mA\u001b[39m\u001b[49m\u001b[47m\u001b[30mA\u001b[39m\u001b[49m\u001b[47m\u001b[30mA\u001b[39m\u001b[49m\u001b[47m\u001b[30mA\u001b[39m\u001b[49m\u001b[47m\u001b[30mA\u001b[39m\u001b[49m\u001b[47m\u001b[30mA\u001b[39m\u001b[49m\u001b[47m\u001b[30mA\u001b[39m\u001b[49m\u001b[47m\u001b[30mA\u001b[39m\u001b[49m WHP1939_3582\n",
            " [5] 29903 \u001b[47m\u001b[37mN\u001b[39m\u001b[49m\u001b[47m\u001b[37mN\u001b[39m\u001b[49m\u001b[47m\u001b[37mN\u001b[39m\u001b[49m\u001b[47m\u001b[37mN\u001b[39m\u001b[49m\u001b[47m\u001b[37mN\u001b[39m\u001b[49m\u001b[47m\u001b[37mN\u001b[39m\u001b[49m\u001b[47m\u001b[37mN\u001b[39m\u001b[49m\u001b[47m\u001b[37mN\u001b[39m\u001b[49m\u001b[47m\u001b[37mN\u001b[39m\u001b[49m\u001b[47m\u001b[37mN\u001b[39m\u001b[49m\u001b[47m\u001b[37mN\u001b[39m\u001b[49m\u001b[47m\u001b[37mN\u001b[39m\u001b[49m\u001b[47m\u001b[37mN\u001b[39m\u001b[49m\u001b[47m\u001b[37mN\u001b[39m\u001b[49m\u001b[47m\u001b[37mN\u001b[39m\u001b[49m\u001b[47m\u001b[37mN\u001b[39m\u001b[49m\u001b[47m\u001b[37mN\u001b[39m\u001b[49m\u001b[47m\u001b[37mN\u001b[39m\u001b[49m\u001b[47m\u001b[37mN\u001b[39m\u001b[49m\u001b[47m\u001b[37mN\u001b[39m\u001b[49m\u001b[47m\u001b[37mN\u001b[39m\u001b[49m\u001b[47m\u001b[37mN\u001b[39m\u001b[49m\u001b[47m\u001b[37mN\u001b[39m\u001b[49m...\u001b[47m\u001b[30mA\u001b[39m\u001b[49m\u001b[47m\u001b[30mA\u001b[39m\u001b[49m\u001b[47m\u001b[30mA\u001b[39m\u001b[49m\u001b[47m\u001b[30mA\u001b[39m\u001b[49m\u001b[47m\u001b[30mA\u001b[39m\u001b[49m\u001b[47m\u001b[30mA\u001b[39m\u001b[49m\u001b[47m\u001b[30mA\u001b[39m\u001b[49m\u001b[47m\u001b[30mA\u001b[39m\u001b[49m\u001b[47m\u001b[30mA\u001b[39m\u001b[49m\u001b[47m\u001b[30mA\u001b[39m\u001b[49m\u001b[47m\u001b[30mA\u001b[39m\u001b[49m\u001b[47m\u001b[30mA\u001b[39m\u001b[49m\u001b[47m\u001b[30mA\u001b[39m\u001b[49m\u001b[47m\u001b[30mA\u001b[39m\u001b[49m\u001b[47m\u001b[30mA\u001b[39m\u001b[49m\u001b[47m\u001b[30mA\u001b[39m\u001b[49m\u001b[47m\u001b[30mA\u001b[39m\u001b[49m\u001b[47m\u001b[30mA\u001b[39m\u001b[49m\u001b[47m\u001b[30mA\u001b[39m\u001b[49m\u001b[47m\u001b[30mA\u001b[39m\u001b[49m\u001b[47m\u001b[30mA\u001b[39m\u001b[49m\u001b[47m\u001b[30mA\u001b[39m\u001b[49m WHP3977_10906\n",
            " ...   ... ...\n",
            "[13] 29903 \u001b[47m\u001b[37mN\u001b[39m\u001b[49m\u001b[47m\u001b[37mN\u001b[39m\u001b[49m\u001b[47m\u001b[37mN\u001b[39m\u001b[49m\u001b[47m\u001b[37mN\u001b[39m\u001b[49m\u001b[47m\u001b[37mN\u001b[39m\u001b[49m\u001b[47m\u001b[37mN\u001b[39m\u001b[49m\u001b[47m\u001b[37mN\u001b[39m\u001b[49m\u001b[47m\u001b[30mG\u001b[39m\u001b[49m\u001b[47m\u001b[30mT\u001b[39m\u001b[49m\u001b[47m\u001b[30mT\u001b[39m\u001b[49m\u001b[47m\u001b[30mT\u001b[39m\u001b[49m\u001b[47m\u001b[30mA\u001b[39m\u001b[49m\u001b[47m\u001b[30mT\u001b[39m\u001b[49m\u001b[47m\u001b[30mA\u001b[39m\u001b[49m\u001b[47m\u001b[30mC\u001b[39m\u001b[49m\u001b[47m\u001b[30mC\u001b[39m\u001b[49m\u001b[47m\u001b[30mT\u001b[39m\u001b[49m\u001b[47m\u001b[30mT\u001b[39m\u001b[49m\u001b[47m\u001b[30mC\u001b[39m\u001b[49m\u001b[47m\u001b[30mC\u001b[39m\u001b[49m\u001b[47m\u001b[30mC\u001b[39m\u001b[49m\u001b[47m\u001b[30mA\u001b[39m\u001b[49m\u001b[47m\u001b[30mG\u001b[39m\u001b[49m...\u001b[47m\u001b[30mA\u001b[39m\u001b[49m\u001b[47m\u001b[30mA\u001b[39m\u001b[49m\u001b[47m\u001b[30mA\u001b[39m\u001b[49m\u001b[47m\u001b[30mA\u001b[39m\u001b[49m\u001b[47m\u001b[30mA\u001b[39m\u001b[49m\u001b[47m\u001b[30mA\u001b[39m\u001b[49m\u001b[47m\u001b[30mA\u001b[39m\u001b[49m\u001b[47m\u001b[30mA\u001b[39m\u001b[49m\u001b[47m\u001b[30mA\u001b[39m\u001b[49m\u001b[47m\u001b[30mA\u001b[39m\u001b[49m\u001b[47m\u001b[30mA\u001b[39m\u001b[49m\u001b[47m\u001b[30mA\u001b[39m\u001b[49m\u001b[47m\u001b[30mA\u001b[39m\u001b[49m\u001b[47m\u001b[30mA\u001b[39m\u001b[49m\u001b[47m\u001b[30mA\u001b[39m\u001b[49m\u001b[47m\u001b[30mA\u001b[39m\u001b[49m\u001b[47m\u001b[30mA\u001b[39m\u001b[49m\u001b[47m\u001b[30mA\u001b[39m\u001b[49m\u001b[47m\u001b[30mA\u001b[39m\u001b[49m\u001b[47m\u001b[30mA\u001b[39m\u001b[49m\u001b[47m\u001b[30mA\u001b[39m\u001b[49m\u001b[47m\u001b[30mA\u001b[39m\u001b[49m VOC1980-H2-iseq_NA\n",
            "[14] 29903 \u001b[47m\u001b[37mN\u001b[39m\u001b[49m\u001b[47m\u001b[37mN\u001b[39m\u001b[49m\u001b[47m\u001b[37mN\u001b[39m\u001b[49m\u001b[47m\u001b[37mN\u001b[39m\u001b[49m\u001b[47m\u001b[30mA\u001b[39m\u001b[49m\u001b[47m\u001b[30mA\u001b[39m\u001b[49m\u001b[47m\u001b[30mG\u001b[39m\u001b[49m\u001b[47m\u001b[30mG\u001b[39m\u001b[49m\u001b[47m\u001b[30mT\u001b[39m\u001b[49m\u001b[47m\u001b[30mT\u001b[39m\u001b[49m\u001b[47m\u001b[30mT\u001b[39m\u001b[49m\u001b[47m\u001b[30mA\u001b[39m\u001b[49m\u001b[47m\u001b[30mT\u001b[39m\u001b[49m\u001b[47m\u001b[30mA\u001b[39m\u001b[49m\u001b[47m\u001b[30mC\u001b[39m\u001b[49m\u001b[47m\u001b[30mC\u001b[39m\u001b[49m\u001b[47m\u001b[30mT\u001b[39m\u001b[49m\u001b[47m\u001b[30mT\u001b[39m\u001b[49m\u001b[47m\u001b[30mC\u001b[39m\u001b[49m\u001b[47m\u001b[30mC\u001b[39m\u001b[49m\u001b[47m\u001b[30mC\u001b[39m\u001b[49m\u001b[47m\u001b[30mA\u001b[39m\u001b[49m\u001b[47m\u001b[30mG\u001b[39m\u001b[49m...\u001b[47m\u001b[30mA\u001b[39m\u001b[49m\u001b[47m\u001b[30mA\u001b[39m\u001b[49m\u001b[47m\u001b[30mA\u001b[39m\u001b[49m\u001b[47m\u001b[30mA\u001b[39m\u001b[49m\u001b[47m\u001b[30mA\u001b[39m\u001b[49m\u001b[47m\u001b[30mA\u001b[39m\u001b[49m\u001b[47m\u001b[30mA\u001b[39m\u001b[49m\u001b[47m\u001b[30mA\u001b[39m\u001b[49m\u001b[47m\u001b[30mA\u001b[39m\u001b[49m\u001b[47m\u001b[30mA\u001b[39m\u001b[49m\u001b[47m\u001b[30mA\u001b[39m\u001b[49m\u001b[47m\u001b[30mA\u001b[39m\u001b[49m\u001b[47m\u001b[30mA\u001b[39m\u001b[49m\u001b[47m\u001b[30mA\u001b[39m\u001b[49m\u001b[47m\u001b[30mA\u001b[39m\u001b[49m\u001b[47m\u001b[30mA\u001b[39m\u001b[49m\u001b[47m\u001b[30mA\u001b[39m\u001b[49m\u001b[47m\u001b[30mA\u001b[39m\u001b[49m\u001b[47m\u001b[30mA\u001b[39m\u001b[49m\u001b[47m\u001b[30mA\u001b[39m\u001b[49m\u001b[47m\u001b[30mA\u001b[39m\u001b[49m\u001b[47m\u001b[30mA\u001b[39m\u001b[49m WHP7692-A4v1_1024583\n",
            "[15] 29903 \u001b[47m\u001b[37mN\u001b[39m\u001b[49m\u001b[47m\u001b[37mN\u001b[39m\u001b[49m\u001b[47m\u001b[37mN\u001b[39m\u001b[49m\u001b[47m\u001b[37mN\u001b[39m\u001b[49m\u001b[47m\u001b[37mN\u001b[39m\u001b[49m\u001b[47m\u001b[30mA\u001b[39m\u001b[49m\u001b[47m\u001b[30mG\u001b[39m\u001b[49m\u001b[47m\u001b[30mG\u001b[39m\u001b[49m\u001b[47m\u001b[30mT\u001b[39m\u001b[49m\u001b[47m\u001b[30mT\u001b[39m\u001b[49m\u001b[47m\u001b[30mT\u001b[39m\u001b[49m\u001b[47m\u001b[30mA\u001b[39m\u001b[49m\u001b[47m\u001b[30mT\u001b[39m\u001b[49m\u001b[47m\u001b[30mA\u001b[39m\u001b[49m\u001b[47m\u001b[30mC\u001b[39m\u001b[49m\u001b[47m\u001b[30mC\u001b[39m\u001b[49m\u001b[47m\u001b[30mT\u001b[39m\u001b[49m\u001b[47m\u001b[30mT\u001b[39m\u001b[49m\u001b[47m\u001b[30mC\u001b[39m\u001b[49m\u001b[47m\u001b[30mC\u001b[39m\u001b[49m\u001b[47m\u001b[30mC\u001b[39m\u001b[49m\u001b[47m\u001b[30mA\u001b[39m\u001b[49m\u001b[47m\u001b[30mG\u001b[39m\u001b[49m...\u001b[47m\u001b[30mA\u001b[39m\u001b[49m\u001b[47m\u001b[30mA\u001b[39m\u001b[49m\u001b[47m\u001b[30mA\u001b[39m\u001b[49m\u001b[47m\u001b[30mA\u001b[39m\u001b[49m\u001b[47m\u001b[30mA\u001b[39m\u001b[49m\u001b[47m\u001b[30mA\u001b[39m\u001b[49m\u001b[47m\u001b[30mA\u001b[39m\u001b[49m\u001b[47m\u001b[30mA\u001b[39m\u001b[49m\u001b[47m\u001b[30mA\u001b[39m\u001b[49m\u001b[47m\u001b[30mA\u001b[39m\u001b[49m\u001b[47m\u001b[30mA\u001b[39m\u001b[49m\u001b[47m\u001b[30mA\u001b[39m\u001b[49m\u001b[47m\u001b[30mA\u001b[39m\u001b[49m\u001b[47m\u001b[30mA\u001b[39m\u001b[49m\u001b[47m\u001b[30mA\u001b[39m\u001b[49m\u001b[47m\u001b[30mA\u001b[39m\u001b[49m\u001b[47m\u001b[30mA\u001b[39m\u001b[49m\u001b[47m\u001b[30mA\u001b[39m\u001b[49m\u001b[47m\u001b[30mA\u001b[39m\u001b[49m\u001b[47m\u001b[30mA\u001b[39m\u001b[49m\u001b[47m\u001b[30mA\u001b[39m\u001b[49m\u001b[47m\u001b[30mA\u001b[39m\u001b[49m WHP9591-A4v1_1283879\n",
            "[16] 29903 \u001b[47m\u001b[30mA\u001b[39m\u001b[49m\u001b[47m\u001b[37mY\u001b[39m\u001b[49m\u001b[47m\u001b[30mT\u001b[39m\u001b[49m\u001b[47m\u001b[30mA\u001b[39m\u001b[49m\u001b[47m\u001b[30mA\u001b[39m\u001b[49m\u001b[47m\u001b[30mA\u001b[39m\u001b[49m\u001b[47m\u001b[30mG\u001b[39m\u001b[49m\u001b[47m\u001b[30mG\u001b[39m\u001b[49m\u001b[47m\u001b[30mT\u001b[39m\u001b[49m\u001b[47m\u001b[30mT\u001b[39m\u001b[49m\u001b[47m\u001b[30mT\u001b[39m\u001b[49m\u001b[47m\u001b[30mA\u001b[39m\u001b[49m\u001b[47m\u001b[30mT\u001b[39m\u001b[49m\u001b[47m\u001b[30mA\u001b[39m\u001b[49m\u001b[47m\u001b[30mC\u001b[39m\u001b[49m\u001b[47m\u001b[30mC\u001b[39m\u001b[49m\u001b[47m\u001b[30mT\u001b[39m\u001b[49m\u001b[47m\u001b[30mT\u001b[39m\u001b[49m\u001b[47m\u001b[30mC\u001b[39m\u001b[49m\u001b[47m\u001b[30mC\u001b[39m\u001b[49m\u001b[47m\u001b[30mC\u001b[39m\u001b[49m\u001b[47m\u001b[30mA\u001b[39m\u001b[49m\u001b[47m\u001b[30mG\u001b[39m\u001b[49m...\u001b[47m\u001b[30mA\u001b[39m\u001b[49m\u001b[47m\u001b[30mA\u001b[39m\u001b[49m\u001b[47m\u001b[30mA\u001b[39m\u001b[49m\u001b[47m\u001b[30mA\u001b[39m\u001b[49m\u001b[47m\u001b[30mA\u001b[39m\u001b[49m\u001b[47m\u001b[30mA\u001b[39m\u001b[49m\u001b[47m\u001b[30mA\u001b[39m\u001b[49m\u001b[47m\u001b[30mA\u001b[39m\u001b[49m\u001b[47m\u001b[30mA\u001b[39m\u001b[49m\u001b[47m\u001b[30mA\u001b[39m\u001b[49m\u001b[47m\u001b[30mA\u001b[39m\u001b[49m\u001b[47m\u001b[30mA\u001b[39m\u001b[49m\u001b[47m\u001b[30mA\u001b[39m\u001b[49m\u001b[47m\u001b[30mA\u001b[39m\u001b[49m\u001b[47m\u001b[30mA\u001b[39m\u001b[49m\u001b[47m\u001b[30mA\u001b[39m\u001b[49m\u001b[47m\u001b[30mA\u001b[39m\u001b[49m\u001b[47m\u001b[30mA\u001b[39m\u001b[49m\u001b[47m\u001b[30mA\u001b[39m\u001b[49m\u001b[47m\u001b[30mA\u001b[39m\u001b[49m\u001b[47m\u001b[30mA\u001b[39m\u001b[49m\u001b[47m\u001b[30mA\u001b[39m\u001b[49m WHP6749-H2-iseq_R...\n",
            "[17] 29903 \u001b[47m\u001b[37mN\u001b[39m\u001b[49m\u001b[47m\u001b[37mN\u001b[39m\u001b[49m\u001b[47m\u001b[37mN\u001b[39m\u001b[49m\u001b[47m\u001b[37mN\u001b[39m\u001b[49m\u001b[47m\u001b[37mN\u001b[39m\u001b[49m\u001b[47m\u001b[37mN\u001b[39m\u001b[49m\u001b[47m\u001b[37mN\u001b[39m\u001b[49m\u001b[47m\u001b[37mN\u001b[39m\u001b[49m\u001b[47m\u001b[37mN\u001b[39m\u001b[49m\u001b[47m\u001b[37mN\u001b[39m\u001b[49m\u001b[47m\u001b[37mN\u001b[39m\u001b[49m\u001b[47m\u001b[37mN\u001b[39m\u001b[49m\u001b[47m\u001b[37mN\u001b[39m\u001b[49m\u001b[47m\u001b[37mN\u001b[39m\u001b[49m\u001b[47m\u001b[37mN\u001b[39m\u001b[49m\u001b[47m\u001b[37mN\u001b[39m\u001b[49m\u001b[47m\u001b[37mN\u001b[39m\u001b[49m\u001b[47m\u001b[37mN\u001b[39m\u001b[49m\u001b[47m\u001b[37mN\u001b[39m\u001b[49m\u001b[47m\u001b[37mN\u001b[39m\u001b[49m\u001b[47m\u001b[37mN\u001b[39m\u001b[49m\u001b[47m\u001b[37mN\u001b[39m\u001b[49m\u001b[47m\u001b[37mN\u001b[39m\u001b[49m...\u001b[47m\u001b[30mA\u001b[39m\u001b[49m\u001b[47m\u001b[30mA\u001b[39m\u001b[49m\u001b[47m\u001b[30mA\u001b[39m\u001b[49m\u001b[47m\u001b[30mA\u001b[39m\u001b[49m\u001b[47m\u001b[30mA\u001b[39m\u001b[49m\u001b[47m\u001b[30mA\u001b[39m\u001b[49m\u001b[47m\u001b[30mA\u001b[39m\u001b[49m\u001b[47m\u001b[30mA\u001b[39m\u001b[49m\u001b[47m\u001b[30mA\u001b[39m\u001b[49m\u001b[47m\u001b[30mA\u001b[39m\u001b[49m\u001b[47m\u001b[30mA\u001b[39m\u001b[49m\u001b[47m\u001b[30mA\u001b[39m\u001b[49m\u001b[47m\u001b[30mA\u001b[39m\u001b[49m\u001b[47m\u001b[30mA\u001b[39m\u001b[49m\u001b[47m\u001b[30mA\u001b[39m\u001b[49m\u001b[47m\u001b[30mA\u001b[39m\u001b[49m\u001b[47m\u001b[30mA\u001b[39m\u001b[49m\u001b[47m\u001b[30mA\u001b[39m\u001b[49m\u001b[47m\u001b[30mA\u001b[39m\u001b[49m\u001b[47m\u001b[30mA\u001b[39m\u001b[49m\u001b[47m\u001b[30mA\u001b[39m\u001b[49m\u001b[47m\u001b[30mA\u001b[39m\u001b[49m WHP4969_12214\n"
          ]
        }
      ]
    },
    {
      "cell_type": "markdown",
      "source": [
        "# 5. SEQUENCE ANALYSIS\n",
        "\n",
        "1. Calculate GC content for each of two randomly selected sequences.\n",
        "\n",
        "2. Extract the spike gene region (positions 21,563 to 25,384) for both sequences.\n",
        "\n",
        "3. Calculate the codon usage for one of the extracted sequences."
      ],
      "metadata": {
        "id": "1xNwkRlWK2w9"
      }
    },
    {
      "cell_type": "markdown",
      "source": [
        "## Calculate GC content for each of two randomly selected sequences"
      ],
      "metadata": {
        "id": "OvER4ELUPg58"
      }
    },
    {
      "cell_type": "code",
      "source": [
        "set.seed(2024) # set seed for reproducibility, in this way you will get the same random numbers as me every time\n",
        "seqs_sample <- sample(seqs_filtered, 2)\n",
        "seqs_sample_nt_count <- alphabetFrequency(seqs_sample)\n",
        "print(seqs_sample_nt_count)"
      ],
      "metadata": {
        "colab": {
          "base_uri": "https://localhost:8080/"
        },
        "id": "jpGCFNiRKw-t",
        "outputId": "e2108185-af0c-406f-9019-f4dd52dbe533"
      },
      "execution_count": 8,
      "outputs": [
        {
          "output_type": "stream",
          "name": "stdout",
          "text": [
            "        A    C    G    T M R W S Y K V H D B   N  - + .\n",
            "[1,] 8883 5434 5827 9574 0 0 0 0 0 0 0 0 0 0 127 58 0 0\n",
            "[2,] 8928 5467 5844 9577 1 0 0 0 0 1 0 0 0 0  85  0 0 0\n"
          ]
        }
      ]
    },
    {
      "cell_type": "code",
      "source": [
        "seqs_sample_nt_count_df <- as.data.frame(seqs_sample_nt_count)\n",
        "seqs_sample_nt_count_df$length <- rowSums(seqs_sample_nt_count)\n",
        "seqs_sample_nt_count_df$GC <- seqs_sample_nt_count_df$G + seqs_sample_nt_count_df$C\n",
        "seqs_sample_nt_count_df$GC_content <- seqs_sample_nt_count_df$GC/seqs_sample_nt_count_df$length"
      ],
      "metadata": {
        "id": "zP9i28LYLG2t"
      },
      "execution_count": 9,
      "outputs": []
    },
    {
      "cell_type": "code",
      "source": [
        "print(names(seqs_sample))"
      ],
      "metadata": {
        "colab": {
          "base_uri": "https://localhost:8080/"
        },
        "id": "Hmj1cylCLKYo",
        "outputId": "9b277118-910d-40e0-d9f1-becca7b66308"
      },
      "execution_count": 10,
      "outputs": [
        {
          "output_type": "stream",
          "name": "stdout",
          "text": [
            "[1] \"WHP7426-H2-iseq_1019418\" \"WHP3977_10906\"          \n"
          ]
        }
      ]
    },
    {
      "cell_type": "code",
      "source": [
        "print(seqs_sample_nt_count_df$GC_content)"
      ],
      "metadata": {
        "colab": {
          "base_uri": "https://localhost:8080/"
        },
        "id": "uflsrDzdLKd8",
        "outputId": "39b8f7c5-3859-45a9-cc92-527d9b6c6a59"
      },
      "execution_count": 11,
      "outputs": [
        {
          "output_type": "stream",
          "name": "stdout",
          "text": [
            "[1] 0.3765843 0.3782564\n"
          ]
        }
      ]
    },
    {
      "cell_type": "code",
      "source": [
        "print(paste0(\"GC content of sequence \", names(seqs_sample)[1], \": \", seqs_sample_nt_count_df$GC_content[1]))"
      ],
      "metadata": {
        "colab": {
          "base_uri": "https://localhost:8080/"
        },
        "id": "o-cUhZMELKlP",
        "outputId": "1e115927-e695-4ec7-9951-98fa91ba26b3"
      },
      "execution_count": 12,
      "outputs": [
        {
          "output_type": "stream",
          "name": "stdout",
          "text": [
            "[1] \"GC content of sequence WHP7426-H2-iseq_1019418: 0.376584289201752\"\n"
          ]
        }
      ]
    },
    {
      "cell_type": "code",
      "source": [
        "print(paste0(\"GC content of sequence \", names(seqs_sample)[2], \": \", seqs_sample_nt_count_df$GC_content[2]))"
      ],
      "metadata": {
        "colab": {
          "base_uri": "https://localhost:8080/"
        },
        "id": "g9mfEU7RLIy_",
        "outputId": "f2974f6c-cf96-4573-c0a1-2b1567fb9f9e"
      },
      "execution_count": 13,
      "outputs": [
        {
          "output_type": "stream",
          "name": "stdout",
          "text": [
            "[1] \"GC content of sequence WHP3977_10906: 0.378256362237903\"\n"
          ]
        }
      ]
    },
    {
      "cell_type": "markdown",
      "source": [
        "## Extract the spike gene region (positions 21,563 to 25,384) for both sequences\n",
        "\n",
        "- Visit https://codon2nucleotide.theo.io for positions and annotations of the SARS-CoV-2 genome"
      ],
      "metadata": {
        "id": "B1xgAu_9Pk9H"
      }
    },
    {
      "cell_type": "code",
      "source": [
        "spike_gene <- subseq(seqs_sample, start=21563, end=25384)\n",
        "print(spike_gene)"
      ],
      "metadata": {
        "colab": {
          "base_uri": "https://localhost:8080/"
        },
        "id": "ynETR9dbLK8F",
        "outputId": "e2358587-3b76-4791-f1dc-373997f6711d"
      },
      "execution_count": 14,
      "outputs": [
        {
          "output_type": "stream",
          "name": "stdout",
          "text": [
            "DNAStringSet object of length 2:\n",
            "    width seq                                               names               \n",
            "[1]  3822 \u001b[47m\u001b[30mA\u001b[39m\u001b[49m\u001b[47m\u001b[30mT\u001b[39m\u001b[49m\u001b[47m\u001b[30mG\u001b[39m\u001b[49m\u001b[47m\u001b[30mT\u001b[39m\u001b[49m\u001b[47m\u001b[30mT\u001b[39m\u001b[49m\u001b[47m\u001b[30mT\u001b[39m\u001b[49m\u001b[47m\u001b[30mG\u001b[39m\u001b[49m\u001b[47m\u001b[30mT\u001b[39m\u001b[49m\u001b[47m\u001b[30mT\u001b[39m\u001b[49m\u001b[47m\u001b[30mT\u001b[39m\u001b[49m\u001b[47m\u001b[30mT\u001b[39m\u001b[49m\u001b[47m\u001b[30mT\u001b[39m\u001b[49m\u001b[47m\u001b[30mC\u001b[39m\u001b[49m\u001b[47m\u001b[30mT\u001b[39m\u001b[49m\u001b[47m\u001b[30mT\u001b[39m\u001b[49m\u001b[47m\u001b[30mG\u001b[39m\u001b[49m\u001b[47m\u001b[30mT\u001b[39m\u001b[49m\u001b[47m\u001b[30mT\u001b[39m\u001b[49m\u001b[47m\u001b[30mT\u001b[39m\u001b[49m\u001b[47m\u001b[30mT\u001b[39m\u001b[49m\u001b[47m\u001b[30mA\u001b[39m\u001b[49m\u001b[47m\u001b[30mT\u001b[39m\u001b[49m\u001b[47m\u001b[30mT\u001b[39m\u001b[49m...\u001b[47m\u001b[30mG\u001b[39m\u001b[49m\u001b[47m\u001b[30mA\u001b[39m\u001b[49m\u001b[47m\u001b[30mG\u001b[39m\u001b[49m\u001b[47m\u001b[30mT\u001b[39m\u001b[49m\u001b[47m\u001b[30mC\u001b[39m\u001b[49m\u001b[47m\u001b[30mA\u001b[39m\u001b[49m\u001b[47m\u001b[30mA\u001b[39m\u001b[49m\u001b[47m\u001b[30mA\u001b[39m\u001b[49m\u001b[47m\u001b[30mT\u001b[39m\u001b[49m\u001b[47m\u001b[30mT\u001b[39m\u001b[49m\u001b[47m\u001b[30mA\u001b[39m\u001b[49m\u001b[47m\u001b[30mC\u001b[39m\u001b[49m\u001b[47m\u001b[30mA\u001b[39m\u001b[49m\u001b[47m\u001b[30mT\u001b[39m\u001b[49m\u001b[47m\u001b[30mT\u001b[39m\u001b[49m\u001b[47m\u001b[30mA\u001b[39m\u001b[49m\u001b[47m\u001b[30mC\u001b[39m\u001b[49m\u001b[47m\u001b[30mA\u001b[39m\u001b[49m\u001b[47m\u001b[30mC\u001b[39m\u001b[49m\u001b[47m\u001b[30mA\u001b[39m\u001b[49m\u001b[47m\u001b[30mT\u001b[39m\u001b[49m\u001b[47m\u001b[30mA\u001b[39m\u001b[49m\u001b[47m\u001b[30mA\u001b[39m\u001b[49m WHP7426-H2-iseq_1...\n",
            "[2]  3822 \u001b[47m\u001b[30mA\u001b[39m\u001b[49m\u001b[47m\u001b[30mT\u001b[39m\u001b[49m\u001b[47m\u001b[30mG\u001b[39m\u001b[49m\u001b[47m\u001b[30mT\u001b[39m\u001b[49m\u001b[47m\u001b[30mT\u001b[39m\u001b[49m\u001b[47m\u001b[30mT\u001b[39m\u001b[49m\u001b[47m\u001b[30mG\u001b[39m\u001b[49m\u001b[47m\u001b[30mT\u001b[39m\u001b[49m\u001b[47m\u001b[30mT\u001b[39m\u001b[49m\u001b[47m\u001b[30mT\u001b[39m\u001b[49m\u001b[47m\u001b[30mT\u001b[39m\u001b[49m\u001b[47m\u001b[30mT\u001b[39m\u001b[49m\u001b[47m\u001b[30mC\u001b[39m\u001b[49m\u001b[47m\u001b[30mT\u001b[39m\u001b[49m\u001b[47m\u001b[30mT\u001b[39m\u001b[49m\u001b[47m\u001b[30mG\u001b[39m\u001b[49m\u001b[47m\u001b[30mT\u001b[39m\u001b[49m\u001b[47m\u001b[30mT\u001b[39m\u001b[49m\u001b[47m\u001b[30mT\u001b[39m\u001b[49m\u001b[47m\u001b[30mT\u001b[39m\u001b[49m\u001b[47m\u001b[30mA\u001b[39m\u001b[49m\u001b[47m\u001b[30mT\u001b[39m\u001b[49m\u001b[47m\u001b[30mT\u001b[39m\u001b[49m...\u001b[47m\u001b[30mG\u001b[39m\u001b[49m\u001b[47m\u001b[30mA\u001b[39m\u001b[49m\u001b[47m\u001b[30mG\u001b[39m\u001b[49m\u001b[47m\u001b[30mT\u001b[39m\u001b[49m\u001b[47m\u001b[30mC\u001b[39m\u001b[49m\u001b[47m\u001b[30mA\u001b[39m\u001b[49m\u001b[47m\u001b[30mA\u001b[39m\u001b[49m\u001b[47m\u001b[30mA\u001b[39m\u001b[49m\u001b[47m\u001b[30mT\u001b[39m\u001b[49m\u001b[47m\u001b[30mT\u001b[39m\u001b[49m\u001b[47m\u001b[30mA\u001b[39m\u001b[49m\u001b[47m\u001b[30mC\u001b[39m\u001b[49m\u001b[47m\u001b[30mA\u001b[39m\u001b[49m\u001b[47m\u001b[30mT\u001b[39m\u001b[49m\u001b[47m\u001b[30mT\u001b[39m\u001b[49m\u001b[47m\u001b[30mA\u001b[39m\u001b[49m\u001b[47m\u001b[30mC\u001b[39m\u001b[49m\u001b[47m\u001b[30mA\u001b[39m\u001b[49m\u001b[47m\u001b[30mC\u001b[39m\u001b[49m\u001b[47m\u001b[37mM\u001b[39m\u001b[49m\u001b[47m\u001b[30mT\u001b[39m\u001b[49m\u001b[47m\u001b[30mA\u001b[39m\u001b[49m\u001b[47m\u001b[30mA\u001b[39m\u001b[49m WHP3977_10906\n"
          ]
        }
      ]
    },
    {
      "cell_type": "markdown",
      "source": [
        "## Calculate the codon usage for one of the extracted sequences"
      ],
      "metadata": {
        "id": "toz0TXGLPy9N"
      }
    },
    {
      "cell_type": "code",
      "source": [
        "set.seed(20241107)\n",
        "spike_gene_selected <- spike_gene[sample(1:2, 1)]\n",
        "length(spike_gene_selected)\n",
        "width(spike_gene_selected)"
      ],
      "metadata": {
        "colab": {
          "base_uri": "https://localhost:8080/",
          "height": 52
        },
        "id": "NYAtfVtwLNy_",
        "outputId": "d38cfa6e-3e93-46ee-e871-8b3f7690406d"
      },
      "execution_count": 15,
      "outputs": [
        {
          "output_type": "display_data",
          "data": {
            "text/html": [
              "1"
            ],
            "text/markdown": "1",
            "text/latex": "1",
            "text/plain": [
              "[1] 1"
            ]
          },
          "metadata": {}
        },
        {
          "output_type": "display_data",
          "data": {
            "text/html": [
              "3822"
            ],
            "text/markdown": "3822",
            "text/latex": "3822",
            "text/plain": [
              "[1] 3822"
            ]
          },
          "metadata": {}
        }
      ]
    },
    {
      "cell_type": "markdown",
      "source": [
        "## Using a built-in function to calculate the codon usage"
      ],
      "metadata": {
        "id": "FV263-dkP9JQ"
      }
    },
    {
      "cell_type": "code",
      "source": [
        "codon_usage_auto <- trinucleotideFrequency(spike_gene_selected, step = 3)\n",
        "print(codon_usage_auto)"
      ],
      "metadata": {
        "colab": {
          "base_uri": "https://localhost:8080/"
        },
        "id": "HS7NVwybLebv",
        "outputId": "f94703c2-9c02-4105-9fa8-ca15f5dc23b5"
      },
      "execution_count": 16,
      "outputs": [
        {
          "output_type": "stream",
          "name": "stdout",
          "text": [
            "     AAA AAC AAG AAT ACA ACC ACG ACT AGA AGC AGG AGT ATA ATC ATG ATT CAA CAC\n",
            "[1,]  38  34  23  54  39  10   3  44  20   5  10  17  18  14  14  44  46   4\n",
            "     CAG CAT CCA CCC CCG CCT CGA CGC CGG CGT CTA CTC CTG CTT GAA GAC GAG GAT\n",
            "[1,]  16  13  25   4   0  29   0   1   2   9   9  12   3  36  34  18  14  43\n",
            "     GCA GCC GCG GCT GGA GGC GGG GGT GTA GTC GTG GTT TAA TAC TAG TAT TCA TCC\n",
            "[1,]  27   9   2  41  17  15   3  48  15  21  13  48   1  14   0  40  26  12\n",
            "     TCG TCT TGA TGC TGG TGT TTA TTC TTG TTT\n",
            "[1,]   2  37   0  12  12  28  28  18  20  59\n"
          ]
        }
      ]
    },
    {
      "cell_type": "markdown",
      "source": [
        "## Check the reverse complement of the spike gene"
      ],
      "metadata": {
        "id": "aSSMMgSvQ84b"
      }
    },
    {
      "cell_type": "code",
      "source": [
        "spike_gene_selected_revcomp <- reverseComplement(spike_gene_selected)\n",
        "print(spike_gene_selected_revcomp)"
      ],
      "metadata": {
        "colab": {
          "base_uri": "https://localhost:8080/"
        },
        "id": "Sd0UKl9ELglG",
        "outputId": "55385502-90a3-4d1e-d109-43e3b6319699"
      },
      "execution_count": 17,
      "outputs": [
        {
          "output_type": "stream",
          "name": "stdout",
          "text": [
            "DNAStringSet object of length 1:\n",
            "    width seq                                               names               \n",
            "[1]  3822 \u001b[47m\u001b[30mT\u001b[39m\u001b[49m\u001b[47m\u001b[30mT\u001b[39m\u001b[49m\u001b[47m\u001b[30mA\u001b[39m\u001b[49m\u001b[47m\u001b[37mK\u001b[39m\u001b[49m\u001b[47m\u001b[30mG\u001b[39m\u001b[49m\u001b[47m\u001b[30mT\u001b[39m\u001b[49m\u001b[47m\u001b[30mG\u001b[39m\u001b[49m\u001b[47m\u001b[30mT\u001b[39m\u001b[49m\u001b[47m\u001b[30mA\u001b[39m\u001b[49m\u001b[47m\u001b[30mA\u001b[39m\u001b[49m\u001b[47m\u001b[30mT\u001b[39m\u001b[49m\u001b[47m\u001b[30mG\u001b[39m\u001b[49m\u001b[47m\u001b[30mT\u001b[39m\u001b[49m\u001b[47m\u001b[30mA\u001b[39m\u001b[49m\u001b[47m\u001b[30mA\u001b[39m\u001b[49m\u001b[47m\u001b[30mT\u001b[39m\u001b[49m\u001b[47m\u001b[30mT\u001b[39m\u001b[49m\u001b[47m\u001b[30mT\u001b[39m\u001b[49m\u001b[47m\u001b[30mG\u001b[39m\u001b[49m\u001b[47m\u001b[30mA\u001b[39m\u001b[49m\u001b[47m\u001b[30mC\u001b[39m\u001b[49m\u001b[47m\u001b[30mT\u001b[39m\u001b[49m\u001b[47m\u001b[30mC\u001b[39m\u001b[49m...\u001b[47m\u001b[30mA\u001b[39m\u001b[49m\u001b[47m\u001b[30mA\u001b[39m\u001b[49m\u001b[47m\u001b[30mT\u001b[39m\u001b[49m\u001b[47m\u001b[30mA\u001b[39m\u001b[49m\u001b[47m\u001b[30mA\u001b[39m\u001b[49m\u001b[47m\u001b[30mA\u001b[39m\u001b[49m\u001b[47m\u001b[30mA\u001b[39m\u001b[49m\u001b[47m\u001b[30mC\u001b[39m\u001b[49m\u001b[47m\u001b[30mA\u001b[39m\u001b[49m\u001b[47m\u001b[30mA\u001b[39m\u001b[49m\u001b[47m\u001b[30mG\u001b[39m\u001b[49m\u001b[47m\u001b[30mA\u001b[39m\u001b[49m\u001b[47m\u001b[30mA\u001b[39m\u001b[49m\u001b[47m\u001b[30mA\u001b[39m\u001b[49m\u001b[47m\u001b[30mA\u001b[39m\u001b[49m\u001b[47m\u001b[30mA\u001b[39m\u001b[49m\u001b[47m\u001b[30mC\u001b[39m\u001b[49m\u001b[47m\u001b[30mA\u001b[39m\u001b[49m\u001b[47m\u001b[30mA\u001b[39m\u001b[49m\u001b[47m\u001b[30mA\u001b[39m\u001b[49m\u001b[47m\u001b[30mC\u001b[39m\u001b[49m\u001b[47m\u001b[30mA\u001b[39m\u001b[49m\u001b[47m\u001b[30mT\u001b[39m\u001b[49m WHP3977_10906\n"
          ]
        }
      ]
    },
    {
      "cell_type": "markdown",
      "source": [
        "## Translate the spike gene"
      ],
      "metadata": {
        "id": "2rbeCWU6Q_aj"
      }
    },
    {
      "cell_type": "code",
      "source": [
        "spike_gene_selected_aa <- translate(spike_gene_selected, if.fuzzy.codon=\"solve\")\n",
        "print(spike_gene_selected_aa)"
      ],
      "metadata": {
        "colab": {
          "base_uri": "https://localhost:8080/"
        },
        "id": "BGqNqo2kLiVm",
        "outputId": "2c47e8d6-7a9b-403d-9bab-f967c38afba7"
      },
      "execution_count": 18,
      "outputs": [
        {
          "output_type": "stream",
          "name": "stdout",
          "text": [
            "AAStringSet object of length 1:\n",
            "    width seq                                               names               \n",
            "[1]  1274 \u001b[47m\u001b[30mM\u001b[39m\u001b[49m\u001b[47m\u001b[30mF\u001b[39m\u001b[49m\u001b[47m\u001b[30mV\u001b[39m\u001b[49m\u001b[47m\u001b[30mF\u001b[39m\u001b[49m\u001b[47m\u001b[30mL\u001b[39m\u001b[49m\u001b[47m\u001b[30mV\u001b[39m\u001b[49m\u001b[47m\u001b[30mL\u001b[39m\u001b[49m\u001b[47m\u001b[30mL\u001b[39m\u001b[49m\u001b[47m\u001b[30mP\u001b[39m\u001b[49m\u001b[47m\u001b[30mL\u001b[39m\u001b[49m\u001b[47m\u001b[30mV\u001b[39m\u001b[49m\u001b[47m\u001b[30mS\u001b[39m\u001b[49m\u001b[47m\u001b[30mS\u001b[39m\u001b[49m\u001b[47m\u001b[30mQ\u001b[39m\u001b[49m\u001b[47m\u001b[30mC\u001b[39m\u001b[49m\u001b[47m\u001b[30mV\u001b[39m\u001b[49m\u001b[47m\u001b[30mN\u001b[39m\u001b[49m\u001b[47m\u001b[30mL\u001b[39m\u001b[49m\u001b[47m\u001b[30mT\u001b[39m\u001b[49m\u001b[47m\u001b[30mT\u001b[39m\u001b[49m\u001b[47m\u001b[30mR\u001b[39m\u001b[49m\u001b[47m\u001b[30mT\u001b[39m\u001b[49m\u001b[47m\u001b[30mQ\u001b[39m\u001b[49m...\u001b[47m\u001b[30mS\u001b[39m\u001b[49m\u001b[47m\u001b[30mC\u001b[39m\u001b[49m\u001b[47m\u001b[30mC\u001b[39m\u001b[49m\u001b[47m\u001b[30mK\u001b[39m\u001b[49m\u001b[47m\u001b[30mF\u001b[39m\u001b[49m\u001b[47m\u001b[30mD\u001b[39m\u001b[49m\u001b[47m\u001b[30mE\u001b[39m\u001b[49m\u001b[47m\u001b[30mD\u001b[39m\u001b[49m\u001b[47m\u001b[30mD\u001b[39m\u001b[49m\u001b[47m\u001b[30mS\u001b[39m\u001b[49m\u001b[47m\u001b[30mE\u001b[39m\u001b[49m\u001b[47m\u001b[30mP\u001b[39m\u001b[49m\u001b[47m\u001b[30mV\u001b[39m\u001b[49m\u001b[47m\u001b[30mL\u001b[39m\u001b[49m\u001b[47m\u001b[30mK\u001b[39m\u001b[49m\u001b[47m\u001b[30mG\u001b[39m\u001b[49m\u001b[47m\u001b[30mV\u001b[39m\u001b[49m\u001b[47m\u001b[30mK\u001b[39m\u001b[49m\u001b[47m\u001b[30mL\u001b[39m\u001b[49m\u001b[47m\u001b[30mH\u001b[39m\u001b[49m\u001b[47m\u001b[30mY\u001b[39m\u001b[49m\u001b[47m\u001b[30mT\u001b[39m\u001b[49m* WHP3977_10906\n"
          ]
        }
      ]
    },
    {
      "cell_type": "markdown",
      "source": [
        "## Write the spike gene to a fasta file"
      ],
      "metadata": {
        "id": "4MCQrTe0RE0N"
      }
    },
    {
      "cell_type": "code",
      "source": [
        "writeXStringSet(spike_gene_selected, \"/content/spike_gene_nt.fasta\")\n",
        "writeXStringSet(spike_gene_selected_aa, \"/content/spike_gene_aa.fasta\")"
      ],
      "metadata": {
        "id": "mdJc8UIyLj51"
      },
      "execution_count": 19,
      "outputs": []
    },
    {
      "cell_type": "code",
      "source": [],
      "metadata": {
        "id": "g3n2Dy0YLl4L"
      },
      "execution_count": null,
      "outputs": []
    }
  ]
}
