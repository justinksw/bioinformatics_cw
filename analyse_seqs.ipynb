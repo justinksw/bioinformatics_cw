{
  "nbformat": 4,
  "nbformat_minor": 0,
  "metadata": {
    "colab": {
      "provenance": [],
      "authorship_tag": "ABX9TyMbtOOyNyvoMQn+4K5GseOe",
      "include_colab_link": true
    },
    "kernelspec": {
      "name": "ir",
      "display_name": "R"
    },
    "language_info": {
      "name": "R"
    }
  },
  "cells": [
    {
      "cell_type": "markdown",
      "metadata": {
        "id": "view-in-github",
        "colab_type": "text"
      },
      "source": [
        "<a href=\"https://colab.research.google.com/github/justinksw/bioinformatics_cw/blob/main/analyse_seqs.ipynb\" target=\"_parent\"><img src=\"https://colab.research.google.com/assets/colab-badge.svg\" alt=\"Open In Colab\"/></a>"
      ]
    },
    {
      "cell_type": "markdown",
      "source": [
        "## Task 2. 1-2"
      ],
      "metadata": {
        "id": "ZOv1DB2BwjWd"
      }
    },
    {
      "cell_type": "code",
      "execution_count": 1,
      "metadata": {
        "id": "u-onhfiQFOgu",
        "colab": {
          "base_uri": "https://localhost:8080/"
        },
        "outputId": "2a447134-80be-4075-88aa-f5621b717974",
        "collapsed": true
      },
      "outputs": [
        {
          "output_type": "stream",
          "name": "stderr",
          "text": [
            "'getOption(\"repos\")' replaces Bioconductor standard repositories, see\n",
            "'help(\"repositories\", package = \"BiocManager\")' for details.\n",
            "Replacement repositories:\n",
            "    CRAN: https://cran.rstudio.com\n",
            "\n",
            "Bioconductor version 3.20 (BiocManager 1.30.25), R 4.4.2 (2024-10-31)\n",
            "\n",
            "Warning message:\n",
            "“package(s) not installed when version(s) same as or greater than current; use\n",
            "  `force = TRUE` to re-install: 'Biostrings'”\n",
            "Old packages: 'cluster', 'data.table', 'lubridate', 'testthat', 'textshaping'\n",
            "\n"
          ]
        }
      ],
      "source": [
        "# Install BiocManager Biostrings\n",
        "if (!require(\"BiocManager\", quietly = TRUE))\n",
        "    install.packages(\"BiocManager\")\n",
        "BiocManager::install(\"Biostrings\")"
      ]
    },
    {
      "cell_type": "code",
      "source": [
        "# Include the library\n",
        "library(Biostrings)"
      ],
      "metadata": {
        "id": "u7r6ol-4GDgn",
        "colab": {
          "base_uri": "https://localhost:8080/"
        },
        "outputId": "5b393017-000d-45d6-bf31-74333c570f4b",
        "collapsed": true
      },
      "execution_count": 2,
      "outputs": [
        {
          "output_type": "stream",
          "name": "stderr",
          "text": [
            "Loading required package: BiocGenerics\n",
            "\n",
            "\n",
            "Attaching package: ‘BiocGenerics’\n",
            "\n",
            "\n",
            "The following objects are masked from ‘package:stats’:\n",
            "\n",
            "    IQR, mad, sd, var, xtabs\n",
            "\n",
            "\n",
            "The following objects are masked from ‘package:base’:\n",
            "\n",
            "    anyDuplicated, aperm, append, as.data.frame, basename, cbind,\n",
            "    colnames, dirname, do.call, duplicated, eval, evalq, Filter, Find,\n",
            "    get, grep, grepl, intersect, is.unsorted, lapply, Map, mapply,\n",
            "    match, mget, order, paste, pmax, pmax.int, pmin, pmin.int,\n",
            "    Position, rank, rbind, Reduce, rownames, sapply, saveRDS, setdiff,\n",
            "    table, tapply, union, unique, unsplit, which.max, which.min\n",
            "\n",
            "\n",
            "Loading required package: S4Vectors\n",
            "\n",
            "Loading required package: stats4\n",
            "\n",
            "\n",
            "Attaching package: ‘S4Vectors’\n",
            "\n",
            "\n",
            "The following object is masked from ‘package:utils’:\n",
            "\n",
            "    findMatches\n",
            "\n",
            "\n",
            "The following objects are masked from ‘package:base’:\n",
            "\n",
            "    expand.grid, I, unname\n",
            "\n",
            "\n",
            "Loading required package: IRanges\n",
            "\n",
            "Loading required package: XVector\n",
            "\n",
            "Loading required package: GenomeInfoDb\n",
            "\n",
            "\n",
            "Attaching package: ‘Biostrings’\n",
            "\n",
            "\n",
            "The following object is masked from ‘package:base’:\n",
            "\n",
            "    strsplit\n",
            "\n",
            "\n"
          ]
        }
      ]
    },
    {
      "cell_type": "code",
      "source": [
        "# Upload the file to Colab (online runtime)\n",
        "# Note: the uploaded files will be deleted when the runtime is finished\n",
        "\n",
        "# Read the fasta file containing the selected sequences\n",
        "seqs <- readDNAStringSet(\"/content/selected_seqs.fasta\")"
      ],
      "metadata": {
        "id": "Phyw1SLeJG-J"
      },
      "execution_count": 3,
      "outputs": []
    },
    {
      "cell_type": "code",
      "source": [
        "# Calculate the frequency of A, C, T, and G in each sequence\n",
        "seqs_atcg_count <- letterFrequency(seqs, letters=c(\"A\", \"C\", \"T\", \"G\"))"
      ],
      "metadata": {
        "id": "RJHV9iK_JZR-",
        "collapsed": true
      },
      "execution_count": 4,
      "outputs": []
    },
    {
      "cell_type": "code",
      "source": [
        "# Calculate the coverage of A, C, T, and G in each sequence\n",
        "seqs_atcg_coverage <- rowSums(seqs_atcg_count) / width(seqs)"
      ],
      "metadata": {
        "id": "dXw6GHsAKRri"
      },
      "execution_count": 5,
      "outputs": []
    },
    {
      "cell_type": "code",
      "source": [
        "# Filter out the sequences with coverage of A, C, T, and G < 85%\n",
        "seqs_filtered <- seqs[seqs_atcg_coverage >= 0.85]\n",
        "seqs_filtered"
      ],
      "metadata": {
        "colab": {
          "base_uri": "https://localhost:8080/",
          "height": 243
        },
        "id": "vowvQ0aSKuA4",
        "outputId": "528ace08-f5b4-4066-ddfb-3235d4c4b58c",
        "collapsed": true
      },
      "execution_count": 6,
      "outputs": [
        {
          "output_type": "display_data",
          "data": {
            "text/plain": [
              "DNAStringSet object of length 17:\n",
              "     width seq                                              names               \n",
              " [1] 29903 \u001b[47m\u001b[37mN\u001b[39m\u001b[49m\u001b[47m\u001b[37mN\u001b[39m\u001b[49m\u001b[47m\u001b[37mN\u001b[39m\u001b[49m\u001b[47m\u001b[37mN\u001b[39m\u001b[49m\u001b[47m\u001b[30mA\u001b[39m\u001b[49m\u001b[47m\u001b[30mA\u001b[39m\u001b[49m\u001b[47m\u001b[30mG\u001b[39m\u001b[49m\u001b[47m\u001b[30mG\u001b[39m\u001b[49m\u001b[47m\u001b[30mT\u001b[39m\u001b[49m\u001b[47m\u001b[30mT\u001b[39m\u001b[49m\u001b[47m\u001b[30mT\u001b[39m\u001b[49m\u001b[47m\u001b[30mA\u001b[39m\u001b[49m\u001b[47m\u001b[30mT\u001b[39m\u001b[49m\u001b[47m\u001b[30mA\u001b[39m\u001b[49m\u001b[47m\u001b[30mC\u001b[39m\u001b[49m\u001b[47m\u001b[30mC\u001b[39m\u001b[49m\u001b[47m\u001b[30mT\u001b[39m\u001b[49m\u001b[47m\u001b[30mT\u001b[39m\u001b[49m\u001b[47m\u001b[30mC\u001b[39m\u001b[49m\u001b[47m\u001b[30mC\u001b[39m\u001b[49m\u001b[47m\u001b[30mC\u001b[39m\u001b[49m\u001b[47m\u001b[30mA\u001b[39m\u001b[49m\u001b[47m\u001b[30mG\u001b[39m\u001b[49m...\u001b[47m\u001b[30mA\u001b[39m\u001b[49m\u001b[47m\u001b[30mA\u001b[39m\u001b[49m\u001b[47m\u001b[30mA\u001b[39m\u001b[49m\u001b[47m\u001b[30mA\u001b[39m\u001b[49m\u001b[47m\u001b[30mA\u001b[39m\u001b[49m\u001b[47m\u001b[30mA\u001b[39m\u001b[49m\u001b[47m\u001b[30mA\u001b[39m\u001b[49m\u001b[47m\u001b[30mA\u001b[39m\u001b[49m\u001b[47m\u001b[30mA\u001b[39m\u001b[49m\u001b[47m\u001b[30mA\u001b[39m\u001b[49m\u001b[47m\u001b[30mA\u001b[39m\u001b[49m\u001b[47m\u001b[30mA\u001b[39m\u001b[49m\u001b[47m\u001b[30mA\u001b[39m\u001b[49m\u001b[47m\u001b[30mA\u001b[39m\u001b[49m\u001b[47m\u001b[30mA\u001b[39m\u001b[49m\u001b[47m\u001b[30mA\u001b[39m\u001b[49m\u001b[47m\u001b[30mA\u001b[39m\u001b[49m\u001b[47m\u001b[30mA\u001b[39m\u001b[49m\u001b[47m\u001b[30mA\u001b[39m\u001b[49m\u001b[47m\u001b[30mA\u001b[39m\u001b[49m\u001b[47m\u001b[30mA\u001b[39m\u001b[49m\u001b[47m\u001b[30mA\u001b[39m\u001b[49m WHP10644-AV41_RC8...\n",
              " [2] 29903 \u001b[47m\u001b[37mN\u001b[39m\u001b[49m\u001b[47m\u001b[37mN\u001b[39m\u001b[49m\u001b[47m\u001b[37mN\u001b[39m\u001b[49m\u001b[47m\u001b[37mN\u001b[39m\u001b[49m\u001b[47m\u001b[37mN\u001b[39m\u001b[49m\u001b[47m\u001b[37mN\u001b[39m\u001b[49m\u001b[47m\u001b[37mN\u001b[39m\u001b[49m\u001b[47m\u001b[30mG\u001b[39m\u001b[49m\u001b[47m\u001b[30mT\u001b[39m\u001b[49m\u001b[47m\u001b[30mT\u001b[39m\u001b[49m\u001b[47m\u001b[30mT\u001b[39m\u001b[49m\u001b[47m\u001b[30mA\u001b[39m\u001b[49m\u001b[47m\u001b[30mT\u001b[39m\u001b[49m\u001b[47m\u001b[30mA\u001b[39m\u001b[49m\u001b[47m\u001b[30mC\u001b[39m\u001b[49m\u001b[47m\u001b[30mC\u001b[39m\u001b[49m\u001b[47m\u001b[30mT\u001b[39m\u001b[49m\u001b[47m\u001b[30mT\u001b[39m\u001b[49m\u001b[47m\u001b[30mC\u001b[39m\u001b[49m\u001b[47m\u001b[30mC\u001b[39m\u001b[49m\u001b[47m\u001b[30mC\u001b[39m\u001b[49m\u001b[47m\u001b[30mA\u001b[39m\u001b[49m\u001b[47m\u001b[30mG\u001b[39m\u001b[49m...\u001b[47m\u001b[37mN\u001b[39m\u001b[49m\u001b[47m\u001b[37mN\u001b[39m\u001b[49m\u001b[47m\u001b[37mN\u001b[39m\u001b[49m\u001b[47m\u001b[37mN\u001b[39m\u001b[49m\u001b[47m\u001b[37mN\u001b[39m\u001b[49m\u001b[47m\u001b[37mN\u001b[39m\u001b[49m\u001b[47m\u001b[37mN\u001b[39m\u001b[49m\u001b[47m\u001b[37mN\u001b[39m\u001b[49m\u001b[47m\u001b[37mN\u001b[39m\u001b[49m\u001b[47m\u001b[37mN\u001b[39m\u001b[49m\u001b[47m\u001b[37mN\u001b[39m\u001b[49m\u001b[47m\u001b[37mN\u001b[39m\u001b[49m\u001b[47m\u001b[37mN\u001b[39m\u001b[49m\u001b[47m\u001b[37mN\u001b[39m\u001b[49m\u001b[47m\u001b[37mN\u001b[39m\u001b[49m\u001b[47m\u001b[37mN\u001b[39m\u001b[49m\u001b[47m\u001b[37mN\u001b[39m\u001b[49m\u001b[47m\u001b[37mN\u001b[39m\u001b[49m\u001b[47m\u001b[37mN\u001b[39m\u001b[49m\u001b[47m\u001b[37mN\u001b[39m\u001b[49m\u001b[47m\u001b[37mN\u001b[39m\u001b[49m\u001b[47m\u001b[37mN\u001b[39m\u001b[49m WHP7426-H2-iseq_1...\n",
              " [3] 29903 \u001b[47m\u001b[37mN\u001b[39m\u001b[49m\u001b[47m\u001b[37mN\u001b[39m\u001b[49m\u001b[47m\u001b[37mN\u001b[39m\u001b[49m\u001b[47m\u001b[37mN\u001b[39m\u001b[49m\u001b[47m\u001b[37mN\u001b[39m\u001b[49m\u001b[47m\u001b[37mN\u001b[39m\u001b[49m\u001b[47m\u001b[37mN\u001b[39m\u001b[49m\u001b[47m\u001b[37mN\u001b[39m\u001b[49m\u001b[47m\u001b[37mN\u001b[39m\u001b[49m\u001b[47m\u001b[37mN\u001b[39m\u001b[49m\u001b[47m\u001b[37mN\u001b[39m\u001b[49m\u001b[47m\u001b[37mN\u001b[39m\u001b[49m\u001b[47m\u001b[37mN\u001b[39m\u001b[49m\u001b[47m\u001b[37mN\u001b[39m\u001b[49m\u001b[47m\u001b[37mN\u001b[39m\u001b[49m\u001b[47m\u001b[37mN\u001b[39m\u001b[49m\u001b[47m\u001b[37mN\u001b[39m\u001b[49m\u001b[47m\u001b[37mN\u001b[39m\u001b[49m\u001b[47m\u001b[37mN\u001b[39m\u001b[49m\u001b[47m\u001b[37mN\u001b[39m\u001b[49m\u001b[47m\u001b[37mN\u001b[39m\u001b[49m\u001b[47m\u001b[37mN\u001b[39m\u001b[49m\u001b[47m\u001b[37mN\u001b[39m\u001b[49m...\u001b[47m\u001b[30mA\u001b[39m\u001b[49m\u001b[47m\u001b[30mA\u001b[39m\u001b[49m\u001b[47m\u001b[30mA\u001b[39m\u001b[49m\u001b[47m\u001b[30mA\u001b[39m\u001b[49m\u001b[47m\u001b[30mA\u001b[39m\u001b[49m\u001b[47m\u001b[30mA\u001b[39m\u001b[49m\u001b[47m\u001b[30mA\u001b[39m\u001b[49m\u001b[47m\u001b[30mA\u001b[39m\u001b[49m\u001b[47m\u001b[30mA\u001b[39m\u001b[49m\u001b[47m\u001b[30mA\u001b[39m\u001b[49m\u001b[47m\u001b[30mA\u001b[39m\u001b[49m\u001b[47m\u001b[30mA\u001b[39m\u001b[49m\u001b[47m\u001b[30mA\u001b[39m\u001b[49m\u001b[47m\u001b[30mA\u001b[39m\u001b[49m\u001b[47m\u001b[30mA\u001b[39m\u001b[49m\u001b[47m\u001b[30mA\u001b[39m\u001b[49m\u001b[47m\u001b[30mA\u001b[39m\u001b[49m\u001b[47m\u001b[30mA\u001b[39m\u001b[49m\u001b[47m\u001b[30mA\u001b[39m\u001b[49m\u001b[47m\u001b[30mA\u001b[39m\u001b[49m\u001b[47m\u001b[30mA\u001b[39m\u001b[49m\u001b[47m\u001b[30mA\u001b[39m\u001b[49m WHP3916_10681\n",
              " [4] 29903 \u001b[47m\u001b[37mN\u001b[39m\u001b[49m\u001b[47m\u001b[37mN\u001b[39m\u001b[49m\u001b[47m\u001b[37mN\u001b[39m\u001b[49m\u001b[47m\u001b[37mN\u001b[39m\u001b[49m\u001b[47m\u001b[30mA\u001b[39m\u001b[49m\u001b[47m\u001b[30mA\u001b[39m\u001b[49m\u001b[47m\u001b[30mG\u001b[39m\u001b[49m\u001b[47m\u001b[30mG\u001b[39m\u001b[49m\u001b[47m\u001b[30mT\u001b[39m\u001b[49m\u001b[47m\u001b[30mT\u001b[39m\u001b[49m\u001b[47m\u001b[30mT\u001b[39m\u001b[49m\u001b[47m\u001b[30mA\u001b[39m\u001b[49m\u001b[47m\u001b[30mT\u001b[39m\u001b[49m\u001b[47m\u001b[30mA\u001b[39m\u001b[49m\u001b[47m\u001b[30mC\u001b[39m\u001b[49m\u001b[47m\u001b[30mC\u001b[39m\u001b[49m\u001b[47m\u001b[30mT\u001b[39m\u001b[49m\u001b[47m\u001b[30mT\u001b[39m\u001b[49m\u001b[47m\u001b[30mC\u001b[39m\u001b[49m\u001b[47m\u001b[30mC\u001b[39m\u001b[49m\u001b[47m\u001b[30mC\u001b[39m\u001b[49m\u001b[47m\u001b[30mA\u001b[39m\u001b[49m\u001b[47m\u001b[30mG\u001b[39m\u001b[49m...\u001b[47m\u001b[30mA\u001b[39m\u001b[49m\u001b[47m\u001b[30mA\u001b[39m\u001b[49m\u001b[47m\u001b[30mA\u001b[39m\u001b[49m\u001b[47m\u001b[30mA\u001b[39m\u001b[49m\u001b[47m\u001b[30mA\u001b[39m\u001b[49m\u001b[47m\u001b[30mA\u001b[39m\u001b[49m\u001b[47m\u001b[30mA\u001b[39m\u001b[49m\u001b[47m\u001b[30mA\u001b[39m\u001b[49m\u001b[47m\u001b[30mA\u001b[39m\u001b[49m\u001b[47m\u001b[30mA\u001b[39m\u001b[49m\u001b[47m\u001b[30mA\u001b[39m\u001b[49m\u001b[47m\u001b[30mA\u001b[39m\u001b[49m\u001b[47m\u001b[30mA\u001b[39m\u001b[49m\u001b[47m\u001b[30mA\u001b[39m\u001b[49m\u001b[47m\u001b[30mA\u001b[39m\u001b[49m\u001b[47m\u001b[30mA\u001b[39m\u001b[49m\u001b[47m\u001b[30mA\u001b[39m\u001b[49m\u001b[47m\u001b[30mA\u001b[39m\u001b[49m\u001b[47m\u001b[30mA\u001b[39m\u001b[49m\u001b[47m\u001b[30mA\u001b[39m\u001b[49m\u001b[47m\u001b[30mA\u001b[39m\u001b[49m\u001b[47m\u001b[30mA\u001b[39m\u001b[49m WHP1939_3582\n",
              " [5] 29903 \u001b[47m\u001b[37mN\u001b[39m\u001b[49m\u001b[47m\u001b[37mN\u001b[39m\u001b[49m\u001b[47m\u001b[37mN\u001b[39m\u001b[49m\u001b[47m\u001b[37mN\u001b[39m\u001b[49m\u001b[47m\u001b[37mN\u001b[39m\u001b[49m\u001b[47m\u001b[37mN\u001b[39m\u001b[49m\u001b[47m\u001b[37mN\u001b[39m\u001b[49m\u001b[47m\u001b[37mN\u001b[39m\u001b[49m\u001b[47m\u001b[37mN\u001b[39m\u001b[49m\u001b[47m\u001b[37mN\u001b[39m\u001b[49m\u001b[47m\u001b[37mN\u001b[39m\u001b[49m\u001b[47m\u001b[37mN\u001b[39m\u001b[49m\u001b[47m\u001b[37mN\u001b[39m\u001b[49m\u001b[47m\u001b[37mN\u001b[39m\u001b[49m\u001b[47m\u001b[37mN\u001b[39m\u001b[49m\u001b[47m\u001b[37mN\u001b[39m\u001b[49m\u001b[47m\u001b[37mN\u001b[39m\u001b[49m\u001b[47m\u001b[37mN\u001b[39m\u001b[49m\u001b[47m\u001b[37mN\u001b[39m\u001b[49m\u001b[47m\u001b[37mN\u001b[39m\u001b[49m\u001b[47m\u001b[37mN\u001b[39m\u001b[49m\u001b[47m\u001b[37mN\u001b[39m\u001b[49m\u001b[47m\u001b[37mN\u001b[39m\u001b[49m...\u001b[47m\u001b[30mA\u001b[39m\u001b[49m\u001b[47m\u001b[30mA\u001b[39m\u001b[49m\u001b[47m\u001b[30mA\u001b[39m\u001b[49m\u001b[47m\u001b[30mA\u001b[39m\u001b[49m\u001b[47m\u001b[30mA\u001b[39m\u001b[49m\u001b[47m\u001b[30mA\u001b[39m\u001b[49m\u001b[47m\u001b[30mA\u001b[39m\u001b[49m\u001b[47m\u001b[30mA\u001b[39m\u001b[49m\u001b[47m\u001b[30mA\u001b[39m\u001b[49m\u001b[47m\u001b[30mA\u001b[39m\u001b[49m\u001b[47m\u001b[30mA\u001b[39m\u001b[49m\u001b[47m\u001b[30mA\u001b[39m\u001b[49m\u001b[47m\u001b[30mA\u001b[39m\u001b[49m\u001b[47m\u001b[30mA\u001b[39m\u001b[49m\u001b[47m\u001b[30mA\u001b[39m\u001b[49m\u001b[47m\u001b[30mA\u001b[39m\u001b[49m\u001b[47m\u001b[30mA\u001b[39m\u001b[49m\u001b[47m\u001b[30mA\u001b[39m\u001b[49m\u001b[47m\u001b[30mA\u001b[39m\u001b[49m\u001b[47m\u001b[30mA\u001b[39m\u001b[49m\u001b[47m\u001b[30mA\u001b[39m\u001b[49m\u001b[47m\u001b[30mA\u001b[39m\u001b[49m WHP3977_10906\n",
              " ...   ... ...\n",
              "[13] 29903 \u001b[47m\u001b[37mN\u001b[39m\u001b[49m\u001b[47m\u001b[37mN\u001b[39m\u001b[49m\u001b[47m\u001b[37mN\u001b[39m\u001b[49m\u001b[47m\u001b[37mN\u001b[39m\u001b[49m\u001b[47m\u001b[37mN\u001b[39m\u001b[49m\u001b[47m\u001b[37mN\u001b[39m\u001b[49m\u001b[47m\u001b[37mN\u001b[39m\u001b[49m\u001b[47m\u001b[30mG\u001b[39m\u001b[49m\u001b[47m\u001b[30mT\u001b[39m\u001b[49m\u001b[47m\u001b[30mT\u001b[39m\u001b[49m\u001b[47m\u001b[30mT\u001b[39m\u001b[49m\u001b[47m\u001b[30mA\u001b[39m\u001b[49m\u001b[47m\u001b[30mT\u001b[39m\u001b[49m\u001b[47m\u001b[30mA\u001b[39m\u001b[49m\u001b[47m\u001b[30mC\u001b[39m\u001b[49m\u001b[47m\u001b[30mC\u001b[39m\u001b[49m\u001b[47m\u001b[30mT\u001b[39m\u001b[49m\u001b[47m\u001b[30mT\u001b[39m\u001b[49m\u001b[47m\u001b[30mC\u001b[39m\u001b[49m\u001b[47m\u001b[30mC\u001b[39m\u001b[49m\u001b[47m\u001b[30mC\u001b[39m\u001b[49m\u001b[47m\u001b[30mA\u001b[39m\u001b[49m\u001b[47m\u001b[30mG\u001b[39m\u001b[49m...\u001b[47m\u001b[30mA\u001b[39m\u001b[49m\u001b[47m\u001b[30mA\u001b[39m\u001b[49m\u001b[47m\u001b[30mA\u001b[39m\u001b[49m\u001b[47m\u001b[30mA\u001b[39m\u001b[49m\u001b[47m\u001b[30mA\u001b[39m\u001b[49m\u001b[47m\u001b[30mA\u001b[39m\u001b[49m\u001b[47m\u001b[30mA\u001b[39m\u001b[49m\u001b[47m\u001b[30mA\u001b[39m\u001b[49m\u001b[47m\u001b[30mA\u001b[39m\u001b[49m\u001b[47m\u001b[30mA\u001b[39m\u001b[49m\u001b[47m\u001b[30mA\u001b[39m\u001b[49m\u001b[47m\u001b[30mA\u001b[39m\u001b[49m\u001b[47m\u001b[30mA\u001b[39m\u001b[49m\u001b[47m\u001b[30mA\u001b[39m\u001b[49m\u001b[47m\u001b[30mA\u001b[39m\u001b[49m\u001b[47m\u001b[30mA\u001b[39m\u001b[49m\u001b[47m\u001b[30mA\u001b[39m\u001b[49m\u001b[47m\u001b[30mA\u001b[39m\u001b[49m\u001b[47m\u001b[30mA\u001b[39m\u001b[49m\u001b[47m\u001b[30mA\u001b[39m\u001b[49m\u001b[47m\u001b[30mA\u001b[39m\u001b[49m\u001b[47m\u001b[30mA\u001b[39m\u001b[49m VOC1980-H2-iseq_NA\n",
              "[14] 29903 \u001b[47m\u001b[37mN\u001b[39m\u001b[49m\u001b[47m\u001b[37mN\u001b[39m\u001b[49m\u001b[47m\u001b[37mN\u001b[39m\u001b[49m\u001b[47m\u001b[37mN\u001b[39m\u001b[49m\u001b[47m\u001b[30mA\u001b[39m\u001b[49m\u001b[47m\u001b[30mA\u001b[39m\u001b[49m\u001b[47m\u001b[30mG\u001b[39m\u001b[49m\u001b[47m\u001b[30mG\u001b[39m\u001b[49m\u001b[47m\u001b[30mT\u001b[39m\u001b[49m\u001b[47m\u001b[30mT\u001b[39m\u001b[49m\u001b[47m\u001b[30mT\u001b[39m\u001b[49m\u001b[47m\u001b[30mA\u001b[39m\u001b[49m\u001b[47m\u001b[30mT\u001b[39m\u001b[49m\u001b[47m\u001b[30mA\u001b[39m\u001b[49m\u001b[47m\u001b[30mC\u001b[39m\u001b[49m\u001b[47m\u001b[30mC\u001b[39m\u001b[49m\u001b[47m\u001b[30mT\u001b[39m\u001b[49m\u001b[47m\u001b[30mT\u001b[39m\u001b[49m\u001b[47m\u001b[30mC\u001b[39m\u001b[49m\u001b[47m\u001b[30mC\u001b[39m\u001b[49m\u001b[47m\u001b[30mC\u001b[39m\u001b[49m\u001b[47m\u001b[30mA\u001b[39m\u001b[49m\u001b[47m\u001b[30mG\u001b[39m\u001b[49m...\u001b[47m\u001b[30mA\u001b[39m\u001b[49m\u001b[47m\u001b[30mA\u001b[39m\u001b[49m\u001b[47m\u001b[30mA\u001b[39m\u001b[49m\u001b[47m\u001b[30mA\u001b[39m\u001b[49m\u001b[47m\u001b[30mA\u001b[39m\u001b[49m\u001b[47m\u001b[30mA\u001b[39m\u001b[49m\u001b[47m\u001b[30mA\u001b[39m\u001b[49m\u001b[47m\u001b[30mA\u001b[39m\u001b[49m\u001b[47m\u001b[30mA\u001b[39m\u001b[49m\u001b[47m\u001b[30mA\u001b[39m\u001b[49m\u001b[47m\u001b[30mA\u001b[39m\u001b[49m\u001b[47m\u001b[30mA\u001b[39m\u001b[49m\u001b[47m\u001b[30mA\u001b[39m\u001b[49m\u001b[47m\u001b[30mA\u001b[39m\u001b[49m\u001b[47m\u001b[30mA\u001b[39m\u001b[49m\u001b[47m\u001b[30mA\u001b[39m\u001b[49m\u001b[47m\u001b[30mA\u001b[39m\u001b[49m\u001b[47m\u001b[30mA\u001b[39m\u001b[49m\u001b[47m\u001b[30mA\u001b[39m\u001b[49m\u001b[47m\u001b[30mA\u001b[39m\u001b[49m\u001b[47m\u001b[30mA\u001b[39m\u001b[49m\u001b[47m\u001b[30mA\u001b[39m\u001b[49m WHP7692-A4v1_1024583\n",
              "[15] 29903 \u001b[47m\u001b[37mN\u001b[39m\u001b[49m\u001b[47m\u001b[37mN\u001b[39m\u001b[49m\u001b[47m\u001b[37mN\u001b[39m\u001b[49m\u001b[47m\u001b[37mN\u001b[39m\u001b[49m\u001b[47m\u001b[37mN\u001b[39m\u001b[49m\u001b[47m\u001b[30mA\u001b[39m\u001b[49m\u001b[47m\u001b[30mG\u001b[39m\u001b[49m\u001b[47m\u001b[30mG\u001b[39m\u001b[49m\u001b[47m\u001b[30mT\u001b[39m\u001b[49m\u001b[47m\u001b[30mT\u001b[39m\u001b[49m\u001b[47m\u001b[30mT\u001b[39m\u001b[49m\u001b[47m\u001b[30mA\u001b[39m\u001b[49m\u001b[47m\u001b[30mT\u001b[39m\u001b[49m\u001b[47m\u001b[30mA\u001b[39m\u001b[49m\u001b[47m\u001b[30mC\u001b[39m\u001b[49m\u001b[47m\u001b[30mC\u001b[39m\u001b[49m\u001b[47m\u001b[30mT\u001b[39m\u001b[49m\u001b[47m\u001b[30mT\u001b[39m\u001b[49m\u001b[47m\u001b[30mC\u001b[39m\u001b[49m\u001b[47m\u001b[30mC\u001b[39m\u001b[49m\u001b[47m\u001b[30mC\u001b[39m\u001b[49m\u001b[47m\u001b[30mA\u001b[39m\u001b[49m\u001b[47m\u001b[30mG\u001b[39m\u001b[49m...\u001b[47m\u001b[30mA\u001b[39m\u001b[49m\u001b[47m\u001b[30mA\u001b[39m\u001b[49m\u001b[47m\u001b[30mA\u001b[39m\u001b[49m\u001b[47m\u001b[30mA\u001b[39m\u001b[49m\u001b[47m\u001b[30mA\u001b[39m\u001b[49m\u001b[47m\u001b[30mA\u001b[39m\u001b[49m\u001b[47m\u001b[30mA\u001b[39m\u001b[49m\u001b[47m\u001b[30mA\u001b[39m\u001b[49m\u001b[47m\u001b[30mA\u001b[39m\u001b[49m\u001b[47m\u001b[30mA\u001b[39m\u001b[49m\u001b[47m\u001b[30mA\u001b[39m\u001b[49m\u001b[47m\u001b[30mA\u001b[39m\u001b[49m\u001b[47m\u001b[30mA\u001b[39m\u001b[49m\u001b[47m\u001b[30mA\u001b[39m\u001b[49m\u001b[47m\u001b[30mA\u001b[39m\u001b[49m\u001b[47m\u001b[30mA\u001b[39m\u001b[49m\u001b[47m\u001b[30mA\u001b[39m\u001b[49m\u001b[47m\u001b[30mA\u001b[39m\u001b[49m\u001b[47m\u001b[30mA\u001b[39m\u001b[49m\u001b[47m\u001b[30mA\u001b[39m\u001b[49m\u001b[47m\u001b[30mA\u001b[39m\u001b[49m\u001b[47m\u001b[30mA\u001b[39m\u001b[49m WHP9591-A4v1_1283879\n",
              "[16] 29903 \u001b[47m\u001b[30mA\u001b[39m\u001b[49m\u001b[47m\u001b[37mY\u001b[39m\u001b[49m\u001b[47m\u001b[30mT\u001b[39m\u001b[49m\u001b[47m\u001b[30mA\u001b[39m\u001b[49m\u001b[47m\u001b[30mA\u001b[39m\u001b[49m\u001b[47m\u001b[30mA\u001b[39m\u001b[49m\u001b[47m\u001b[30mG\u001b[39m\u001b[49m\u001b[47m\u001b[30mG\u001b[39m\u001b[49m\u001b[47m\u001b[30mT\u001b[39m\u001b[49m\u001b[47m\u001b[30mT\u001b[39m\u001b[49m\u001b[47m\u001b[30mT\u001b[39m\u001b[49m\u001b[47m\u001b[30mA\u001b[39m\u001b[49m\u001b[47m\u001b[30mT\u001b[39m\u001b[49m\u001b[47m\u001b[30mA\u001b[39m\u001b[49m\u001b[47m\u001b[30mC\u001b[39m\u001b[49m\u001b[47m\u001b[30mC\u001b[39m\u001b[49m\u001b[47m\u001b[30mT\u001b[39m\u001b[49m\u001b[47m\u001b[30mT\u001b[39m\u001b[49m\u001b[47m\u001b[30mC\u001b[39m\u001b[49m\u001b[47m\u001b[30mC\u001b[39m\u001b[49m\u001b[47m\u001b[30mC\u001b[39m\u001b[49m\u001b[47m\u001b[30mA\u001b[39m\u001b[49m\u001b[47m\u001b[30mG\u001b[39m\u001b[49m...\u001b[47m\u001b[30mA\u001b[39m\u001b[49m\u001b[47m\u001b[30mA\u001b[39m\u001b[49m\u001b[47m\u001b[30mA\u001b[39m\u001b[49m\u001b[47m\u001b[30mA\u001b[39m\u001b[49m\u001b[47m\u001b[30mA\u001b[39m\u001b[49m\u001b[47m\u001b[30mA\u001b[39m\u001b[49m\u001b[47m\u001b[30mA\u001b[39m\u001b[49m\u001b[47m\u001b[30mA\u001b[39m\u001b[49m\u001b[47m\u001b[30mA\u001b[39m\u001b[49m\u001b[47m\u001b[30mA\u001b[39m\u001b[49m\u001b[47m\u001b[30mA\u001b[39m\u001b[49m\u001b[47m\u001b[30mA\u001b[39m\u001b[49m\u001b[47m\u001b[30mA\u001b[39m\u001b[49m\u001b[47m\u001b[30mA\u001b[39m\u001b[49m\u001b[47m\u001b[30mA\u001b[39m\u001b[49m\u001b[47m\u001b[30mA\u001b[39m\u001b[49m\u001b[47m\u001b[30mA\u001b[39m\u001b[49m\u001b[47m\u001b[30mA\u001b[39m\u001b[49m\u001b[47m\u001b[30mA\u001b[39m\u001b[49m\u001b[47m\u001b[30mA\u001b[39m\u001b[49m\u001b[47m\u001b[30mA\u001b[39m\u001b[49m\u001b[47m\u001b[30mA\u001b[39m\u001b[49m WHP6749-H2-iseq_R...\n",
              "[17] 29903 \u001b[47m\u001b[37mN\u001b[39m\u001b[49m\u001b[47m\u001b[37mN\u001b[39m\u001b[49m\u001b[47m\u001b[37mN\u001b[39m\u001b[49m\u001b[47m\u001b[37mN\u001b[39m\u001b[49m\u001b[47m\u001b[37mN\u001b[39m\u001b[49m\u001b[47m\u001b[37mN\u001b[39m\u001b[49m\u001b[47m\u001b[37mN\u001b[39m\u001b[49m\u001b[47m\u001b[37mN\u001b[39m\u001b[49m\u001b[47m\u001b[37mN\u001b[39m\u001b[49m\u001b[47m\u001b[37mN\u001b[39m\u001b[49m\u001b[47m\u001b[37mN\u001b[39m\u001b[49m\u001b[47m\u001b[37mN\u001b[39m\u001b[49m\u001b[47m\u001b[37mN\u001b[39m\u001b[49m\u001b[47m\u001b[37mN\u001b[39m\u001b[49m\u001b[47m\u001b[37mN\u001b[39m\u001b[49m\u001b[47m\u001b[37mN\u001b[39m\u001b[49m\u001b[47m\u001b[37mN\u001b[39m\u001b[49m\u001b[47m\u001b[37mN\u001b[39m\u001b[49m\u001b[47m\u001b[37mN\u001b[39m\u001b[49m\u001b[47m\u001b[37mN\u001b[39m\u001b[49m\u001b[47m\u001b[37mN\u001b[39m\u001b[49m\u001b[47m\u001b[37mN\u001b[39m\u001b[49m\u001b[47m\u001b[37mN\u001b[39m\u001b[49m...\u001b[47m\u001b[30mA\u001b[39m\u001b[49m\u001b[47m\u001b[30mA\u001b[39m\u001b[49m\u001b[47m\u001b[30mA\u001b[39m\u001b[49m\u001b[47m\u001b[30mA\u001b[39m\u001b[49m\u001b[47m\u001b[30mA\u001b[39m\u001b[49m\u001b[47m\u001b[30mA\u001b[39m\u001b[49m\u001b[47m\u001b[30mA\u001b[39m\u001b[49m\u001b[47m\u001b[30mA\u001b[39m\u001b[49m\u001b[47m\u001b[30mA\u001b[39m\u001b[49m\u001b[47m\u001b[30mA\u001b[39m\u001b[49m\u001b[47m\u001b[30mA\u001b[39m\u001b[49m\u001b[47m\u001b[30mA\u001b[39m\u001b[49m\u001b[47m\u001b[30mA\u001b[39m\u001b[49m\u001b[47m\u001b[30mA\u001b[39m\u001b[49m\u001b[47m\u001b[30mA\u001b[39m\u001b[49m\u001b[47m\u001b[30mA\u001b[39m\u001b[49m\u001b[47m\u001b[30mA\u001b[39m\u001b[49m\u001b[47m\u001b[30mA\u001b[39m\u001b[49m\u001b[47m\u001b[30mA\u001b[39m\u001b[49m\u001b[47m\u001b[30mA\u001b[39m\u001b[49m\u001b[47m\u001b[30mA\u001b[39m\u001b[49m\u001b[47m\u001b[30mA\u001b[39m\u001b[49m WHP4969_12214"
            ]
          },
          "metadata": {}
        }
      ]
    },
    {
      "cell_type": "markdown",
      "source": [
        "## Task 3. 1"
      ],
      "metadata": {
        "id": "OvER4ELUPg58"
      }
    },
    {
      "cell_type": "code",
      "source": [
        "# Set seed for reproducibility\n",
        "set.seed(2024)"
      ],
      "metadata": {
        "id": "lP588v9ItlKt"
      },
      "execution_count": 7,
      "outputs": []
    },
    {
      "cell_type": "code",
      "source": [
        "# Randomly select two sequences\n",
        "seqs_sample <- sample(seqs_filtered, 2)\n",
        "seqs_sample"
      ],
      "metadata": {
        "colab": {
          "base_uri": "https://localhost:8080/",
          "height": 86
        },
        "id": "jpGCFNiRKw-t",
        "outputId": "1bf94209-b996-40e3-bfd4-0984a1a4efc9"
      },
      "execution_count": 8,
      "outputs": [
        {
          "output_type": "display_data",
          "data": {
            "text/plain": [
              "DNAStringSet object of length 2:\n",
              "    width seq                                               names               \n",
              "[1] 29903 \u001b[47m\u001b[37mN\u001b[39m\u001b[49m\u001b[47m\u001b[37mN\u001b[39m\u001b[49m\u001b[47m\u001b[37mN\u001b[39m\u001b[49m\u001b[47m\u001b[37mN\u001b[39m\u001b[49m\u001b[47m\u001b[37mN\u001b[39m\u001b[49m\u001b[47m\u001b[37mN\u001b[39m\u001b[49m\u001b[47m\u001b[37mN\u001b[39m\u001b[49m\u001b[47m\u001b[30mG\u001b[39m\u001b[49m\u001b[47m\u001b[30mT\u001b[39m\u001b[49m\u001b[47m\u001b[30mT\u001b[39m\u001b[49m\u001b[47m\u001b[30mT\u001b[39m\u001b[49m\u001b[47m\u001b[30mA\u001b[39m\u001b[49m\u001b[47m\u001b[30mT\u001b[39m\u001b[49m\u001b[47m\u001b[30mA\u001b[39m\u001b[49m\u001b[47m\u001b[30mC\u001b[39m\u001b[49m\u001b[47m\u001b[30mC\u001b[39m\u001b[49m\u001b[47m\u001b[30mT\u001b[39m\u001b[49m\u001b[47m\u001b[30mT\u001b[39m\u001b[49m\u001b[47m\u001b[30mC\u001b[39m\u001b[49m\u001b[47m\u001b[30mC\u001b[39m\u001b[49m\u001b[47m\u001b[30mC\u001b[39m\u001b[49m\u001b[47m\u001b[30mA\u001b[39m\u001b[49m\u001b[47m\u001b[30mG\u001b[39m\u001b[49m...\u001b[47m\u001b[37mN\u001b[39m\u001b[49m\u001b[47m\u001b[37mN\u001b[39m\u001b[49m\u001b[47m\u001b[37mN\u001b[39m\u001b[49m\u001b[47m\u001b[37mN\u001b[39m\u001b[49m\u001b[47m\u001b[37mN\u001b[39m\u001b[49m\u001b[47m\u001b[37mN\u001b[39m\u001b[49m\u001b[47m\u001b[37mN\u001b[39m\u001b[49m\u001b[47m\u001b[37mN\u001b[39m\u001b[49m\u001b[47m\u001b[37mN\u001b[39m\u001b[49m\u001b[47m\u001b[37mN\u001b[39m\u001b[49m\u001b[47m\u001b[37mN\u001b[39m\u001b[49m\u001b[47m\u001b[37mN\u001b[39m\u001b[49m\u001b[47m\u001b[37mN\u001b[39m\u001b[49m\u001b[47m\u001b[37mN\u001b[39m\u001b[49m\u001b[47m\u001b[37mN\u001b[39m\u001b[49m\u001b[47m\u001b[37mN\u001b[39m\u001b[49m\u001b[47m\u001b[37mN\u001b[39m\u001b[49m\u001b[47m\u001b[37mN\u001b[39m\u001b[49m\u001b[47m\u001b[37mN\u001b[39m\u001b[49m\u001b[47m\u001b[37mN\u001b[39m\u001b[49m\u001b[47m\u001b[37mN\u001b[39m\u001b[49m\u001b[47m\u001b[37mN\u001b[39m\u001b[49m\u001b[47m\u001b[37mN\u001b[39m\u001b[49m WHP7426-H2-iseq_1...\n",
              "[2] 29903 \u001b[47m\u001b[37mN\u001b[39m\u001b[49m\u001b[47m\u001b[37mN\u001b[39m\u001b[49m\u001b[47m\u001b[37mN\u001b[39m\u001b[49m\u001b[47m\u001b[37mN\u001b[39m\u001b[49m\u001b[47m\u001b[37mN\u001b[39m\u001b[49m\u001b[47m\u001b[37mN\u001b[39m\u001b[49m\u001b[47m\u001b[37mN\u001b[39m\u001b[49m\u001b[47m\u001b[37mN\u001b[39m\u001b[49m\u001b[47m\u001b[37mN\u001b[39m\u001b[49m\u001b[47m\u001b[37mN\u001b[39m\u001b[49m\u001b[47m\u001b[37mN\u001b[39m\u001b[49m\u001b[47m\u001b[37mN\u001b[39m\u001b[49m\u001b[47m\u001b[37mN\u001b[39m\u001b[49m\u001b[47m\u001b[37mN\u001b[39m\u001b[49m\u001b[47m\u001b[37mN\u001b[39m\u001b[49m\u001b[47m\u001b[37mN\u001b[39m\u001b[49m\u001b[47m\u001b[37mN\u001b[39m\u001b[49m\u001b[47m\u001b[37mN\u001b[39m\u001b[49m\u001b[47m\u001b[37mN\u001b[39m\u001b[49m\u001b[47m\u001b[37mN\u001b[39m\u001b[49m\u001b[47m\u001b[37mN\u001b[39m\u001b[49m\u001b[47m\u001b[37mN\u001b[39m\u001b[49m\u001b[47m\u001b[37mN\u001b[39m\u001b[49m...\u001b[47m\u001b[30mA\u001b[39m\u001b[49m\u001b[47m\u001b[30mA\u001b[39m\u001b[49m\u001b[47m\u001b[30mA\u001b[39m\u001b[49m\u001b[47m\u001b[30mA\u001b[39m\u001b[49m\u001b[47m\u001b[30mA\u001b[39m\u001b[49m\u001b[47m\u001b[30mA\u001b[39m\u001b[49m\u001b[47m\u001b[30mA\u001b[39m\u001b[49m\u001b[47m\u001b[30mA\u001b[39m\u001b[49m\u001b[47m\u001b[30mA\u001b[39m\u001b[49m\u001b[47m\u001b[30mA\u001b[39m\u001b[49m\u001b[47m\u001b[30mA\u001b[39m\u001b[49m\u001b[47m\u001b[30mA\u001b[39m\u001b[49m\u001b[47m\u001b[30mA\u001b[39m\u001b[49m\u001b[47m\u001b[30mA\u001b[39m\u001b[49m\u001b[47m\u001b[30mA\u001b[39m\u001b[49m\u001b[47m\u001b[30mA\u001b[39m\u001b[49m\u001b[47m\u001b[30mA\u001b[39m\u001b[49m\u001b[47m\u001b[30mA\u001b[39m\u001b[49m\u001b[47m\u001b[30mA\u001b[39m\u001b[49m\u001b[47m\u001b[30mA\u001b[39m\u001b[49m\u001b[47m\u001b[30mA\u001b[39m\u001b[49m\u001b[47m\u001b[30mA\u001b[39m\u001b[49m\u001b[47m\u001b[30mA\u001b[39m\u001b[49m WHP3977_10906"
            ]
          },
          "metadata": {}
        }
      ]
    },
    {
      "cell_type": "code",
      "source": [
        "# Calculate the frequency of G and C in each sequence\n",
        "seqs_sample_gc_count <- letterFrequency(seqs_sample, letters=c(\"G\", \"C\"))"
      ],
      "metadata": {
        "collapsed": true,
        "id": "5BINb5hzuC1D"
      },
      "execution_count": 9,
      "outputs": []
    },
    {
      "cell_type": "code",
      "source": [
        "# Calculate the GC content for each selected sequence\n",
        "seqs_sample_gc_content <- rowSums(seqs_sample_gc_count) / width(seqs_sample)"
      ],
      "metadata": {
        "id": "zP9i28LYLG2t"
      },
      "execution_count": 10,
      "outputs": []
    },
    {
      "cell_type": "code",
      "source": [
        "# Print out the result in format\n",
        "print(paste0(\"GC content of sequence \", names(seqs_sample)[1], \": \", seqs_sample_gc_content[1]))\n",
        "print(paste0(\"GC content of sequence \", names(seqs_sample)[2], \": \", seqs_sample_gc_content[2]))"
      ],
      "metadata": {
        "colab": {
          "base_uri": "https://localhost:8080/"
        },
        "id": "o-cUhZMELKlP",
        "outputId": "86180509-615f-42c0-f1b1-0edacbe70d87"
      },
      "execution_count": 11,
      "outputs": [
        {
          "output_type": "stream",
          "name": "stdout",
          "text": [
            "[1] \"GC content of sequence WHP7426-H2-iseq_1019418: 0.376584289201752\"\n",
            "[1] \"GC content of sequence WHP3977_10906: 0.378256362237903\"\n"
          ]
        }
      ]
    },
    {
      "cell_type": "markdown",
      "source": [
        "## Task 3. 2"
      ],
      "metadata": {
        "id": "mW788nYcNcIr"
      }
    },
    {
      "cell_type": "code",
      "source": [
        "# Extract the spike gene region (positions 21,563 to 25,384) for both sequences\n",
        "spike_gene <- subseq(seqs_sample, start=21563, end=25384)\n",
        "spike_gene"
      ],
      "metadata": {
        "colab": {
          "base_uri": "https://localhost:8080/",
          "height": 86
        },
        "id": "ynETR9dbLK8F",
        "outputId": "3d520dd6-ed9b-4815-c7e4-4e45817572bd"
      },
      "execution_count": 12,
      "outputs": [
        {
          "output_type": "display_data",
          "data": {
            "text/plain": [
              "DNAStringSet object of length 2:\n",
              "    width seq                                               names               \n",
              "[1]  3822 \u001b[47m\u001b[30mA\u001b[39m\u001b[49m\u001b[47m\u001b[30mT\u001b[39m\u001b[49m\u001b[47m\u001b[30mG\u001b[39m\u001b[49m\u001b[47m\u001b[30mT\u001b[39m\u001b[49m\u001b[47m\u001b[30mT\u001b[39m\u001b[49m\u001b[47m\u001b[30mT\u001b[39m\u001b[49m\u001b[47m\u001b[30mG\u001b[39m\u001b[49m\u001b[47m\u001b[30mT\u001b[39m\u001b[49m\u001b[47m\u001b[30mT\u001b[39m\u001b[49m\u001b[47m\u001b[30mT\u001b[39m\u001b[49m\u001b[47m\u001b[30mT\u001b[39m\u001b[49m\u001b[47m\u001b[30mT\u001b[39m\u001b[49m\u001b[47m\u001b[30mC\u001b[39m\u001b[49m\u001b[47m\u001b[30mT\u001b[39m\u001b[49m\u001b[47m\u001b[30mT\u001b[39m\u001b[49m\u001b[47m\u001b[30mG\u001b[39m\u001b[49m\u001b[47m\u001b[30mT\u001b[39m\u001b[49m\u001b[47m\u001b[30mT\u001b[39m\u001b[49m\u001b[47m\u001b[30mT\u001b[39m\u001b[49m\u001b[47m\u001b[30mT\u001b[39m\u001b[49m\u001b[47m\u001b[30mA\u001b[39m\u001b[49m\u001b[47m\u001b[30mT\u001b[39m\u001b[49m\u001b[47m\u001b[30mT\u001b[39m\u001b[49m...\u001b[47m\u001b[30mG\u001b[39m\u001b[49m\u001b[47m\u001b[30mA\u001b[39m\u001b[49m\u001b[47m\u001b[30mG\u001b[39m\u001b[49m\u001b[47m\u001b[30mT\u001b[39m\u001b[49m\u001b[47m\u001b[30mC\u001b[39m\u001b[49m\u001b[47m\u001b[30mA\u001b[39m\u001b[49m\u001b[47m\u001b[30mA\u001b[39m\u001b[49m\u001b[47m\u001b[30mA\u001b[39m\u001b[49m\u001b[47m\u001b[30mT\u001b[39m\u001b[49m\u001b[47m\u001b[30mT\u001b[39m\u001b[49m\u001b[47m\u001b[30mA\u001b[39m\u001b[49m\u001b[47m\u001b[30mC\u001b[39m\u001b[49m\u001b[47m\u001b[30mA\u001b[39m\u001b[49m\u001b[47m\u001b[30mT\u001b[39m\u001b[49m\u001b[47m\u001b[30mT\u001b[39m\u001b[49m\u001b[47m\u001b[30mA\u001b[39m\u001b[49m\u001b[47m\u001b[30mC\u001b[39m\u001b[49m\u001b[47m\u001b[30mA\u001b[39m\u001b[49m\u001b[47m\u001b[30mC\u001b[39m\u001b[49m\u001b[47m\u001b[30mA\u001b[39m\u001b[49m\u001b[47m\u001b[30mT\u001b[39m\u001b[49m\u001b[47m\u001b[30mA\u001b[39m\u001b[49m\u001b[47m\u001b[30mA\u001b[39m\u001b[49m WHP7426-H2-iseq_1...\n",
              "[2]  3822 \u001b[47m\u001b[30mA\u001b[39m\u001b[49m\u001b[47m\u001b[30mT\u001b[39m\u001b[49m\u001b[47m\u001b[30mG\u001b[39m\u001b[49m\u001b[47m\u001b[30mT\u001b[39m\u001b[49m\u001b[47m\u001b[30mT\u001b[39m\u001b[49m\u001b[47m\u001b[30mT\u001b[39m\u001b[49m\u001b[47m\u001b[30mG\u001b[39m\u001b[49m\u001b[47m\u001b[30mT\u001b[39m\u001b[49m\u001b[47m\u001b[30mT\u001b[39m\u001b[49m\u001b[47m\u001b[30mT\u001b[39m\u001b[49m\u001b[47m\u001b[30mT\u001b[39m\u001b[49m\u001b[47m\u001b[30mT\u001b[39m\u001b[49m\u001b[47m\u001b[30mC\u001b[39m\u001b[49m\u001b[47m\u001b[30mT\u001b[39m\u001b[49m\u001b[47m\u001b[30mT\u001b[39m\u001b[49m\u001b[47m\u001b[30mG\u001b[39m\u001b[49m\u001b[47m\u001b[30mT\u001b[39m\u001b[49m\u001b[47m\u001b[30mT\u001b[39m\u001b[49m\u001b[47m\u001b[30mT\u001b[39m\u001b[49m\u001b[47m\u001b[30mT\u001b[39m\u001b[49m\u001b[47m\u001b[30mA\u001b[39m\u001b[49m\u001b[47m\u001b[30mT\u001b[39m\u001b[49m\u001b[47m\u001b[30mT\u001b[39m\u001b[49m...\u001b[47m\u001b[30mG\u001b[39m\u001b[49m\u001b[47m\u001b[30mA\u001b[39m\u001b[49m\u001b[47m\u001b[30mG\u001b[39m\u001b[49m\u001b[47m\u001b[30mT\u001b[39m\u001b[49m\u001b[47m\u001b[30mC\u001b[39m\u001b[49m\u001b[47m\u001b[30mA\u001b[39m\u001b[49m\u001b[47m\u001b[30mA\u001b[39m\u001b[49m\u001b[47m\u001b[30mA\u001b[39m\u001b[49m\u001b[47m\u001b[30mT\u001b[39m\u001b[49m\u001b[47m\u001b[30mT\u001b[39m\u001b[49m\u001b[47m\u001b[30mA\u001b[39m\u001b[49m\u001b[47m\u001b[30mC\u001b[39m\u001b[49m\u001b[47m\u001b[30mA\u001b[39m\u001b[49m\u001b[47m\u001b[30mT\u001b[39m\u001b[49m\u001b[47m\u001b[30mT\u001b[39m\u001b[49m\u001b[47m\u001b[30mA\u001b[39m\u001b[49m\u001b[47m\u001b[30mC\u001b[39m\u001b[49m\u001b[47m\u001b[30mA\u001b[39m\u001b[49m\u001b[47m\u001b[30mC\u001b[39m\u001b[49m\u001b[47m\u001b[37mM\u001b[39m\u001b[49m\u001b[47m\u001b[30mT\u001b[39m\u001b[49m\u001b[47m\u001b[30mA\u001b[39m\u001b[49m\u001b[47m\u001b[30mA\u001b[39m\u001b[49m WHP3977_10906"
            ]
          },
          "metadata": {}
        }
      ]
    },
    {
      "cell_type": "markdown",
      "source": [
        "## Task 3. 3"
      ],
      "metadata": {
        "id": "FFH36sOwitJb"
      }
    },
    {
      "cell_type": "code",
      "source": [
        "# Set seed for reproducibility\n",
        "set.seed(20241107)\n",
        "# Randomly select one spike gene\n",
        "spike_gene_selected <- spike_gene[sample(1:2, 1)]\n",
        "spike_gene_selected"
      ],
      "metadata": {
        "colab": {
          "base_uri": "https://localhost:8080/",
          "height": 69
        },
        "id": "NYAtfVtwLNy_",
        "outputId": "006c017f-8c9d-467a-84ad-e587c481ee35"
      },
      "execution_count": 13,
      "outputs": [
        {
          "output_type": "display_data",
          "data": {
            "text/plain": [
              "DNAStringSet object of length 1:\n",
              "    width seq                                               names               \n",
              "[1]  3822 \u001b[47m\u001b[30mA\u001b[39m\u001b[49m\u001b[47m\u001b[30mT\u001b[39m\u001b[49m\u001b[47m\u001b[30mG\u001b[39m\u001b[49m\u001b[47m\u001b[30mT\u001b[39m\u001b[49m\u001b[47m\u001b[30mT\u001b[39m\u001b[49m\u001b[47m\u001b[30mT\u001b[39m\u001b[49m\u001b[47m\u001b[30mG\u001b[39m\u001b[49m\u001b[47m\u001b[30mT\u001b[39m\u001b[49m\u001b[47m\u001b[30mT\u001b[39m\u001b[49m\u001b[47m\u001b[30mT\u001b[39m\u001b[49m\u001b[47m\u001b[30mT\u001b[39m\u001b[49m\u001b[47m\u001b[30mT\u001b[39m\u001b[49m\u001b[47m\u001b[30mC\u001b[39m\u001b[49m\u001b[47m\u001b[30mT\u001b[39m\u001b[49m\u001b[47m\u001b[30mT\u001b[39m\u001b[49m\u001b[47m\u001b[30mG\u001b[39m\u001b[49m\u001b[47m\u001b[30mT\u001b[39m\u001b[49m\u001b[47m\u001b[30mT\u001b[39m\u001b[49m\u001b[47m\u001b[30mT\u001b[39m\u001b[49m\u001b[47m\u001b[30mT\u001b[39m\u001b[49m\u001b[47m\u001b[30mA\u001b[39m\u001b[49m\u001b[47m\u001b[30mT\u001b[39m\u001b[49m\u001b[47m\u001b[30mT\u001b[39m\u001b[49m...\u001b[47m\u001b[30mG\u001b[39m\u001b[49m\u001b[47m\u001b[30mA\u001b[39m\u001b[49m\u001b[47m\u001b[30mG\u001b[39m\u001b[49m\u001b[47m\u001b[30mT\u001b[39m\u001b[49m\u001b[47m\u001b[30mC\u001b[39m\u001b[49m\u001b[47m\u001b[30mA\u001b[39m\u001b[49m\u001b[47m\u001b[30mA\u001b[39m\u001b[49m\u001b[47m\u001b[30mA\u001b[39m\u001b[49m\u001b[47m\u001b[30mT\u001b[39m\u001b[49m\u001b[47m\u001b[30mT\u001b[39m\u001b[49m\u001b[47m\u001b[30mA\u001b[39m\u001b[49m\u001b[47m\u001b[30mC\u001b[39m\u001b[49m\u001b[47m\u001b[30mA\u001b[39m\u001b[49m\u001b[47m\u001b[30mT\u001b[39m\u001b[49m\u001b[47m\u001b[30mT\u001b[39m\u001b[49m\u001b[47m\u001b[30mA\u001b[39m\u001b[49m\u001b[47m\u001b[30mC\u001b[39m\u001b[49m\u001b[47m\u001b[30mA\u001b[39m\u001b[49m\u001b[47m\u001b[30mC\u001b[39m\u001b[49m\u001b[47m\u001b[37mM\u001b[39m\u001b[49m\u001b[47m\u001b[30mT\u001b[39m\u001b[49m\u001b[47m\u001b[30mA\u001b[39m\u001b[49m\u001b[47m\u001b[30mA\u001b[39m\u001b[49m WHP3977_10906"
            ]
          },
          "metadata": {}
        }
      ]
    },
    {
      "cell_type": "code",
      "source": [
        "# Using a built-in function to calculate the codon usage\n",
        "codon_count <- trinucleotideFrequency(spike_gene_selected, step = 3)\n",
        "print(codon_count)"
      ],
      "metadata": {
        "colab": {
          "base_uri": "https://localhost:8080/"
        },
        "id": "7mcsLu7dLOK0",
        "outputId": "10e025d3-97e0-460a-8163-f70b5033a7ef"
      },
      "execution_count": 14,
      "outputs": [
        {
          "output_type": "stream",
          "name": "stdout",
          "text": [
            "     AAA AAC AAG AAT ACA ACC ACG ACT AGA AGC AGG AGT ATA ATC ATG ATT CAA CAC\n",
            "[1,]  38  34  23  54  39  10   3  44  20   5  10  17  18  14  14  44  46   4\n",
            "     CAG CAT CCA CCC CCG CCT CGA CGC CGG CGT CTA CTC CTG CTT GAA GAC GAG GAT\n",
            "[1,]  16  13  25   4   0  29   0   1   2   9   9  12   3  36  34  18  14  43\n",
            "     GCA GCC GCG GCT GGA GGC GGG GGT GTA GTC GTG GTT TAA TAC TAG TAT TCA TCC\n",
            "[1,]  27   9   2  41  17  15   3  48  15  21  13  48   1  14   0  40  26  12\n",
            "     TCG TCT TGA TGC TGG TGT TTA TTC TTG TTT\n",
            "[1,]   2  37   0  12  12  28  28  18  20  59\n"
          ]
        }
      ]
    },
    {
      "cell_type": "code",
      "source": [
        "# Check the reverse complement of the spike gene\n",
        "spike_gene_selected_revcomp <- reverseComplement(spike_gene_selected)\n",
        "spike_gene_selected_revcomp"
      ],
      "metadata": {
        "colab": {
          "base_uri": "https://localhost:8080/",
          "height": 69
        },
        "collapsed": true,
        "id": "xi1yJJK9XQSc",
        "outputId": "77bc3561-6e64-4bfe-a467-efa59b582cef"
      },
      "execution_count": 15,
      "outputs": [
        {
          "output_type": "display_data",
          "data": {
            "text/plain": [
              "DNAStringSet object of length 1:\n",
              "    width seq                                               names               \n",
              "[1]  3822 \u001b[47m\u001b[30mT\u001b[39m\u001b[49m\u001b[47m\u001b[30mT\u001b[39m\u001b[49m\u001b[47m\u001b[30mA\u001b[39m\u001b[49m\u001b[47m\u001b[37mK\u001b[39m\u001b[49m\u001b[47m\u001b[30mG\u001b[39m\u001b[49m\u001b[47m\u001b[30mT\u001b[39m\u001b[49m\u001b[47m\u001b[30mG\u001b[39m\u001b[49m\u001b[47m\u001b[30mT\u001b[39m\u001b[49m\u001b[47m\u001b[30mA\u001b[39m\u001b[49m\u001b[47m\u001b[30mA\u001b[39m\u001b[49m\u001b[47m\u001b[30mT\u001b[39m\u001b[49m\u001b[47m\u001b[30mG\u001b[39m\u001b[49m\u001b[47m\u001b[30mT\u001b[39m\u001b[49m\u001b[47m\u001b[30mA\u001b[39m\u001b[49m\u001b[47m\u001b[30mA\u001b[39m\u001b[49m\u001b[47m\u001b[30mT\u001b[39m\u001b[49m\u001b[47m\u001b[30mT\u001b[39m\u001b[49m\u001b[47m\u001b[30mT\u001b[39m\u001b[49m\u001b[47m\u001b[30mG\u001b[39m\u001b[49m\u001b[47m\u001b[30mA\u001b[39m\u001b[49m\u001b[47m\u001b[30mC\u001b[39m\u001b[49m\u001b[47m\u001b[30mT\u001b[39m\u001b[49m\u001b[47m\u001b[30mC\u001b[39m\u001b[49m...\u001b[47m\u001b[30mA\u001b[39m\u001b[49m\u001b[47m\u001b[30mA\u001b[39m\u001b[49m\u001b[47m\u001b[30mT\u001b[39m\u001b[49m\u001b[47m\u001b[30mA\u001b[39m\u001b[49m\u001b[47m\u001b[30mA\u001b[39m\u001b[49m\u001b[47m\u001b[30mA\u001b[39m\u001b[49m\u001b[47m\u001b[30mA\u001b[39m\u001b[49m\u001b[47m\u001b[30mC\u001b[39m\u001b[49m\u001b[47m\u001b[30mA\u001b[39m\u001b[49m\u001b[47m\u001b[30mA\u001b[39m\u001b[49m\u001b[47m\u001b[30mG\u001b[39m\u001b[49m\u001b[47m\u001b[30mA\u001b[39m\u001b[49m\u001b[47m\u001b[30mA\u001b[39m\u001b[49m\u001b[47m\u001b[30mA\u001b[39m\u001b[49m\u001b[47m\u001b[30mA\u001b[39m\u001b[49m\u001b[47m\u001b[30mA\u001b[39m\u001b[49m\u001b[47m\u001b[30mC\u001b[39m\u001b[49m\u001b[47m\u001b[30mA\u001b[39m\u001b[49m\u001b[47m\u001b[30mA\u001b[39m\u001b[49m\u001b[47m\u001b[30mA\u001b[39m\u001b[49m\u001b[47m\u001b[30mC\u001b[39m\u001b[49m\u001b[47m\u001b[30mA\u001b[39m\u001b[49m\u001b[47m\u001b[30mT\u001b[39m\u001b[49m WHP3977_10906"
            ]
          },
          "metadata": {}
        }
      ]
    },
    {
      "cell_type": "code",
      "source": [
        "# Split the sequence to codons\n",
        "spike_gene_selected_char <- as.character(spike_gene_selected)\n",
        "codons <- sapply(\n",
        "    seq(1, nchar(spike_gene_selected_char) - 2, by = 3),\n",
        "    function(i) substring(spike_gene_selected_char, i, i + 2)\n",
        ")"
      ],
      "metadata": {
        "id": "V4vDY_2W_JPk"
      },
      "execution_count": 16,
      "outputs": []
    },
    {
      "cell_type": "code",
      "source": [
        "# Translation using built-in funtion\n",
        "spike_gene_selected_aa <- translate(spike_gene_selected, if.fuzzy.codon=\"solve\")\n",
        "spike_gene_selected_aa_list <- strsplit(as.character(spike_gene_selected_aa), \"\")[[1]]"
      ],
      "metadata": {
        "id": "T6UrYr4zp7nB"
      },
      "execution_count": 17,
      "outputs": []
    },
    {
      "cell_type": "code",
      "source": [
        "# Create a data frame to store results\n",
        "results <- data.frame(Codons=codons, AminoAcid=spike_gene_selected_aa_list)"
      ],
      "metadata": {
        "collapsed": true,
        "id": "tXu5p4hsp2CB"
      },
      "execution_count": 18,
      "outputs": []
    },
    {
      "cell_type": "code",
      "source": [
        "# Calculate the frequency of each codon\n",
        "codon_usage <- as.data.frame(table(results$Codon, results$AminoAcid))\n",
        "colnames(codon_usage) <- c('Codon', 'AminoAcid', 'Count')\n",
        "codon_usage <- codon_usage[codon_usage$Count > 0,]\n",
        "# Reset row index\n",
        "rownames(codon_usage) <- NULL\n",
        "\n",
        "# Calculate the usage probability of each codon\n",
        "codon_usage$Probability <- codon_usage$Count / sum(codon_usage$Count)"
      ],
      "metadata": {
        "id": "g3n2Dy0YLl4L",
        "collapsed": true
      },
      "execution_count": 19,
      "outputs": []
    },
    {
      "cell_type": "code",
      "source": [
        "# Define fill names for amino acids\n",
        "amino_acid_names <- data.frame(\n",
        "    Abbreviation = c('A', 'C', 'D', 'E', 'F', 'G', 'H', 'I', 'K', 'L',\n",
        "                     'M', 'N', 'P', 'Q', 'R', 'S', 'T', 'V', 'W', 'Y', '*'),\n",
        "    FullName = c('Alanine', 'Cysteine', 'Aspartic Acid', 'Glutamic Acid',\n",
        "                 'Phenylalanine', 'Glycine', 'Histidine', 'Isoleucine',\n",
        "                 'Lysine', 'Leucine', 'Methionine', 'Asparagine',\n",
        "                 'Proline', 'Glutamine', 'Arginine', 'Serine',\n",
        "                 'Threonine', 'Valine', 'Tryptophan', 'Tyrosine', 'End')\n",
        ")\n",
        "# Merge full names into the codon_usage data frame\n",
        "codon_usage <- merge(\n",
        "    codon_usage, amino_acid_names, by.x=\"AminoAcid\", by.y=\"Abbreviation\", all.x=TRUE)"
      ],
      "metadata": {
        "id": "gLi-XFMIQf_q"
      },
      "execution_count": 20,
      "outputs": []
    },
    {
      "cell_type": "code",
      "source": [
        "# Print the final result\n",
        "codon_usage"
      ],
      "metadata": {
        "colab": {
          "base_uri": "https://localhost:8080/",
          "height": 1000
        },
        "collapsed": true,
        "id": "TG4ToXgTQgHN",
        "outputId": "a9379073-d993-42a1-cd0d-818fdb5a4365"
      },
      "execution_count": 21,
      "outputs": [
        {
          "output_type": "display_data",
          "data": {
            "text/html": [
              "<table class=\"dataframe\">\n",
              "<caption>A data.frame: 61 × 5</caption>\n",
              "<thead>\n",
              "\t<tr><th scope=col>AminoAcid</th><th scope=col>Codon</th><th scope=col>Count</th><th scope=col>Probability</th><th scope=col>FullName</th></tr>\n",
              "\t<tr><th scope=col>&lt;fct&gt;</th><th scope=col>&lt;fct&gt;</th><th scope=col>&lt;int&gt;</th><th scope=col>&lt;dbl&gt;</th><th scope=col>&lt;chr&gt;</th></tr>\n",
              "</thead>\n",
              "<tbody>\n",
              "\t<tr><td>*</td><td>TAA</td><td> 1</td><td>0.0007849294</td><td>End          </td></tr>\n",
              "\t<tr><td>A</td><td>GCA</td><td>27</td><td>0.0211930926</td><td>Alanine      </td></tr>\n",
              "\t<tr><td>A</td><td>GCC</td><td> 9</td><td>0.0070643642</td><td>Alanine      </td></tr>\n",
              "\t<tr><td>A</td><td>GCG</td><td> 2</td><td>0.0015698587</td><td>Alanine      </td></tr>\n",
              "\t<tr><td>A</td><td>GCT</td><td>41</td><td>0.0321821036</td><td>Alanine      </td></tr>\n",
              "\t<tr><td>C</td><td>TGC</td><td>12</td><td>0.0094191523</td><td>Cysteine     </td></tr>\n",
              "\t<tr><td>C</td><td>TGT</td><td>28</td><td>0.0219780220</td><td>Cysteine     </td></tr>\n",
              "\t<tr><td>D</td><td>GAC</td><td>18</td><td>0.0141287284</td><td>Aspartic Acid</td></tr>\n",
              "\t<tr><td>D</td><td>GAT</td><td>43</td><td>0.0337519623</td><td>Aspartic Acid</td></tr>\n",
              "\t<tr><td>E</td><td>GAA</td><td>34</td><td>0.0266875981</td><td>Glutamic Acid</td></tr>\n",
              "\t<tr><td>E</td><td>GAG</td><td>14</td><td>0.0109890110</td><td>Glutamic Acid</td></tr>\n",
              "\t<tr><td>F</td><td>TTC</td><td>18</td><td>0.0141287284</td><td>Phenylalanine</td></tr>\n",
              "\t<tr><td>F</td><td>TTT</td><td>59</td><td>0.0463108320</td><td>Phenylalanine</td></tr>\n",
              "\t<tr><td>G</td><td>GGA</td><td>17</td><td>0.0133437991</td><td>Glycine      </td></tr>\n",
              "\t<tr><td>G</td><td>GGC</td><td>15</td><td>0.0117739403</td><td>Glycine      </td></tr>\n",
              "\t<tr><td>G</td><td>GGG</td><td> 3</td><td>0.0023547881</td><td>Glycine      </td></tr>\n",
              "\t<tr><td>G</td><td>GGT</td><td>48</td><td>0.0376766091</td><td>Glycine      </td></tr>\n",
              "\t<tr><td>H</td><td>CAC</td><td> 4</td><td>0.0031397174</td><td>Histidine    </td></tr>\n",
              "\t<tr><td>H</td><td>CAT</td><td>13</td><td>0.0102040816</td><td>Histidine    </td></tr>\n",
              "\t<tr><td>I</td><td>ATA</td><td>18</td><td>0.0141287284</td><td>Isoleucine   </td></tr>\n",
              "\t<tr><td>I</td><td>ATC</td><td>14</td><td>0.0109890110</td><td>Isoleucine   </td></tr>\n",
              "\t<tr><td>I</td><td>ATT</td><td>44</td><td>0.0345368917</td><td>Isoleucine   </td></tr>\n",
              "\t<tr><td>K</td><td>AAA</td><td>38</td><td>0.0298273155</td><td>Lysine       </td></tr>\n",
              "\t<tr><td>K</td><td>AAG</td><td>23</td><td>0.0180533752</td><td>Lysine       </td></tr>\n",
              "\t<tr><td>L</td><td>CTA</td><td> 9</td><td>0.0070643642</td><td>Leucine      </td></tr>\n",
              "\t<tr><td>L</td><td>CTC</td><td>12</td><td>0.0094191523</td><td>Leucine      </td></tr>\n",
              "\t<tr><td>L</td><td>CTG</td><td> 3</td><td>0.0023547881</td><td>Leucine      </td></tr>\n",
              "\t<tr><td>L</td><td>CTT</td><td>36</td><td>0.0282574568</td><td>Leucine      </td></tr>\n",
              "\t<tr><td>L</td><td>TTA</td><td>28</td><td>0.0219780220</td><td>Leucine      </td></tr>\n",
              "\t<tr><td>L</td><td>TTG</td><td>20</td><td>0.0156985871</td><td>Leucine      </td></tr>\n",
              "\t<tr><td>⋮</td><td>⋮</td><td>⋮</td><td>⋮</td><td>⋮</td></tr>\n",
              "\t<tr><td>N</td><td>AAC</td><td>34</td><td>0.0266875981</td><td>Asparagine</td></tr>\n",
              "\t<tr><td>N</td><td>AAT</td><td>54</td><td>0.0423861852</td><td>Asparagine</td></tr>\n",
              "\t<tr><td>P</td><td>CCA</td><td>25</td><td>0.0196232339</td><td>Proline   </td></tr>\n",
              "\t<tr><td>P</td><td>CCC</td><td> 4</td><td>0.0031397174</td><td>Proline   </td></tr>\n",
              "\t<tr><td>P</td><td>CCT</td><td>29</td><td>0.0227629513</td><td>Proline   </td></tr>\n",
              "\t<tr><td>Q</td><td>CAA</td><td>46</td><td>0.0361067504</td><td>Glutamine </td></tr>\n",
              "\t<tr><td>Q</td><td>CAG</td><td>16</td><td>0.0125588697</td><td>Glutamine </td></tr>\n",
              "\t<tr><td>R</td><td>AGA</td><td>20</td><td>0.0156985871</td><td>Arginine  </td></tr>\n",
              "\t<tr><td>R</td><td>AGG</td><td>10</td><td>0.0078492936</td><td>Arginine  </td></tr>\n",
              "\t<tr><td>R</td><td>CGC</td><td> 1</td><td>0.0007849294</td><td>Arginine  </td></tr>\n",
              "\t<tr><td>R</td><td>CGG</td><td> 2</td><td>0.0015698587</td><td>Arginine  </td></tr>\n",
              "\t<tr><td>R</td><td>CGT</td><td> 9</td><td>0.0070643642</td><td>Arginine  </td></tr>\n",
              "\t<tr><td>S</td><td>AGC</td><td> 5</td><td>0.0039246468</td><td>Serine    </td></tr>\n",
              "\t<tr><td>S</td><td>AGT</td><td>17</td><td>0.0133437991</td><td>Serine    </td></tr>\n",
              "\t<tr><td>S</td><td>TCA</td><td>26</td><td>0.0204081633</td><td>Serine    </td></tr>\n",
              "\t<tr><td>S</td><td>TCC</td><td>12</td><td>0.0094191523</td><td>Serine    </td></tr>\n",
              "\t<tr><td>S</td><td>TCG</td><td> 2</td><td>0.0015698587</td><td>Serine    </td></tr>\n",
              "\t<tr><td>S</td><td>TCT</td><td>37</td><td>0.0290423862</td><td>Serine    </td></tr>\n",
              "\t<tr><td>T</td><td>ACA</td><td>39</td><td>0.0306122449</td><td>Threonine </td></tr>\n",
              "\t<tr><td>T</td><td>ACC</td><td>10</td><td>0.0078492936</td><td>Threonine </td></tr>\n",
              "\t<tr><td>T</td><td>ACG</td><td> 3</td><td>0.0023547881</td><td>Threonine </td></tr>\n",
              "\t<tr><td>T</td><td>ACM</td><td> 1</td><td>0.0007849294</td><td>Threonine </td></tr>\n",
              "\t<tr><td>T</td><td>ACT</td><td>44</td><td>0.0345368917</td><td>Threonine </td></tr>\n",
              "\t<tr><td>V</td><td>GTA</td><td>15</td><td>0.0117739403</td><td>Valine    </td></tr>\n",
              "\t<tr><td>V</td><td>GTC</td><td>21</td><td>0.0164835165</td><td>Valine    </td></tr>\n",
              "\t<tr><td>V</td><td>GTG</td><td>13</td><td>0.0102040816</td><td>Valine    </td></tr>\n",
              "\t<tr><td>V</td><td>GTT</td><td>48</td><td>0.0376766091</td><td>Valine    </td></tr>\n",
              "\t<tr><td>W</td><td>TGG</td><td>12</td><td>0.0094191523</td><td>Tryptophan</td></tr>\n",
              "\t<tr><td>Y</td><td>TAC</td><td>14</td><td>0.0109890110</td><td>Tyrosine  </td></tr>\n",
              "\t<tr><td>Y</td><td>TAT</td><td>40</td><td>0.0313971743</td><td>Tyrosine  </td></tr>\n",
              "</tbody>\n",
              "</table>\n"
            ],
            "text/markdown": "\nA data.frame: 61 × 5\n\n| AminoAcid &lt;fct&gt; | Codon &lt;fct&gt; | Count &lt;int&gt; | Probability &lt;dbl&gt; | FullName &lt;chr&gt; |\n|---|---|---|---|---|\n| * | TAA |  1 | 0.0007849294 | End           |\n| A | GCA | 27 | 0.0211930926 | Alanine       |\n| A | GCC |  9 | 0.0070643642 | Alanine       |\n| A | GCG |  2 | 0.0015698587 | Alanine       |\n| A | GCT | 41 | 0.0321821036 | Alanine       |\n| C | TGC | 12 | 0.0094191523 | Cysteine      |\n| C | TGT | 28 | 0.0219780220 | Cysteine      |\n| D | GAC | 18 | 0.0141287284 | Aspartic Acid |\n| D | GAT | 43 | 0.0337519623 | Aspartic Acid |\n| E | GAA | 34 | 0.0266875981 | Glutamic Acid |\n| E | GAG | 14 | 0.0109890110 | Glutamic Acid |\n| F | TTC | 18 | 0.0141287284 | Phenylalanine |\n| F | TTT | 59 | 0.0463108320 | Phenylalanine |\n| G | GGA | 17 | 0.0133437991 | Glycine       |\n| G | GGC | 15 | 0.0117739403 | Glycine       |\n| G | GGG |  3 | 0.0023547881 | Glycine       |\n| G | GGT | 48 | 0.0376766091 | Glycine       |\n| H | CAC |  4 | 0.0031397174 | Histidine     |\n| H | CAT | 13 | 0.0102040816 | Histidine     |\n| I | ATA | 18 | 0.0141287284 | Isoleucine    |\n| I | ATC | 14 | 0.0109890110 | Isoleucine    |\n| I | ATT | 44 | 0.0345368917 | Isoleucine    |\n| K | AAA | 38 | 0.0298273155 | Lysine        |\n| K | AAG | 23 | 0.0180533752 | Lysine        |\n| L | CTA |  9 | 0.0070643642 | Leucine       |\n| L | CTC | 12 | 0.0094191523 | Leucine       |\n| L | CTG |  3 | 0.0023547881 | Leucine       |\n| L | CTT | 36 | 0.0282574568 | Leucine       |\n| L | TTA | 28 | 0.0219780220 | Leucine       |\n| L | TTG | 20 | 0.0156985871 | Leucine       |\n| ⋮ | ⋮ | ⋮ | ⋮ | ⋮ |\n| N | AAC | 34 | 0.0266875981 | Asparagine |\n| N | AAT | 54 | 0.0423861852 | Asparagine |\n| P | CCA | 25 | 0.0196232339 | Proline    |\n| P | CCC |  4 | 0.0031397174 | Proline    |\n| P | CCT | 29 | 0.0227629513 | Proline    |\n| Q | CAA | 46 | 0.0361067504 | Glutamine  |\n| Q | CAG | 16 | 0.0125588697 | Glutamine  |\n| R | AGA | 20 | 0.0156985871 | Arginine   |\n| R | AGG | 10 | 0.0078492936 | Arginine   |\n| R | CGC |  1 | 0.0007849294 | Arginine   |\n| R | CGG |  2 | 0.0015698587 | Arginine   |\n| R | CGT |  9 | 0.0070643642 | Arginine   |\n| S | AGC |  5 | 0.0039246468 | Serine     |\n| S | AGT | 17 | 0.0133437991 | Serine     |\n| S | TCA | 26 | 0.0204081633 | Serine     |\n| S | TCC | 12 | 0.0094191523 | Serine     |\n| S | TCG |  2 | 0.0015698587 | Serine     |\n| S | TCT | 37 | 0.0290423862 | Serine     |\n| T | ACA | 39 | 0.0306122449 | Threonine  |\n| T | ACC | 10 | 0.0078492936 | Threonine  |\n| T | ACG |  3 | 0.0023547881 | Threonine  |\n| T | ACM |  1 | 0.0007849294 | Threonine  |\n| T | ACT | 44 | 0.0345368917 | Threonine  |\n| V | GTA | 15 | 0.0117739403 | Valine     |\n| V | GTC | 21 | 0.0164835165 | Valine     |\n| V | GTG | 13 | 0.0102040816 | Valine     |\n| V | GTT | 48 | 0.0376766091 | Valine     |\n| W | TGG | 12 | 0.0094191523 | Tryptophan |\n| Y | TAC | 14 | 0.0109890110 | Tyrosine   |\n| Y | TAT | 40 | 0.0313971743 | Tyrosine   |\n\n",
            "text/latex": "A data.frame: 61 × 5\n\\begin{tabular}{lllll}\n AminoAcid & Codon & Count & Probability & FullName\\\\\n <fct> & <fct> & <int> & <dbl> & <chr>\\\\\n\\hline\n\t * & TAA &  1 & 0.0007849294 & End          \\\\\n\t A & GCA & 27 & 0.0211930926 & Alanine      \\\\\n\t A & GCC &  9 & 0.0070643642 & Alanine      \\\\\n\t A & GCG &  2 & 0.0015698587 & Alanine      \\\\\n\t A & GCT & 41 & 0.0321821036 & Alanine      \\\\\n\t C & TGC & 12 & 0.0094191523 & Cysteine     \\\\\n\t C & TGT & 28 & 0.0219780220 & Cysteine     \\\\\n\t D & GAC & 18 & 0.0141287284 & Aspartic Acid\\\\\n\t D & GAT & 43 & 0.0337519623 & Aspartic Acid\\\\\n\t E & GAA & 34 & 0.0266875981 & Glutamic Acid\\\\\n\t E & GAG & 14 & 0.0109890110 & Glutamic Acid\\\\\n\t F & TTC & 18 & 0.0141287284 & Phenylalanine\\\\\n\t F & TTT & 59 & 0.0463108320 & Phenylalanine\\\\\n\t G & GGA & 17 & 0.0133437991 & Glycine      \\\\\n\t G & GGC & 15 & 0.0117739403 & Glycine      \\\\\n\t G & GGG &  3 & 0.0023547881 & Glycine      \\\\\n\t G & GGT & 48 & 0.0376766091 & Glycine      \\\\\n\t H & CAC &  4 & 0.0031397174 & Histidine    \\\\\n\t H & CAT & 13 & 0.0102040816 & Histidine    \\\\\n\t I & ATA & 18 & 0.0141287284 & Isoleucine   \\\\\n\t I & ATC & 14 & 0.0109890110 & Isoleucine   \\\\\n\t I & ATT & 44 & 0.0345368917 & Isoleucine   \\\\\n\t K & AAA & 38 & 0.0298273155 & Lysine       \\\\\n\t K & AAG & 23 & 0.0180533752 & Lysine       \\\\\n\t L & CTA &  9 & 0.0070643642 & Leucine      \\\\\n\t L & CTC & 12 & 0.0094191523 & Leucine      \\\\\n\t L & CTG &  3 & 0.0023547881 & Leucine      \\\\\n\t L & CTT & 36 & 0.0282574568 & Leucine      \\\\\n\t L & TTA & 28 & 0.0219780220 & Leucine      \\\\\n\t L & TTG & 20 & 0.0156985871 & Leucine      \\\\\n\t ⋮ & ⋮ & ⋮ & ⋮ & ⋮\\\\\n\t N & AAC & 34 & 0.0266875981 & Asparagine\\\\\n\t N & AAT & 54 & 0.0423861852 & Asparagine\\\\\n\t P & CCA & 25 & 0.0196232339 & Proline   \\\\\n\t P & CCC &  4 & 0.0031397174 & Proline   \\\\\n\t P & CCT & 29 & 0.0227629513 & Proline   \\\\\n\t Q & CAA & 46 & 0.0361067504 & Glutamine \\\\\n\t Q & CAG & 16 & 0.0125588697 & Glutamine \\\\\n\t R & AGA & 20 & 0.0156985871 & Arginine  \\\\\n\t R & AGG & 10 & 0.0078492936 & Arginine  \\\\\n\t R & CGC &  1 & 0.0007849294 & Arginine  \\\\\n\t R & CGG &  2 & 0.0015698587 & Arginine  \\\\\n\t R & CGT &  9 & 0.0070643642 & Arginine  \\\\\n\t S & AGC &  5 & 0.0039246468 & Serine    \\\\\n\t S & AGT & 17 & 0.0133437991 & Serine    \\\\\n\t S & TCA & 26 & 0.0204081633 & Serine    \\\\\n\t S & TCC & 12 & 0.0094191523 & Serine    \\\\\n\t S & TCG &  2 & 0.0015698587 & Serine    \\\\\n\t S & TCT & 37 & 0.0290423862 & Serine    \\\\\n\t T & ACA & 39 & 0.0306122449 & Threonine \\\\\n\t T & ACC & 10 & 0.0078492936 & Threonine \\\\\n\t T & ACG &  3 & 0.0023547881 & Threonine \\\\\n\t T & ACM &  1 & 0.0007849294 & Threonine \\\\\n\t T & ACT & 44 & 0.0345368917 & Threonine \\\\\n\t V & GTA & 15 & 0.0117739403 & Valine    \\\\\n\t V & GTC & 21 & 0.0164835165 & Valine    \\\\\n\t V & GTG & 13 & 0.0102040816 & Valine    \\\\\n\t V & GTT & 48 & 0.0376766091 & Valine    \\\\\n\t W & TGG & 12 & 0.0094191523 & Tryptophan\\\\\n\t Y & TAC & 14 & 0.0109890110 & Tyrosine  \\\\\n\t Y & TAT & 40 & 0.0313971743 & Tyrosine  \\\\\n\\end{tabular}\n",
            "text/plain": [
              "   AminoAcid Codon Count Probability  FullName     \n",
              "1  *         TAA    1    0.0007849294 End          \n",
              "2  A         GCA   27    0.0211930926 Alanine      \n",
              "3  A         GCC    9    0.0070643642 Alanine      \n",
              "4  A         GCG    2    0.0015698587 Alanine      \n",
              "5  A         GCT   41    0.0321821036 Alanine      \n",
              "6  C         TGC   12    0.0094191523 Cysteine     \n",
              "7  C         TGT   28    0.0219780220 Cysteine     \n",
              "8  D         GAC   18    0.0141287284 Aspartic Acid\n",
              "9  D         GAT   43    0.0337519623 Aspartic Acid\n",
              "10 E         GAA   34    0.0266875981 Glutamic Acid\n",
              "11 E         GAG   14    0.0109890110 Glutamic Acid\n",
              "12 F         TTC   18    0.0141287284 Phenylalanine\n",
              "13 F         TTT   59    0.0463108320 Phenylalanine\n",
              "14 G         GGA   17    0.0133437991 Glycine      \n",
              "15 G         GGC   15    0.0117739403 Glycine      \n",
              "16 G         GGG    3    0.0023547881 Glycine      \n",
              "17 G         GGT   48    0.0376766091 Glycine      \n",
              "18 H         CAC    4    0.0031397174 Histidine    \n",
              "19 H         CAT   13    0.0102040816 Histidine    \n",
              "20 I         ATA   18    0.0141287284 Isoleucine   \n",
              "21 I         ATC   14    0.0109890110 Isoleucine   \n",
              "22 I         ATT   44    0.0345368917 Isoleucine   \n",
              "23 K         AAA   38    0.0298273155 Lysine       \n",
              "24 K         AAG   23    0.0180533752 Lysine       \n",
              "25 L         CTA    9    0.0070643642 Leucine      \n",
              "26 L         CTC   12    0.0094191523 Leucine      \n",
              "27 L         CTG    3    0.0023547881 Leucine      \n",
              "28 L         CTT   36    0.0282574568 Leucine      \n",
              "29 L         TTA   28    0.0219780220 Leucine      \n",
              "30 L         TTG   20    0.0156985871 Leucine      \n",
              "⋮  ⋮         ⋮     ⋮     ⋮            ⋮            \n",
              "32 N         AAC   34    0.0266875981 Asparagine   \n",
              "33 N         AAT   54    0.0423861852 Asparagine   \n",
              "34 P         CCA   25    0.0196232339 Proline      \n",
              "35 P         CCC    4    0.0031397174 Proline      \n",
              "36 P         CCT   29    0.0227629513 Proline      \n",
              "37 Q         CAA   46    0.0361067504 Glutamine    \n",
              "38 Q         CAG   16    0.0125588697 Glutamine    \n",
              "39 R         AGA   20    0.0156985871 Arginine     \n",
              "40 R         AGG   10    0.0078492936 Arginine     \n",
              "41 R         CGC    1    0.0007849294 Arginine     \n",
              "42 R         CGG    2    0.0015698587 Arginine     \n",
              "43 R         CGT    9    0.0070643642 Arginine     \n",
              "44 S         AGC    5    0.0039246468 Serine       \n",
              "45 S         AGT   17    0.0133437991 Serine       \n",
              "46 S         TCA   26    0.0204081633 Serine       \n",
              "47 S         TCC   12    0.0094191523 Serine       \n",
              "48 S         TCG    2    0.0015698587 Serine       \n",
              "49 S         TCT   37    0.0290423862 Serine       \n",
              "50 T         ACA   39    0.0306122449 Threonine    \n",
              "51 T         ACC   10    0.0078492936 Threonine    \n",
              "52 T         ACG    3    0.0023547881 Threonine    \n",
              "53 T         ACM    1    0.0007849294 Threonine    \n",
              "54 T         ACT   44    0.0345368917 Threonine    \n",
              "55 V         GTA   15    0.0117739403 Valine       \n",
              "56 V         GTC   21    0.0164835165 Valine       \n",
              "57 V         GTG   13    0.0102040816 Valine       \n",
              "58 V         GTT   48    0.0376766091 Valine       \n",
              "59 W         TGG   12    0.0094191523 Tryptophan   \n",
              "60 Y         TAC   14    0.0109890110 Tyrosine     \n",
              "61 Y         TAT   40    0.0313971743 Tyrosine     "
            ]
          },
          "metadata": {}
        }
      ]
    },
    {
      "cell_type": "code",
      "source": [
        "# Write the result to a CSV file\n",
        "write.csv(codon_usage, \"/content/codon_usage.csv\")"
      ],
      "metadata": {
        "id": "ZcLrRxqi-VlC"
      },
      "execution_count": 22,
      "outputs": []
    },
    {
      "cell_type": "code",
      "source": [],
      "metadata": {
        "id": "WISHTOaUEbrS"
      },
      "execution_count": 23,
      "outputs": []
    }
  ]
}